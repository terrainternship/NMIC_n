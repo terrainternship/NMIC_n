{
  "nbformat": 4,
  "nbformat_minor": 0,
  "metadata": {
    "colab": {
      "provenance": []
    },
    "kernelspec": {
      "name": "python3",
      "display_name": "Python 3"
    },
    "language_info": {
      "name": "python"
    }
  },
  "cells": [
    {
      "cell_type": "code",
      "source": [
        "! pip install tensorflow autokeras\n",
        "! pip install python-telegram-bot==13.3"
      ],
      "metadata": {
        "id": "RX8wxpNBK10X",
        "colab": {
          "base_uri": "https://localhost:8080/"
        },
        "outputId": "66d2cfd0-4cb0-4ee9-bf32-2718ea0cd3e1"
      },
      "execution_count": 11,
      "outputs": [
        {
          "output_type": "stream",
          "name": "stdout",
          "text": [
            "Requirement already satisfied: tensorflow in /usr/local/lib/python3.10/dist-packages (2.15.0)\n",
            "Requirement already satisfied: autokeras in /usr/local/lib/python3.10/dist-packages (1.1.0)\n",
            "Requirement already satisfied: absl-py>=1.0.0 in /usr/local/lib/python3.10/dist-packages (from tensorflow) (1.4.0)\n",
            "Requirement already satisfied: astunparse>=1.6.0 in /usr/local/lib/python3.10/dist-packages (from tensorflow) (1.6.3)\n",
            "Requirement already satisfied: flatbuffers>=23.5.26 in /usr/local/lib/python3.10/dist-packages (from tensorflow) (23.5.26)\n",
            "Requirement already satisfied: gast!=0.5.0,!=0.5.1,!=0.5.2,>=0.2.1 in /usr/local/lib/python3.10/dist-packages (from tensorflow) (0.5.4)\n",
            "Requirement already satisfied: google-pasta>=0.1.1 in /usr/local/lib/python3.10/dist-packages (from tensorflow) (0.2.0)\n",
            "Requirement already satisfied: h5py>=2.9.0 in /usr/local/lib/python3.10/dist-packages (from tensorflow) (3.9.0)\n",
            "Requirement already satisfied: libclang>=13.0.0 in /usr/local/lib/python3.10/dist-packages (from tensorflow) (16.0.6)\n",
            "Requirement already satisfied: ml-dtypes~=0.2.0 in /usr/local/lib/python3.10/dist-packages (from tensorflow) (0.2.0)\n",
            "Requirement already satisfied: numpy<2.0.0,>=1.23.5 in /usr/local/lib/python3.10/dist-packages (from tensorflow) (1.23.5)\n",
            "Requirement already satisfied: opt-einsum>=2.3.2 in /usr/local/lib/python3.10/dist-packages (from tensorflow) (3.3.0)\n",
            "Requirement already satisfied: packaging in /usr/local/lib/python3.10/dist-packages (from tensorflow) (23.2)\n",
            "Requirement already satisfied: protobuf!=4.21.0,!=4.21.1,!=4.21.2,!=4.21.3,!=4.21.4,!=4.21.5,<5.0.0dev,>=3.20.3 in /usr/local/lib/python3.10/dist-packages (from tensorflow) (3.20.3)\n",
            "Requirement already satisfied: setuptools in /usr/local/lib/python3.10/dist-packages (from tensorflow) (67.7.2)\n",
            "Requirement already satisfied: six>=1.12.0 in /usr/local/lib/python3.10/dist-packages (from tensorflow) (1.16.0)\n",
            "Requirement already satisfied: termcolor>=1.1.0 in /usr/local/lib/python3.10/dist-packages (from tensorflow) (2.4.0)\n",
            "Requirement already satisfied: typing-extensions>=3.6.6 in /usr/local/lib/python3.10/dist-packages (from tensorflow) (4.5.0)\n",
            "Requirement already satisfied: wrapt<1.15,>=1.11.0 in /usr/local/lib/python3.10/dist-packages (from tensorflow) (1.14.1)\n",
            "Requirement already satisfied: tensorflow-io-gcs-filesystem>=0.23.1 in /usr/local/lib/python3.10/dist-packages (from tensorflow) (0.34.0)\n",
            "Requirement already satisfied: grpcio<2.0,>=1.24.3 in /usr/local/lib/python3.10/dist-packages (from tensorflow) (1.60.0)\n",
            "Requirement already satisfied: tensorboard<2.16,>=2.15 in /usr/local/lib/python3.10/dist-packages (from tensorflow) (2.15.1)\n",
            "Requirement already satisfied: tensorflow-estimator<2.16,>=2.15.0 in /usr/local/lib/python3.10/dist-packages (from tensorflow) (2.15.0)\n",
            "Requirement already satisfied: keras<2.16,>=2.15.0 in /usr/local/lib/python3.10/dist-packages (from tensorflow) (2.15.0)\n",
            "Requirement already satisfied: keras-tuner>=1.1.0 in /usr/local/lib/python3.10/dist-packages (from autokeras) (1.4.6)\n",
            "Requirement already satisfied: keras-nlp>=0.4.0 in /usr/local/lib/python3.10/dist-packages (from autokeras) (0.6.4)\n",
            "Requirement already satisfied: pandas in /usr/local/lib/python3.10/dist-packages (from autokeras) (1.5.3)\n",
            "Requirement already satisfied: wheel<1.0,>=0.23.0 in /usr/local/lib/python3.10/dist-packages (from astunparse>=1.6.0->tensorflow) (0.42.0)\n",
            "Requirement already satisfied: keras-core in /usr/local/lib/python3.10/dist-packages (from keras-nlp>=0.4.0->autokeras) (0.1.7)\n",
            "Requirement already satisfied: regex in /usr/local/lib/python3.10/dist-packages (from keras-nlp>=0.4.0->autokeras) (2023.6.3)\n",
            "Requirement already satisfied: rich in /usr/local/lib/python3.10/dist-packages (from keras-nlp>=0.4.0->autokeras) (13.7.0)\n",
            "Requirement already satisfied: dm-tree in /usr/local/lib/python3.10/dist-packages (from keras-nlp>=0.4.0->autokeras) (0.1.8)\n",
            "Requirement already satisfied: tensorflow-text in /usr/local/lib/python3.10/dist-packages (from keras-nlp>=0.4.0->autokeras) (2.15.0)\n",
            "Requirement already satisfied: requests in /usr/local/lib/python3.10/dist-packages (from keras-tuner>=1.1.0->autokeras) (2.31.0)\n",
            "Requirement already satisfied: kt-legacy in /usr/local/lib/python3.10/dist-packages (from keras-tuner>=1.1.0->autokeras) (1.0.5)\n",
            "Requirement already satisfied: google-auth<3,>=1.6.3 in /usr/local/lib/python3.10/dist-packages (from tensorboard<2.16,>=2.15->tensorflow) (2.17.3)\n",
            "Requirement already satisfied: google-auth-oauthlib<2,>=0.5 in /usr/local/lib/python3.10/dist-packages (from tensorboard<2.16,>=2.15->tensorflow) (1.2.0)\n",
            "Requirement already satisfied: markdown>=2.6.8 in /usr/local/lib/python3.10/dist-packages (from tensorboard<2.16,>=2.15->tensorflow) (3.5.1)\n",
            "Requirement already satisfied: tensorboard-data-server<0.8.0,>=0.7.0 in /usr/local/lib/python3.10/dist-packages (from tensorboard<2.16,>=2.15->tensorflow) (0.7.2)\n",
            "Requirement already satisfied: werkzeug>=1.0.1 in /usr/local/lib/python3.10/dist-packages (from tensorboard<2.16,>=2.15->tensorflow) (3.0.1)\n",
            "Requirement already satisfied: python-dateutil>=2.8.1 in /usr/local/lib/python3.10/dist-packages (from pandas->autokeras) (2.8.2)\n",
            "Requirement already satisfied: pytz>=2020.1 in /usr/local/lib/python3.10/dist-packages (from pandas->autokeras) (2023.3.post1)\n",
            "Requirement already satisfied: cachetools<6.0,>=2.0.0 in /usr/local/lib/python3.10/dist-packages (from google-auth<3,>=1.6.3->tensorboard<2.16,>=2.15->tensorflow) (5.3.2)\n",
            "Requirement already satisfied: pyasn1-modules>=0.2.1 in /usr/local/lib/python3.10/dist-packages (from google-auth<3,>=1.6.3->tensorboard<2.16,>=2.15->tensorflow) (0.3.0)\n",
            "Requirement already satisfied: rsa<5,>=3.1.4 in /usr/local/lib/python3.10/dist-packages (from google-auth<3,>=1.6.3->tensorboard<2.16,>=2.15->tensorflow) (4.9)\n",
            "Requirement already satisfied: requests-oauthlib>=0.7.0 in /usr/local/lib/python3.10/dist-packages (from google-auth-oauthlib<2,>=0.5->tensorboard<2.16,>=2.15->tensorflow) (1.3.1)\n",
            "Requirement already satisfied: charset-normalizer<4,>=2 in /usr/local/lib/python3.10/dist-packages (from requests->keras-tuner>=1.1.0->autokeras) (3.3.2)\n",
            "Requirement already satisfied: idna<4,>=2.5 in /usr/local/lib/python3.10/dist-packages (from requests->keras-tuner>=1.1.0->autokeras) (3.6)\n",
            "Requirement already satisfied: urllib3<3,>=1.21.1 in /usr/local/lib/python3.10/dist-packages (from requests->keras-tuner>=1.1.0->autokeras) (2.0.7)\n",
            "Requirement already satisfied: certifi>=2017.4.17 in /usr/local/lib/python3.10/dist-packages (from requests->keras-tuner>=1.1.0->autokeras) (2023.11.17)\n",
            "Requirement already satisfied: MarkupSafe>=2.1.1 in /usr/local/lib/python3.10/dist-packages (from werkzeug>=1.0.1->tensorboard<2.16,>=2.15->tensorflow) (2.1.3)\n",
            "Requirement already satisfied: namex in /usr/local/lib/python3.10/dist-packages (from keras-core->keras-nlp>=0.4.0->autokeras) (0.0.7)\n",
            "Requirement already satisfied: markdown-it-py>=2.2.0 in /usr/local/lib/python3.10/dist-packages (from rich->keras-nlp>=0.4.0->autokeras) (3.0.0)\n",
            "Requirement already satisfied: pygments<3.0.0,>=2.13.0 in /usr/local/lib/python3.10/dist-packages (from rich->keras-nlp>=0.4.0->autokeras) (2.16.1)\n",
            "Requirement already satisfied: tensorflow-hub>=0.13.0 in /usr/local/lib/python3.10/dist-packages (from tensorflow-text->keras-nlp>=0.4.0->autokeras) (0.15.0)\n",
            "Requirement already satisfied: mdurl~=0.1 in /usr/local/lib/python3.10/dist-packages (from markdown-it-py>=2.2.0->rich->keras-nlp>=0.4.0->autokeras) (0.1.2)\n",
            "Requirement already satisfied: pyasn1<0.6.0,>=0.4.6 in /usr/local/lib/python3.10/dist-packages (from pyasn1-modules>=0.2.1->google-auth<3,>=1.6.3->tensorboard<2.16,>=2.15->tensorflow) (0.5.1)\n",
            "Requirement already satisfied: oauthlib>=3.0.0 in /usr/local/lib/python3.10/dist-packages (from requests-oauthlib>=0.7.0->google-auth-oauthlib<2,>=0.5->tensorboard<2.16,>=2.15->tensorflow) (3.2.2)\n",
            "Requirement already satisfied: python-telegram-bot==13.3 in /usr/local/lib/python3.10/dist-packages (13.3)\n",
            "Requirement already satisfied: certifi in /usr/local/lib/python3.10/dist-packages (from python-telegram-bot==13.3) (2023.11.17)\n",
            "Requirement already satisfied: tornado>=5.1 in /usr/local/lib/python3.10/dist-packages (from python-telegram-bot==13.3) (6.3.2)\n",
            "Requirement already satisfied: APScheduler==3.6.3 in /usr/local/lib/python3.10/dist-packages (from python-telegram-bot==13.3) (3.6.3)\n",
            "Requirement already satisfied: pytz>=2018.6 in /usr/local/lib/python3.10/dist-packages (from python-telegram-bot==13.3) (2023.3.post1)\n",
            "Requirement already satisfied: setuptools>=0.7 in /usr/local/lib/python3.10/dist-packages (from APScheduler==3.6.3->python-telegram-bot==13.3) (67.7.2)\n",
            "Requirement already satisfied: six>=1.4.0 in /usr/local/lib/python3.10/dist-packages (from APScheduler==3.6.3->python-telegram-bot==13.3) (1.16.0)\n",
            "Requirement already satisfied: tzlocal>=1.2 in /usr/local/lib/python3.10/dist-packages (from APScheduler==3.6.3->python-telegram-bot==13.3) (5.2)\n"
          ]
        }
      ]
    },
    {
      "cell_type": "code",
      "source": [
        "import logging\n",
        "from telegram import ReplyKeyboardMarkup, Update\n",
        "from telegram.ext import (Updater, CommandHandler, MessageHandler, filters,\n",
        "                          ConversationHandler, CallbackQueryHandler, CallbackContext)\n",
        "from tensorflow.keras.models import load_model\n",
        "import pandas as pd\n",
        "from sklearn.preprocessing import LabelEncoder\n",
        "\n",
        "import joblib\n",
        "import json\n",
        "\n",
        "import autokeras as ak"
      ],
      "metadata": {
        "id": "PUFXHh7C02m9"
      },
      "execution_count": 12,
      "outputs": []
    },
    {
      "cell_type": "code",
      "source": [
        "from google.colab import drive\n",
        "drive.mount('/content/drive')"
      ],
      "metadata": {
        "id": "Nd8xBO2FOrnR",
        "colab": {
          "base_uri": "https://localhost:8080/"
        },
        "outputId": "456e132a-65b5-4431-abde-6ae8b7341646"
      },
      "execution_count": 13,
      "outputs": [
        {
          "output_type": "stream",
          "name": "stdout",
          "text": [
            "Drive already mounted at /content/drive; to attempt to forcibly remount, call drive.mount(\"/content/drive\", force_remount=True).\n"
          ]
        }
      ]
    },
    {
      "cell_type": "code",
      "source": [
        "# Загрузка модели\n",
        "model = load_model('/content/drive/MyDrive/NMIC/autokeras_structured_data_model')\n",
        "\n",
        "# Загрузка label_encoder\n",
        "label_encoder = joblib.load('/content/drive/MyDrive/NMIC/label_encoder.joblib')\n",
        "\n",
        "# Столбцы X_train из JSON файла в список\n",
        "with open('/content/drive/MyDrive/NMIC/columns.json', 'r') as json_file:\n",
        "    train_columns = json.load(json_file)"
      ],
      "metadata": {
        "id": "A2fdg3sk6Eot"
      },
      "execution_count": 14,
      "outputs": []
    },
    {
      "cell_type": "code",
      "source": [
        "data = {\n",
        "    'Раса': ['Азиатская', 'Европейская', 'Другая'],\n",
        "    'Пол': ['Мужской', 'Женский'],\n",
        "    'Возраст': ['До 70', '>70'],\n",
        "    'Статус курения': ['В настоящее время', 'Курение в прошлом (бросил более 1 месяца до 1 года)'],\n",
        "    'ECOG': ['0-1', '2'],\n",
        "    'Есть опухолевая нагрузка? (симптомная опухоль)': ['да', 'нет'],\n",
        "    'Ко-мутации KRAS': ['да', 'нет'],\n",
        "    'Ко-мутации p53.': ['да', 'нет'],\n",
        "    'Ко-мутации STK11': ['да', 'нет'],\n",
        "    'Ко-мутации KEAP1': ['да', 'нет'],\n",
        "    'Срок от окончания ХЛТ': ['до 42 дней', 'от 43 до 60 дней', 'более 61 дня'],\n",
        "    'Молекулярный статус (только для неплоскоклеточного рака)': ['нет мутаций', 'не исследовались', 'EGFR редкий вариант'],\n",
        "    'PD-L1 статус': ['Не исследовался', 'Менее 1%', 'Более 1%'],\n",
        "    'Предпочтение пациента по ответу на терапию': ['Результативность лечения', 'сохранение качества жизни'],\n",
        "}\n",
        "\n",
        "# Названия столбцов для вопросов\n",
        "columns = data.keys()\n",
        "\n",
        "# Словарь для хранения ответов пользователя\n",
        "user_answers = {}\n",
        "\n",
        "# Функции для ConversationHandler\n",
        "def ask_next_column(update: Update, context: CallbackContext) -> None:\n",
        "    current_column = list(data.keys())[len(user_answers)]\n",
        "    reply_keyboard = [data[current_column]]\n",
        "    update.message.reply_text(\n",
        "        f'Выберите значение для столбца \"{current_column}\":',\n",
        "        reply_markup=ReplyKeyboardMarkup(reply_keyboard, one_time_keyboard=True)\n",
        "    )\n",
        "    return 'answer'\n",
        "\n",
        "def receive_answer(update: Update, context: CallbackContext) -> None:\n",
        "    current_column = list(data.keys())[len(user_answers)]\n",
        "    user_answers[current_column] = update.message.text\n",
        "    if len(user_answers) < len(data):\n",
        "        return ask_next_column(update, context)\n",
        "    else:\n",
        "        return end_dialog(update, context)\n",
        "    return 'answer'\n",
        "\n",
        "def end_dialog(update: Update, context: CallbackContext) -> None:\n",
        "    df = pd.DataFrame([user_answers])\n",
        "    df_encoded = pd.get_dummies(df)\n",
        "\n",
        "    # Проверяем и добавляем недостающие столбцы\n",
        "    missing_columns = [col for col in train_columns if col not in df_encoded.columns]\n",
        "    df_encoded = pd.concat([df_encoded, pd.DataFrame(columns=missing_columns)], axis=1)\n",
        "    df_encoded[missing_columns] = 0\n",
        "    df_encoded = df_encoded[train_columns]\n",
        "\n",
        "    prediction = model.predict(df_encoded)\n",
        "    predicted_label = label_encoder.inverse_transform(prediction.argmax(axis=1))\n",
        "\n",
        "    # Форматированный вывод с использованием f-строк\n",
        "    formatted_response = f\"\"\"\n",
        "Ответ эксперта: {predicted_label[0].split('_')[0]}\n",
        "Уверенность: {predicted_label[0].split('_')[1]}\n",
        "Комментарий: {predicted_label[0].split('_')[2]}\n",
        "Альтернатива, если 50% - обязательно: {predicted_label[0].split('_')[3]}\n",
        "\"\"\"\n",
        "    update.message.reply_text(formatted_response)\n",
        "    return ConversationHandler.END\n",
        "\n",
        "def start_dialog(update: Update, context: CallbackContext) -> None:\n",
        "    update.message.reply_text(\"Привет! Я бот для предсказания лечения больных раком легких. Введи данные о пациенте, выбирая нужный ответ на каждый вопрос.\")\n",
        "\n",
        "    return ask_next_column(update, context)\n",
        "\n",
        "# Настройка и запуск ConversationHandler\n",
        "conv_handler = ConversationHandler(\n",
        "    entry_points=[CommandHandler('start', start_dialog)],\n",
        "    states={\n",
        "        'answer': [MessageHandler(filters.Filters.text & ~filters.Filters.command, receive_answer)],\n",
        "    },\n",
        "    fallbacks=[CommandHandler('end', end_dialog)]\n",
        ")\n",
        "\n",
        "# Настройка и запуск бота\n",
        "def main() -> None:\n",
        "    updater = Updater(\"6707634379:AAHNph92ymAQ_vsb5aHLSP6heVMs6jlkEnY\")\n",
        "\n",
        "    dp = updater.dispatcher\n",
        "    dp.add_handler(conv_handler)\n",
        "\n",
        "    updater.start_polling()\n",
        "    updater.idle()\n",
        "\n",
        "if __name__ == '__main__':\n",
        "    main()"
      ],
      "metadata": {
        "id": "jwyMGw98OKLE",
        "colab": {
          "base_uri": "https://localhost:8080/"
        },
        "outputId": "4cc4201d-5afc-4982-c4e8-cff77ae1286c"
      },
      "execution_count": 20,
      "outputs": [
        {
          "output_type": "stream",
          "name": "stdout",
          "text": [
            "1/1 [==============================] - 0s 23ms/step\n"
          ]
        }
      ]
    },
    {
      "cell_type": "code",
      "source": [],
      "metadata": {
        "id": "l9VD4FQ6tNdm"
      },
      "execution_count": 16,
      "outputs": []
    }
  ]
}