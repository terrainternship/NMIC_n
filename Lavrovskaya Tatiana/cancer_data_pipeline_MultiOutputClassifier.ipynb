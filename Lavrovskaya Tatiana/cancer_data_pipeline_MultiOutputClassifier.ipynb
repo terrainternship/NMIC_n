{
  "nbformat": 4,
  "nbformat_minor": 0,
  "metadata": {
    "colab": {
      "provenance": []
    },
    "kernelspec": {
      "name": "python3",
      "display_name": "Python 3"
    },
    "language_info": {
      "name": "python"
    }
  },
  "cells": [
    {
      "cell_type": "code",
      "execution_count": null,
      "metadata": {
        "id": "GIWrh1SNISF6"
      },
      "outputs": [],
      "source": [
        "import pandas as pd\n",
        "import numpy as np\n",
        "\n",
        "import matplotlib.pyplot as plt\n",
        "\n",
        "from sklearn.model_selection import train_test_split\n",
        "from sklearn.preprocessing import StandardScaler\n",
        "from sklearn.compose import ColumnTransformer\n",
        "from sklearn.pipeline import Pipeline\n",
        "from sklearn.impute import SimpleImputer\n",
        "from sklearn.multioutput import MultiOutputClassifier\n",
        "from sklearn.ensemble import RandomForestClassifier\n",
        "from sklearn.preprocessing import OneHotEncoder\n",
        "from sklearn.metrics import accuracy_score, classification_report"
      ]
    },
    {
      "cell_type": "code",
      "source": [
        "from google.colab import drive\n",
        "drive.mount('/content/drive')"
      ],
      "metadata": {
        "colab": {
          "base_uri": "https://localhost:8080/"
        },
        "id": "vs4oPtqBIcuw",
        "outputId": "da368a14-4dab-4f78-dc78-32517701fe2b"
      },
      "execution_count": null,
      "outputs": [
        {
          "output_type": "stream",
          "name": "stdout",
          "text": [
            "Mounted at /content/drive\n"
          ]
        }
      ]
    },
    {
      "cell_type": "code",
      "source": [
        "file_path = f'drive/MyDrive/datasets/Копия отправка_комбинации поддержка после ПХТ 3 стадия.xlsx'"
      ],
      "metadata": {
        "id": "1KUxzs_TIcrK"
      },
      "execution_count": null,
      "outputs": []
    },
    {
      "cell_type": "code",
      "source": [
        "data = pd.read_excel(file_path)"
      ],
      "metadata": {
        "id": "oB1i4F6rIcoq"
      },
      "execution_count": null,
      "outputs": []
    },
    {
      "cell_type": "code",
      "source": [
        "data.head(2)"
      ],
      "metadata": {
        "colab": {
          "base_uri": "https://localhost:8080/",
          "height": 300
        },
        "id": "YUrZ8MutIcl3",
        "outputId": "8030c930-bea9-42d8-d3af-8205734335a0"
      },
      "execution_count": null,
      "outputs": [
        {
          "output_type": "execute_result",
          "data": {
            "text/plain": [
              "   id_ответа       Раса       Пол Возраст      Статус курения  ECOG  \\\n",
              "0          1  Азиатская   Мужской   До 70   В настоящее время   0-1   \n",
              "1          2  Азиатская   Мужской   До 70   В настоящее время   0-1   \n",
              "\n",
              "  Есть опухолевая нагрузка? (симптомная опухоль) Ко-мутации KRAS  \\\n",
              "0                                             да              да   \n",
              "1                                             да              да   \n",
              "\n",
              "  Ко-мутации p53. Ко-мутации STK11  ... Срок от окончания ХЛТ  \\\n",
              "0              да               да  ...            до 42 дней   \n",
              "1              да               да  ...      от 43 до 60 дней   \n",
              "\n",
              "  Молекулярный статус (только для неплоскоклеточного рака)      PD-L1 статус  \\\n",
              "0                                        нет мутаций         Не исследовался   \n",
              "1                                        нет мутаций         Не исследовался   \n",
              "\n",
              "  Предпочтение пациента по ответу на терапию Ответ эксперта (Лактионов)  \\\n",
              "0                   Результативность лечения                 Дурвалумаб   \n",
              "1                   Результативность лечения                 Дурвалумаб   \n",
              "\n",
              "  Поставьте галочку, если уверены на 100%  Если 75%  Если 50%  \\\n",
              "0                                    True     False     False   \n",
              "1                                    True     False     False   \n",
              "\n",
              "   Альтернатива, если 50% - обязательно Комментарий  \n",
              "0                                     0           0  \n",
              "1                                     0           0  \n",
              "\n",
              "[2 rows x 21 columns]"
            ],
            "text/html": [
              "\n",
              "  <div id=\"df-86b40f87-d658-4ae1-bfc2-f17e2965ba20\" class=\"colab-df-container\">\n",
              "    <div>\n",
              "<style scoped>\n",
              "    .dataframe tbody tr th:only-of-type {\n",
              "        vertical-align: middle;\n",
              "    }\n",
              "\n",
              "    .dataframe tbody tr th {\n",
              "        vertical-align: top;\n",
              "    }\n",
              "\n",
              "    .dataframe thead th {\n",
              "        text-align: right;\n",
              "    }\n",
              "</style>\n",
              "<table border=\"1\" class=\"dataframe\">\n",
              "  <thead>\n",
              "    <tr style=\"text-align: right;\">\n",
              "      <th></th>\n",
              "      <th>id_ответа</th>\n",
              "      <th>Раса</th>\n",
              "      <th>Пол</th>\n",
              "      <th>Возраст</th>\n",
              "      <th>Статус курения</th>\n",
              "      <th>ECOG</th>\n",
              "      <th>Есть опухолевая нагрузка? (симптомная опухоль)</th>\n",
              "      <th>Ко-мутации KRAS</th>\n",
              "      <th>Ко-мутации p53.</th>\n",
              "      <th>Ко-мутации STK11</th>\n",
              "      <th>...</th>\n",
              "      <th>Срок от окончания ХЛТ</th>\n",
              "      <th>Молекулярный статус (только для неплоскоклеточного рака)</th>\n",
              "      <th>PD-L1 статус</th>\n",
              "      <th>Предпочтение пациента по ответу на терапию</th>\n",
              "      <th>Ответ эксперта (Лактионов)</th>\n",
              "      <th>Поставьте галочку, если уверены на 100%</th>\n",
              "      <th>Если 75%</th>\n",
              "      <th>Если 50%</th>\n",
              "      <th>Альтернатива, если 50% - обязательно</th>\n",
              "      <th>Комментарий</th>\n",
              "    </tr>\n",
              "  </thead>\n",
              "  <tbody>\n",
              "    <tr>\n",
              "      <th>0</th>\n",
              "      <td>1</td>\n",
              "      <td>Азиатская</td>\n",
              "      <td>Мужской</td>\n",
              "      <td>До 70</td>\n",
              "      <td>В настоящее время</td>\n",
              "      <td>0-1</td>\n",
              "      <td>да</td>\n",
              "      <td>да</td>\n",
              "      <td>да</td>\n",
              "      <td>да</td>\n",
              "      <td>...</td>\n",
              "      <td>до 42 дней</td>\n",
              "      <td>нет мутаций</td>\n",
              "      <td>Не исследовался</td>\n",
              "      <td>Результативность лечения</td>\n",
              "      <td>Дурвалумаб</td>\n",
              "      <td>True</td>\n",
              "      <td>False</td>\n",
              "      <td>False</td>\n",
              "      <td>0</td>\n",
              "      <td>0</td>\n",
              "    </tr>\n",
              "    <tr>\n",
              "      <th>1</th>\n",
              "      <td>2</td>\n",
              "      <td>Азиатская</td>\n",
              "      <td>Мужской</td>\n",
              "      <td>До 70</td>\n",
              "      <td>В настоящее время</td>\n",
              "      <td>0-1</td>\n",
              "      <td>да</td>\n",
              "      <td>да</td>\n",
              "      <td>да</td>\n",
              "      <td>да</td>\n",
              "      <td>...</td>\n",
              "      <td>от 43 до 60 дней</td>\n",
              "      <td>нет мутаций</td>\n",
              "      <td>Не исследовался</td>\n",
              "      <td>Результативность лечения</td>\n",
              "      <td>Дурвалумаб</td>\n",
              "      <td>True</td>\n",
              "      <td>False</td>\n",
              "      <td>False</td>\n",
              "      <td>0</td>\n",
              "      <td>0</td>\n",
              "    </tr>\n",
              "  </tbody>\n",
              "</table>\n",
              "<p>2 rows × 21 columns</p>\n",
              "</div>\n",
              "    <div class=\"colab-df-buttons\">\n",
              "\n",
              "  <div class=\"colab-df-container\">\n",
              "    <button class=\"colab-df-convert\" onclick=\"convertToInteractive('df-86b40f87-d658-4ae1-bfc2-f17e2965ba20')\"\n",
              "            title=\"Convert this dataframe to an interactive table.\"\n",
              "            style=\"display:none;\">\n",
              "\n",
              "  <svg xmlns=\"http://www.w3.org/2000/svg\" height=\"24px\" viewBox=\"0 -960 960 960\">\n",
              "    <path d=\"M120-120v-720h720v720H120Zm60-500h600v-160H180v160Zm220 220h160v-160H400v160Zm0 220h160v-160H400v160ZM180-400h160v-160H180v160Zm440 0h160v-160H620v160ZM180-180h160v-160H180v160Zm440 0h160v-160H620v160Z\"/>\n",
              "  </svg>\n",
              "    </button>\n",
              "\n",
              "  <style>\n",
              "    .colab-df-container {\n",
              "      display:flex;\n",
              "      gap: 12px;\n",
              "    }\n",
              "\n",
              "    .colab-df-convert {\n",
              "      background-color: #E8F0FE;\n",
              "      border: none;\n",
              "      border-radius: 50%;\n",
              "      cursor: pointer;\n",
              "      display: none;\n",
              "      fill: #1967D2;\n",
              "      height: 32px;\n",
              "      padding: 0 0 0 0;\n",
              "      width: 32px;\n",
              "    }\n",
              "\n",
              "    .colab-df-convert:hover {\n",
              "      background-color: #E2EBFA;\n",
              "      box-shadow: 0px 1px 2px rgba(60, 64, 67, 0.3), 0px 1px 3px 1px rgba(60, 64, 67, 0.15);\n",
              "      fill: #174EA6;\n",
              "    }\n",
              "\n",
              "    .colab-df-buttons div {\n",
              "      margin-bottom: 4px;\n",
              "    }\n",
              "\n",
              "    [theme=dark] .colab-df-convert {\n",
              "      background-color: #3B4455;\n",
              "      fill: #D2E3FC;\n",
              "    }\n",
              "\n",
              "    [theme=dark] .colab-df-convert:hover {\n",
              "      background-color: #434B5C;\n",
              "      box-shadow: 0px 1px 3px 1px rgba(0, 0, 0, 0.15);\n",
              "      filter: drop-shadow(0px 1px 2px rgba(0, 0, 0, 0.3));\n",
              "      fill: #FFFFFF;\n",
              "    }\n",
              "  </style>\n",
              "\n",
              "    <script>\n",
              "      const buttonEl =\n",
              "        document.querySelector('#df-86b40f87-d658-4ae1-bfc2-f17e2965ba20 button.colab-df-convert');\n",
              "      buttonEl.style.display =\n",
              "        google.colab.kernel.accessAllowed ? 'block' : 'none';\n",
              "\n",
              "      async function convertToInteractive(key) {\n",
              "        const element = document.querySelector('#df-86b40f87-d658-4ae1-bfc2-f17e2965ba20');\n",
              "        const dataTable =\n",
              "          await google.colab.kernel.invokeFunction('convertToInteractive',\n",
              "                                                    [key], {});\n",
              "        if (!dataTable) return;\n",
              "\n",
              "        const docLinkHtml = 'Like what you see? Visit the ' +\n",
              "          '<a target=\"_blank\" href=https://colab.research.google.com/notebooks/data_table.ipynb>data table notebook</a>'\n",
              "          + ' to learn more about interactive tables.';\n",
              "        element.innerHTML = '';\n",
              "        dataTable['output_type'] = 'display_data';\n",
              "        await google.colab.output.renderOutput(dataTable, element);\n",
              "        const docLink = document.createElement('div');\n",
              "        docLink.innerHTML = docLinkHtml;\n",
              "        element.appendChild(docLink);\n",
              "      }\n",
              "    </script>\n",
              "  </div>\n",
              "\n",
              "\n",
              "<div id=\"df-f7842425-24d4-428b-9bcc-67ec145fd7b5\">\n",
              "  <button class=\"colab-df-quickchart\" onclick=\"quickchart('df-f7842425-24d4-428b-9bcc-67ec145fd7b5')\"\n",
              "            title=\"Suggest charts\"\n",
              "            style=\"display:none;\">\n",
              "\n",
              "<svg xmlns=\"http://www.w3.org/2000/svg\" height=\"24px\"viewBox=\"0 0 24 24\"\n",
              "     width=\"24px\">\n",
              "    <g>\n",
              "        <path d=\"M19 3H5c-1.1 0-2 .9-2 2v14c0 1.1.9 2 2 2h14c1.1 0 2-.9 2-2V5c0-1.1-.9-2-2-2zM9 17H7v-7h2v7zm4 0h-2V7h2v10zm4 0h-2v-4h2v4z\"/>\n",
              "    </g>\n",
              "</svg>\n",
              "  </button>\n",
              "\n",
              "<style>\n",
              "  .colab-df-quickchart {\n",
              "      --bg-color: #E8F0FE;\n",
              "      --fill-color: #1967D2;\n",
              "      --hover-bg-color: #E2EBFA;\n",
              "      --hover-fill-color: #174EA6;\n",
              "      --disabled-fill-color: #AAA;\n",
              "      --disabled-bg-color: #DDD;\n",
              "  }\n",
              "\n",
              "  [theme=dark] .colab-df-quickchart {\n",
              "      --bg-color: #3B4455;\n",
              "      --fill-color: #D2E3FC;\n",
              "      --hover-bg-color: #434B5C;\n",
              "      --hover-fill-color: #FFFFFF;\n",
              "      --disabled-bg-color: #3B4455;\n",
              "      --disabled-fill-color: #666;\n",
              "  }\n",
              "\n",
              "  .colab-df-quickchart {\n",
              "    background-color: var(--bg-color);\n",
              "    border: none;\n",
              "    border-radius: 50%;\n",
              "    cursor: pointer;\n",
              "    display: none;\n",
              "    fill: var(--fill-color);\n",
              "    height: 32px;\n",
              "    padding: 0;\n",
              "    width: 32px;\n",
              "  }\n",
              "\n",
              "  .colab-df-quickchart:hover {\n",
              "    background-color: var(--hover-bg-color);\n",
              "    box-shadow: 0 1px 2px rgba(60, 64, 67, 0.3), 0 1px 3px 1px rgba(60, 64, 67, 0.15);\n",
              "    fill: var(--button-hover-fill-color);\n",
              "  }\n",
              "\n",
              "  .colab-df-quickchart-complete:disabled,\n",
              "  .colab-df-quickchart-complete:disabled:hover {\n",
              "    background-color: var(--disabled-bg-color);\n",
              "    fill: var(--disabled-fill-color);\n",
              "    box-shadow: none;\n",
              "  }\n",
              "\n",
              "  .colab-df-spinner {\n",
              "    border: 2px solid var(--fill-color);\n",
              "    border-color: transparent;\n",
              "    border-bottom-color: var(--fill-color);\n",
              "    animation:\n",
              "      spin 1s steps(1) infinite;\n",
              "  }\n",
              "\n",
              "  @keyframes spin {\n",
              "    0% {\n",
              "      border-color: transparent;\n",
              "      border-bottom-color: var(--fill-color);\n",
              "      border-left-color: var(--fill-color);\n",
              "    }\n",
              "    20% {\n",
              "      border-color: transparent;\n",
              "      border-left-color: var(--fill-color);\n",
              "      border-top-color: var(--fill-color);\n",
              "    }\n",
              "    30% {\n",
              "      border-color: transparent;\n",
              "      border-left-color: var(--fill-color);\n",
              "      border-top-color: var(--fill-color);\n",
              "      border-right-color: var(--fill-color);\n",
              "    }\n",
              "    40% {\n",
              "      border-color: transparent;\n",
              "      border-right-color: var(--fill-color);\n",
              "      border-top-color: var(--fill-color);\n",
              "    }\n",
              "    60% {\n",
              "      border-color: transparent;\n",
              "      border-right-color: var(--fill-color);\n",
              "    }\n",
              "    80% {\n",
              "      border-color: transparent;\n",
              "      border-right-color: var(--fill-color);\n",
              "      border-bottom-color: var(--fill-color);\n",
              "    }\n",
              "    90% {\n",
              "      border-color: transparent;\n",
              "      border-bottom-color: var(--fill-color);\n",
              "    }\n",
              "  }\n",
              "</style>\n",
              "\n",
              "  <script>\n",
              "    async function quickchart(key) {\n",
              "      const quickchartButtonEl =\n",
              "        document.querySelector('#' + key + ' button');\n",
              "      quickchartButtonEl.disabled = true;  // To prevent multiple clicks.\n",
              "      quickchartButtonEl.classList.add('colab-df-spinner');\n",
              "      try {\n",
              "        const charts = await google.colab.kernel.invokeFunction(\n",
              "            'suggestCharts', [key], {});\n",
              "      } catch (error) {\n",
              "        console.error('Error during call to suggestCharts:', error);\n",
              "      }\n",
              "      quickchartButtonEl.classList.remove('colab-df-spinner');\n",
              "      quickchartButtonEl.classList.add('colab-df-quickchart-complete');\n",
              "    }\n",
              "    (() => {\n",
              "      let quickchartButtonEl =\n",
              "        document.querySelector('#df-f7842425-24d4-428b-9bcc-67ec145fd7b5 button');\n",
              "      quickchartButtonEl.style.display =\n",
              "        google.colab.kernel.accessAllowed ? 'block' : 'none';\n",
              "    })();\n",
              "  </script>\n",
              "</div>\n",
              "    </div>\n",
              "  </div>\n"
            ]
          },
          "metadata": {},
          "execution_count": 5
        }
      ]
    },
    {
      "cell_type": "code",
      "source": [
        "data.drop(columns=['id_ответа', 'Комментарий', 'Альтернатива, если 50% - обязательно'], inplace=True)"
      ],
      "metadata": {
        "id": "OTzor809Icjl"
      },
      "execution_count": null,
      "outputs": []
    },
    {
      "cell_type": "code",
      "source": [
        "for col in data.columns:\n",
        "    print(f'{col}: {data[col].unique()}')"
      ],
      "metadata": {
        "colab": {
          "base_uri": "https://localhost:8080/"
        },
        "id": "tA0XLgBEIcgy",
        "outputId": "70a147d6-40b6-40b8-e273-63a5da9b5ae9"
      },
      "execution_count": null,
      "outputs": [
        {
          "output_type": "stream",
          "name": "stdout",
          "text": [
            "Уникальные значения столбца Раса: ['Азиатская' 'Европейская' 'Другая']\n",
            "Уникальные значения столбца Пол: [' Мужской' ' Женский']\n",
            "Уникальные значения столбца Возраст: [' До 70' ' >70']\n",
            "Уникальные значения столбца Статус курения: [' В настоящее время'\n",
            " ' Курение в прошлом (бросил более 1 месяца до 1 года)'\n",
            " ' Курение в прошлом (бросил более 1 года)']\n",
            "Уникальные значения столбца ECOG: [' 0-1' 2]\n",
            "Уникальные значения столбца Есть опухолевая нагрузка? (симптомная опухоль): [' да' ' нет']\n",
            "Уникальные значения столбца Ко-мутации KRAS: [' да' ' нет']\n",
            "Уникальные значения столбца Ко-мутации p53.: [' да' ' нет']\n",
            "Уникальные значения столбца Ко-мутации STK11: [' да' ' нет']\n",
            "Уникальные значения столбца Ко-мутации KEAP1: [' да' ' нет']\n",
            "Уникальные значения столбца Срок от окончания ХЛТ: ['до 42 дней' 'от 43 до 60 дней' 'более 61 дня']\n",
            "Уникальные значения столбца Молекулярный статус (только для неплоскоклеточного рака): [' нет мутаций' ' не исследовались' ' EGFR редкий вариант' ' EGFR ex19'\n",
            " ' EGFR ex21' ' ALK позитивный']\n",
            "Уникальные значения столбца PD-L1 статус: [' Не исследовался' ' Менее 1%' ' Более 1%']\n",
            "Уникальные значения столбца Предпочтение пациента по ответу на терапию: [' Результативность лечения' ' сохранение качества жизни']\n",
            "Уникальные значения столбца Ответ эксперта (Лактионов): ['Дурвалумаб' 'Наблюдение' 'Осимертиниб' 'Алектиниб']\n",
            "Уникальные значения столбца Поставьте галочку, если уверены на 100%: [ True False]\n",
            "Уникальные значения столбца Если 75%: [False  True]\n",
            "Уникальные значения столбца Если 50%: [False  True]\n"
          ]
        }
      ]
    },
    {
      "cell_type": "code",
      "source": [
        "df = data.copy()"
      ],
      "metadata": {
        "id": "GSHnJZiOJT5B"
      },
      "execution_count": null,
      "outputs": []
    },
    {
      "cell_type": "code",
      "source": [
        "df['ECOG'] = df['ECOG'].astype(str)"
      ],
      "metadata": {
        "id": "k4mY7JwpKXIV"
      },
      "execution_count": null,
      "outputs": []
    },
    {
      "cell_type": "code",
      "source": [
        "df.ECOG.unique()"
      ],
      "metadata": {
        "colab": {
          "base_uri": "https://localhost:8080/"
        },
        "id": "esGHI5nzKmw9",
        "outputId": "2edf48a4-c644-487f-f804-0952db0b521b"
      },
      "execution_count": null,
      "outputs": [
        {
          "output_type": "execute_result",
          "data": {
            "text/plain": [
              "array([' 0-1', '2'], dtype=object)"
            ]
          },
          "metadata": {},
          "execution_count": 13
        }
      ]
    },
    {
      "cell_type": "code",
      "source": [
        "df.dtypes"
      ],
      "metadata": {
        "colab": {
          "base_uri": "https://localhost:8080/"
        },
        "id": "XjLZeBhoJ9jk",
        "outputId": "60b91027-4335-48a0-9dc6-6940015b2d1e"
      },
      "execution_count": null,
      "outputs": [
        {
          "output_type": "execute_result",
          "data": {
            "text/plain": [
              "Раса                                                        object\n",
              "Пол                                                         object\n",
              "Возраст                                                     object\n",
              "Статус курения                                              object\n",
              "ECOG                                                        object\n",
              "Есть опухолевая нагрузка? (симптомная опухоль)              object\n",
              "Ко-мутации KRAS                                             object\n",
              "Ко-мутации p53.                                             object\n",
              "Ко-мутации STK11                                            object\n",
              "Ко-мутации KEAP1                                            object\n",
              "Срок от окончания ХЛТ                                       object\n",
              "Молекулярный статус (только для неплоскоклеточного рака)    object\n",
              "PD-L1 статус                                                object\n",
              "Предпочтение пациента по ответу на терапию                  object\n",
              "Ответ эксперта (Лактионов)                                  object\n",
              "Поставьте галочку, если уверены на 100%                       bool\n",
              "Если 75%                                                      bool\n",
              "Если 50%                                                      bool\n",
              "dtype: object"
            ]
          },
          "metadata": {},
          "execution_count": 10
        }
      ]
    },
    {
      "cell_type": "code",
      "source": [
        "# Разделяем на фичи и таргеты (отдельно ответ эксперта, отдельно уверенность)\n",
        "\n",
        "X = df.drop(['Ответ эксперта (Лактионов)', 'Поставьте галочку, если уверены на 100%', 'Если 75%', 'Если 50%'], axis=1)\n",
        "y_treatment = df['Ответ эксперта (Лактионов)']\n",
        "y_confidence = df[['Поставьте галочку, если уверены на 100%', 'Если 75%', 'Если 50%']]\n",
        "\n",
        "# Разделяем данные на обучающий и тестовый наборы\n",
        "X_train, X_test, y_treatment_train, y_treatment_test, y_confidence_train, y_confidence_test = train_test_split(\n",
        "    X, y_treatment, y_confidence, test_size=0.2, random_state=42\n",
        ")\n",
        "\n",
        "# Создаем трансформаторы для числовых и категориальных признаков\n",
        "categorical_features = X.select_dtypes(include=['object']).columns\n",
        "\n",
        "categorical_transformer = Pipeline(steps=[\n",
        "    ('imputer', SimpleImputer(strategy='constant', fill_value='missing')),\n",
        "    ('onehot', OneHotEncoder(handle_unknown='ignore'))\n",
        "])\n",
        "\n",
        "# Комбинируем трансформаторы\n",
        "preprocessor = ColumnTransformer(\n",
        "    transformers=[\n",
        "        ('cat', categorical_transformer, categorical_features)\n",
        "    ])\n",
        "\n",
        "# Создаем модели\n",
        "treatment_model = RandomForestClassifier(n_estimators=100, random_state=42)\n",
        "confidence_model = MultiOutputClassifier(RandomForestClassifier(n_estimators=100, random_state=42))\n",
        "\n",
        "# Создаем пайплайн для каждой модели\n",
        "treatment_pipeline = Pipeline(steps=[\n",
        "    ('preprocessor', preprocessor),\n",
        "    ('classifier', treatment_model)\n",
        "])\n",
        "\n",
        "confidence_pipeline = Pipeline(steps=[\n",
        "    ('preprocessor', preprocessor),\n",
        "    ('classifier', confidence_model)\n",
        "])\n",
        "\n",
        "# Обучаем модели\n",
        "treatment_pipeline.fit(X_train, y_treatment_train)\n",
        "confidence_pipeline.fit(X_train, y_confidence_train)\n",
        "\n",
        "# Делаем предсказания\n",
        "y_treatment_pred = treatment_pipeline.predict(X_test)\n",
        "y_confidence_pred = confidence_pipeline.predict(X_test)\n",
        "\n",
        "# Оцениваем модели\n",
        "print(\"Accuracy for Treatment Recommendation:\", accuracy_score(y_treatment_test, y_treatment_pred))\n",
        "print(\"Classification Report for Treatment Recommendation:\\n\", classification_report(y_treatment_test, y_treatment_pred))\n",
        "\n",
        "for i, col in enumerate(y_confidence.columns):\n",
        "    print(f\"\\nAccuracy for Confidence Level '{col}':\", accuracy_score(y_confidence_test[col], y_confidence_pred[:, i]))\n",
        "    print(f\"Classification Report for Confidence Level '{col}':\\n\",\n",
        "          classification_report(y_confidence_test[col], y_confidence_pred[:, i]))\n"
      ],
      "metadata": {
        "colab": {
          "base_uri": "https://localhost:8080/"
        },
        "id": "bKfSCX7IIcd_",
        "outputId": "650257db-48ac-44a1-f4af-c974c241c1e7"
      },
      "execution_count": null,
      "outputs": [
        {
          "output_type": "stream",
          "name": "stdout",
          "text": [
            "Accuracy for Treatment Recommendation: 1.0\n",
            "Classification Report for Treatment Recommendation:\n",
            "               precision    recall  f1-score   support\n",
            "\n",
            "   Алектиниб       1.00      1.00      1.00      4562\n",
            "  Дурвалумаб       1.00      1.00      1.00      8757\n",
            "  Наблюдение       1.00      1.00      1.00     28085\n",
            " Осимертиниб       1.00      1.00      1.00      8363\n",
            "\n",
            "    accuracy                           1.00     49767\n",
            "   macro avg       1.00      1.00      1.00     49767\n",
            "weighted avg       1.00      1.00      1.00     49767\n",
            "\n",
            "\n",
            "Accuracy for Confidence Level 'Поставьте галочку, если уверены на 100%': 1.0\n",
            "Classification Report for Confidence Level 'Поставьте галочку, если уверены на 100%':\n",
            "               precision    recall  f1-score   support\n",
            "\n",
            "       False       1.00      1.00      1.00     31853\n",
            "        True       1.00      1.00      1.00     17914\n",
            "\n",
            "    accuracy                           1.00     49767\n",
            "   macro avg       1.00      1.00      1.00     49767\n",
            "weighted avg       1.00      1.00      1.00     49767\n",
            "\n",
            "\n",
            "Accuracy for Confidence Level 'Если 75%': 1.0\n",
            "Classification Report for Confidence Level 'Если 75%':\n",
            "               precision    recall  f1-score   support\n",
            "\n",
            "       False       1.00      1.00      1.00     31824\n",
            "        True       1.00      1.00      1.00     17943\n",
            "\n",
            "    accuracy                           1.00     49767\n",
            "   macro avg       1.00      1.00      1.00     49767\n",
            "weighted avg       1.00      1.00      1.00     49767\n",
            "\n",
            "\n",
            "Accuracy for Confidence Level 'Если 50%': 1.0\n",
            "Classification Report for Confidence Level 'Если 50%':\n",
            "               precision    recall  f1-score   support\n",
            "\n",
            "       False       1.00      1.00      1.00     35857\n",
            "        True       1.00      1.00      1.00     13910\n",
            "\n",
            "    accuracy                           1.00     49767\n",
            "   macro avg       1.00      1.00      1.00     49767\n",
            "weighted avg       1.00      1.00      1.00     49767\n",
            "\n"
          ]
        }
      ]
    },
    {
      "cell_type": "code",
      "source": [],
      "metadata": {
        "id": "_MJ9MT3NIcXX"
      },
      "execution_count": null,
      "outputs": []
    },
    {
      "cell_type": "code",
      "source": [],
      "metadata": {
        "id": "BcaIn9FqIcUw"
      },
      "execution_count": null,
      "outputs": []
    },
    {
      "cell_type": "code",
      "source": [],
      "metadata": {
        "id": "Byj6HuZmIcSk"
      },
      "execution_count": null,
      "outputs": []
    },
    {
      "cell_type": "code",
      "source": [],
      "metadata": {
        "id": "QRnXl4ElIcPm"
      },
      "execution_count": null,
      "outputs": []
    },
    {
      "cell_type": "code",
      "source": [],
      "metadata": {
        "id": "3jE1M7oaIcL-"
      },
      "execution_count": null,
      "outputs": []
    }
  ]
}