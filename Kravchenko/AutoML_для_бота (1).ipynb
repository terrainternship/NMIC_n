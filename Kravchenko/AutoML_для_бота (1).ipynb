{
  "nbformat": 4,
  "nbformat_minor": 0,
  "metadata": {
    "colab": {
      "provenance": []
    },
    "kernelspec": {
      "name": "python3",
      "display_name": "Python 3"
    }
  },
  "cells": [
    {
      "cell_type": "markdown",
      "metadata": {
        "id": "UAwsXpWwXmCE"
      },
      "source": [
        "# Загрузка базы подготовка базы к обучению AutoML\n"
      ]
    },
    {
      "cell_type": "code",
      "metadata": {
        "id": "RvIarEdKYSUq"
      },
      "source": [
        "import matplotlib.pyplot as plt # matplotlib для графиков\n",
        "import seaborn as sns # seaborn для графиков\n",
        "import numpy as np    # Нампай для массивов\n",
        "import pandas as pd   # Пандас для данных\n",
        "import re             # Регулярные выражения\n",
        "from tensorflow.keras import utils # Для приведения к категориальным данным\n",
        "from google.colab import files     # Загрузка файлов\n"
      ],
      "execution_count": null,
      "outputs": []
    },
    {
      "cell_type": "code",
      "source": [
        "!pip install tensorflow"
      ],
      "metadata": {
        "colab": {
          "base_uri": "https://localhost:8080/"
        },
        "id": "X_o_ESwlZzpb",
        "outputId": "dc51e764-c382-478b-d833-51d182299a5b"
      },
      "execution_count": null,
      "outputs": [
        {
          "output_type": "stream",
          "name": "stdout",
          "text": [
            "Requirement already satisfied: tensorflow in /usr/local/lib/python3.10/dist-packages (2.15.0)\n",
            "Requirement already satisfied: absl-py>=1.0.0 in /usr/local/lib/python3.10/dist-packages (from tensorflow) (1.4.0)\n",
            "Requirement already satisfied: astunparse>=1.6.0 in /usr/local/lib/python3.10/dist-packages (from tensorflow) (1.6.3)\n",
            "Requirement already satisfied: flatbuffers>=23.5.26 in /usr/local/lib/python3.10/dist-packages (from tensorflow) (23.5.26)\n",
            "Requirement already satisfied: gast!=0.5.0,!=0.5.1,!=0.5.2,>=0.2.1 in /usr/local/lib/python3.10/dist-packages (from tensorflow) (0.5.4)\n",
            "Requirement already satisfied: google-pasta>=0.1.1 in /usr/local/lib/python3.10/dist-packages (from tensorflow) (0.2.0)\n",
            "Requirement already satisfied: h5py>=2.9.0 in /usr/local/lib/python3.10/dist-packages (from tensorflow) (3.9.0)\n",
            "Requirement already satisfied: libclang>=13.0.0 in /usr/local/lib/python3.10/dist-packages (from tensorflow) (16.0.6)\n",
            "Requirement already satisfied: ml-dtypes~=0.2.0 in /usr/local/lib/python3.10/dist-packages (from tensorflow) (0.2.0)\n",
            "Requirement already satisfied: numpy<2.0.0,>=1.23.5 in /usr/local/lib/python3.10/dist-packages (from tensorflow) (1.23.5)\n",
            "Requirement already satisfied: opt-einsum>=2.3.2 in /usr/local/lib/python3.10/dist-packages (from tensorflow) (3.3.0)\n",
            "Requirement already satisfied: packaging in /usr/local/lib/python3.10/dist-packages (from tensorflow) (23.2)\n",
            "Requirement already satisfied: protobuf!=4.21.0,!=4.21.1,!=4.21.2,!=4.21.3,!=4.21.4,!=4.21.5,<5.0.0dev,>=3.20.3 in /usr/local/lib/python3.10/dist-packages (from tensorflow) (3.20.3)\n",
            "Requirement already satisfied: setuptools in /usr/local/lib/python3.10/dist-packages (from tensorflow) (67.7.2)\n",
            "Requirement already satisfied: six>=1.12.0 in /usr/local/lib/python3.10/dist-packages (from tensorflow) (1.16.0)\n",
            "Requirement already satisfied: termcolor>=1.1.0 in /usr/local/lib/python3.10/dist-packages (from tensorflow) (2.4.0)\n",
            "Requirement already satisfied: typing-extensions>=3.6.6 in /usr/local/lib/python3.10/dist-packages (from tensorflow) (4.5.0)\n",
            "Requirement already satisfied: wrapt<1.15,>=1.11.0 in /usr/local/lib/python3.10/dist-packages (from tensorflow) (1.14.1)\n",
            "Requirement already satisfied: tensorflow-io-gcs-filesystem>=0.23.1 in /usr/local/lib/python3.10/dist-packages (from tensorflow) (0.34.0)\n",
            "Requirement already satisfied: grpcio<2.0,>=1.24.3 in /usr/local/lib/python3.10/dist-packages (from tensorflow) (1.60.0)\n",
            "Requirement already satisfied: tensorboard<2.16,>=2.15 in /usr/local/lib/python3.10/dist-packages (from tensorflow) (2.15.1)\n",
            "Requirement already satisfied: tensorflow-estimator<2.16,>=2.15.0 in /usr/local/lib/python3.10/dist-packages (from tensorflow) (2.15.0)\n",
            "Requirement already satisfied: keras<2.16,>=2.15.0 in /usr/local/lib/python3.10/dist-packages (from tensorflow) (2.15.0)\n",
            "Requirement already satisfied: wheel<1.0,>=0.23.0 in /usr/local/lib/python3.10/dist-packages (from astunparse>=1.6.0->tensorflow) (0.42.0)\n",
            "Requirement already satisfied: google-auth<3,>=1.6.3 in /usr/local/lib/python3.10/dist-packages (from tensorboard<2.16,>=2.15->tensorflow) (2.17.3)\n",
            "Requirement already satisfied: google-auth-oauthlib<2,>=0.5 in /usr/local/lib/python3.10/dist-packages (from tensorboard<2.16,>=2.15->tensorflow) (1.2.0)\n",
            "Requirement already satisfied: markdown>=2.6.8 in /usr/local/lib/python3.10/dist-packages (from tensorboard<2.16,>=2.15->tensorflow) (3.5.1)\n",
            "Requirement already satisfied: requests<3,>=2.21.0 in /usr/local/lib/python3.10/dist-packages (from tensorboard<2.16,>=2.15->tensorflow) (2.31.0)\n",
            "Requirement already satisfied: tensorboard-data-server<0.8.0,>=0.7.0 in /usr/local/lib/python3.10/dist-packages (from tensorboard<2.16,>=2.15->tensorflow) (0.7.2)\n",
            "Requirement already satisfied: werkzeug>=1.0.1 in /usr/local/lib/python3.10/dist-packages (from tensorboard<2.16,>=2.15->tensorflow) (3.0.1)\n",
            "Requirement already satisfied: cachetools<6.0,>=2.0.0 in /usr/local/lib/python3.10/dist-packages (from google-auth<3,>=1.6.3->tensorboard<2.16,>=2.15->tensorflow) (5.3.2)\n",
            "Requirement already satisfied: pyasn1-modules>=0.2.1 in /usr/local/lib/python3.10/dist-packages (from google-auth<3,>=1.6.3->tensorboard<2.16,>=2.15->tensorflow) (0.3.0)\n",
            "Requirement already satisfied: rsa<5,>=3.1.4 in /usr/local/lib/python3.10/dist-packages (from google-auth<3,>=1.6.3->tensorboard<2.16,>=2.15->tensorflow) (4.9)\n",
            "Requirement already satisfied: requests-oauthlib>=0.7.0 in /usr/local/lib/python3.10/dist-packages (from google-auth-oauthlib<2,>=0.5->tensorboard<2.16,>=2.15->tensorflow) (1.3.1)\n",
            "Requirement already satisfied: charset-normalizer<4,>=2 in /usr/local/lib/python3.10/dist-packages (from requests<3,>=2.21.0->tensorboard<2.16,>=2.15->tensorflow) (3.3.2)\n",
            "Requirement already satisfied: idna<4,>=2.5 in /usr/local/lib/python3.10/dist-packages (from requests<3,>=2.21.0->tensorboard<2.16,>=2.15->tensorflow) (3.6)\n",
            "Requirement already satisfied: urllib3<3,>=1.21.1 in /usr/local/lib/python3.10/dist-packages (from requests<3,>=2.21.0->tensorboard<2.16,>=2.15->tensorflow) (2.0.7)\n",
            "Requirement already satisfied: certifi>=2017.4.17 in /usr/local/lib/python3.10/dist-packages (from requests<3,>=2.21.0->tensorboard<2.16,>=2.15->tensorflow) (2023.11.17)\n",
            "Requirement already satisfied: MarkupSafe>=2.1.1 in /usr/local/lib/python3.10/dist-packages (from werkzeug>=1.0.1->tensorboard<2.16,>=2.15->tensorflow) (2.1.3)\n",
            "Requirement already satisfied: pyasn1<0.6.0,>=0.4.6 in /usr/local/lib/python3.10/dist-packages (from pyasn1-modules>=0.2.1->google-auth<3,>=1.6.3->tensorboard<2.16,>=2.15->tensorflow) (0.5.1)\n",
            "Requirement already satisfied: oauthlib>=3.0.0 in /usr/local/lib/python3.10/dist-packages (from requests-oauthlib>=0.7.0->google-auth-oauthlib<2,>=0.5->tensorboard<2.16,>=2.15->tensorflow) (3.2.2)\n"
          ]
        }
      ]
    },
    {
      "cell_type": "code",
      "metadata": {
        "id": "1oJzDA-pYhux",
        "outputId": "1530abb0-605a-4b4e-9a28-9691cec81e56",
        "colab": {
          "base_uri": "https://localhost:8080/"
        }
      },
      "source": [
        "# Для загрузки данных используем drive\n",
        "from google.colab import drive\n",
        "drive.mount('/content/drive')"
      ],
      "execution_count": null,
      "outputs": [
        {
          "output_type": "stream",
          "name": "stdout",
          "text": [
            "Mounted at /content/drive\n"
          ]
        }
      ]
    },
    {
      "cell_type": "code",
      "metadata": {
        "id": "ZNnSalzgoCXJ",
        "outputId": "99f81ae4-ee5c-4ece-9c64-bf0bee749b99",
        "colab": {
          "base_uri": "https://localhost:8080/",
          "height": 1000
        }
      },
      "source": [
        "# Загружаем базу\n",
        "df = pd.read_csv('/content/dataset1.csv')\n",
        "df"
      ],
      "execution_count": null,
      "outputs": [
        {
          "output_type": "execute_result",
          "data": {
            "text/plain": [
              "        id_ответа       Раса       Пол Возраст  \\\n",
              "0               1  Азиатская   Мужской   До 70   \n",
              "1               2  Азиатская   Мужской   До 70   \n",
              "2               3  Азиатская   Мужской   До 70   \n",
              "3               4  Азиатская   Мужской   До 70   \n",
              "4               5  Азиатская   Мужской   До 70   \n",
              "...           ...        ...       ...     ...   \n",
              "248827     248828     Другая   Женский     >70   \n",
              "248828     248829     Другая   Женский     >70   \n",
              "248829     248830     Другая   Женский     >70   \n",
              "248830     248831     Другая   Женский     >70   \n",
              "248831     248832     Другая   Женский     >70   \n",
              "\n",
              "                                  Статус курения  ECOG  \\\n",
              "0                              В настоящее время   0-1   \n",
              "1                              В настоящее время   0-1   \n",
              "2                              В настоящее время   0-1   \n",
              "3                              В настоящее время   0-1   \n",
              "4                              В настоящее время   0-1   \n",
              "...                                          ...   ...   \n",
              "248827   Курение в прошлом (бросил более 1 года)     2   \n",
              "248828   Курение в прошлом (бросил более 1 года)     2   \n",
              "248829   Курение в прошлом (бросил более 1 года)     2   \n",
              "248830   Курение в прошлом (бросил более 1 года)     2   \n",
              "248831   Курение в прошлом (бросил более 1 года)     2   \n",
              "\n",
              "       Есть опухолевая нагрузка? (симптомная опухоль) Ко-мутации KRAS  \\\n",
              "0                                                  да              да   \n",
              "1                                                  да              да   \n",
              "2                                                  да              да   \n",
              "3                                                  да              да   \n",
              "4                                                  да              да   \n",
              "...                                               ...             ...   \n",
              "248827                                            нет             нет   \n",
              "248828                                            нет             нет   \n",
              "248829                                            нет             нет   \n",
              "248830                                            нет             нет   \n",
              "248831                                            нет             нет   \n",
              "\n",
              "       Ко-мутации p53. Ко-мутации STK11  ... Срок от окончания ХЛТ  \\\n",
              "0                   да               да  ...            до 42 дней   \n",
              "1                   да               да  ...      от 43 до 60 дней   \n",
              "2                   да               да  ...          более 61 дня   \n",
              "3                   да               да  ...            до 42 дней   \n",
              "4                   да               да  ...      от 43 до 60 дней   \n",
              "...                ...              ...  ...                   ...   \n",
              "248827             нет              нет  ...      от 43 до 60 дней   \n",
              "248828             нет              нет  ...          более 61 дня   \n",
              "248829             нет              нет  ...            до 42 дней   \n",
              "248830             нет              нет  ...      от 43 до 60 дней   \n",
              "248831             нет              нет  ...          более 61 дня   \n",
              "\n",
              "       Молекулярный статус (только для неплоскоклеточного рака)  \\\n",
              "0                                             нет мутаций         \n",
              "1                                             нет мутаций         \n",
              "2                                             нет мутаций         \n",
              "3                                        не исследовались         \n",
              "4                                        не исследовались         \n",
              "...                                                   ...         \n",
              "248827                                          EGFR ex21         \n",
              "248828                                          EGFR ex21         \n",
              "248829                                     ALK позитивный         \n",
              "248830                                     ALK позитивный         \n",
              "248831                                     ALK позитивный         \n",
              "\n",
              "            PD-L1 статус Предпочтение пациента по ответу на терапию  \\\n",
              "0        Не исследовался                   Результативность лечения   \n",
              "1        Не исследовался                   Результативность лечения   \n",
              "2        Не исследовался                   Результативность лечения   \n",
              "3        Не исследовался                   Результативность лечения   \n",
              "4        Не исследовался                   Результативность лечения   \n",
              "...                  ...                                        ...   \n",
              "248827          Более 1%                  сохранение качества жизни   \n",
              "248828          Более 1%                  сохранение качества жизни   \n",
              "248829          Более 1%                  сохранение качества жизни   \n",
              "248830          Более 1%                  сохранение качества жизни   \n",
              "248831          Более 1%                  сохранение качества жизни   \n",
              "\n",
              "       Ответ эксперта (Лактионов) Поставьте галочку, если уверены на 100%  \\\n",
              "0                      Дурвалумаб                                    True   \n",
              "1                      Дурвалумаб                                    True   \n",
              "2                      Наблюдение                                   False   \n",
              "3                      Дурвалумаб                                   False   \n",
              "4                      Дурвалумаб                                   False   \n",
              "...                           ...                                     ...   \n",
              "248827                 Наблюдение                                   False   \n",
              "248828                 Наблюдение                                    True   \n",
              "248829                  Алектиниб                                   False   \n",
              "248830                  Алектиниб                                   False   \n",
              "248831                 Наблюдение                                    True   \n",
              "\n",
              "        Если 75%  Если 50%  Альтернатива, если 50% - обязательно  \\\n",
              "0          False     False                                     0   \n",
              "1          False     False                                     0   \n",
              "2           True     False                            Дурвалумаб   \n",
              "3           True     False                                     0   \n",
              "4           True     False                                     0   \n",
              "...          ...       ...                                   ...   \n",
              "248827     False      True                           Осимертиниб   \n",
              "248828     False     False                                     0   \n",
              "248829     False      True                            Дурвалумаб   \n",
              "248830     False      True                            Дурвалумаб   \n",
              "248831     False     False                                     0   \n",
              "\n",
              "                                              Комментарий  \n",
              "0                                                       0  \n",
              "1                                                       0  \n",
              "2       Нет доказательной базы для назначения после пе...  \n",
              "3       Возможно есть мутации и эффективность Дурвалум...  \n",
              "4       Возможно есть мутации и эффективность Дурвалум...  \n",
              "...                                                   ...  \n",
              "248827  Возможна низкая эффективность Дурвалумаба, Оси...  \n",
              "248828                                                  0  \n",
              "248829  Возможна низкая эффективность Дурвалумаба, Але...  \n",
              "248830  Возможна низкая эффективность Дурвалумаба, Але...  \n",
              "248831                                                  0  \n",
              "\n",
              "[248832 rows x 21 columns]"
            ],
            "text/html": [
              "\n",
              "  <div id=\"df-c2f70622-3f25-485f-bdea-3134c485f42e\" class=\"colab-df-container\">\n",
              "    <div>\n",
              "<style scoped>\n",
              "    .dataframe tbody tr th:only-of-type {\n",
              "        vertical-align: middle;\n",
              "    }\n",
              "\n",
              "    .dataframe tbody tr th {\n",
              "        vertical-align: top;\n",
              "    }\n",
              "\n",
              "    .dataframe thead th {\n",
              "        text-align: right;\n",
              "    }\n",
              "</style>\n",
              "<table border=\"1\" class=\"dataframe\">\n",
              "  <thead>\n",
              "    <tr style=\"text-align: right;\">\n",
              "      <th></th>\n",
              "      <th>id_ответа</th>\n",
              "      <th>Раса</th>\n",
              "      <th>Пол</th>\n",
              "      <th>Возраст</th>\n",
              "      <th>Статус курения</th>\n",
              "      <th>ECOG</th>\n",
              "      <th>Есть опухолевая нагрузка? (симптомная опухоль)</th>\n",
              "      <th>Ко-мутации KRAS</th>\n",
              "      <th>Ко-мутации p53.</th>\n",
              "      <th>Ко-мутации STK11</th>\n",
              "      <th>...</th>\n",
              "      <th>Срок от окончания ХЛТ</th>\n",
              "      <th>Молекулярный статус (только для неплоскоклеточного рака)</th>\n",
              "      <th>PD-L1 статус</th>\n",
              "      <th>Предпочтение пациента по ответу на терапию</th>\n",
              "      <th>Ответ эксперта (Лактионов)</th>\n",
              "      <th>Поставьте галочку, если уверены на 100%</th>\n",
              "      <th>Если 75%</th>\n",
              "      <th>Если 50%</th>\n",
              "      <th>Альтернатива, если 50% - обязательно</th>\n",
              "      <th>Комментарий</th>\n",
              "    </tr>\n",
              "  </thead>\n",
              "  <tbody>\n",
              "    <tr>\n",
              "      <th>0</th>\n",
              "      <td>1</td>\n",
              "      <td>Азиатская</td>\n",
              "      <td>Мужской</td>\n",
              "      <td>До 70</td>\n",
              "      <td>В настоящее время</td>\n",
              "      <td>0-1</td>\n",
              "      <td>да</td>\n",
              "      <td>да</td>\n",
              "      <td>да</td>\n",
              "      <td>да</td>\n",
              "      <td>...</td>\n",
              "      <td>до 42 дней</td>\n",
              "      <td>нет мутаций</td>\n",
              "      <td>Не исследовался</td>\n",
              "      <td>Результативность лечения</td>\n",
              "      <td>Дурвалумаб</td>\n",
              "      <td>True</td>\n",
              "      <td>False</td>\n",
              "      <td>False</td>\n",
              "      <td>0</td>\n",
              "      <td>0</td>\n",
              "    </tr>\n",
              "    <tr>\n",
              "      <th>1</th>\n",
              "      <td>2</td>\n",
              "      <td>Азиатская</td>\n",
              "      <td>Мужской</td>\n",
              "      <td>До 70</td>\n",
              "      <td>В настоящее время</td>\n",
              "      <td>0-1</td>\n",
              "      <td>да</td>\n",
              "      <td>да</td>\n",
              "      <td>да</td>\n",
              "      <td>да</td>\n",
              "      <td>...</td>\n",
              "      <td>от 43 до 60 дней</td>\n",
              "      <td>нет мутаций</td>\n",
              "      <td>Не исследовался</td>\n",
              "      <td>Результативность лечения</td>\n",
              "      <td>Дурвалумаб</td>\n",
              "      <td>True</td>\n",
              "      <td>False</td>\n",
              "      <td>False</td>\n",
              "      <td>0</td>\n",
              "      <td>0</td>\n",
              "    </tr>\n",
              "    <tr>\n",
              "      <th>2</th>\n",
              "      <td>3</td>\n",
              "      <td>Азиатская</td>\n",
              "      <td>Мужской</td>\n",
              "      <td>До 70</td>\n",
              "      <td>В настоящее время</td>\n",
              "      <td>0-1</td>\n",
              "      <td>да</td>\n",
              "      <td>да</td>\n",
              "      <td>да</td>\n",
              "      <td>да</td>\n",
              "      <td>...</td>\n",
              "      <td>более 61 дня</td>\n",
              "      <td>нет мутаций</td>\n",
              "      <td>Не исследовался</td>\n",
              "      <td>Результативность лечения</td>\n",
              "      <td>Наблюдение</td>\n",
              "      <td>False</td>\n",
              "      <td>True</td>\n",
              "      <td>False</td>\n",
              "      <td>Дурвалумаб</td>\n",
              "      <td>Нет доказательной базы для назначения после пе...</td>\n",
              "    </tr>\n",
              "    <tr>\n",
              "      <th>3</th>\n",
              "      <td>4</td>\n",
              "      <td>Азиатская</td>\n",
              "      <td>Мужской</td>\n",
              "      <td>До 70</td>\n",
              "      <td>В настоящее время</td>\n",
              "      <td>0-1</td>\n",
              "      <td>да</td>\n",
              "      <td>да</td>\n",
              "      <td>да</td>\n",
              "      <td>да</td>\n",
              "      <td>...</td>\n",
              "      <td>до 42 дней</td>\n",
              "      <td>не исследовались</td>\n",
              "      <td>Не исследовался</td>\n",
              "      <td>Результативность лечения</td>\n",
              "      <td>Дурвалумаб</td>\n",
              "      <td>False</td>\n",
              "      <td>True</td>\n",
              "      <td>False</td>\n",
              "      <td>0</td>\n",
              "      <td>Возможно есть мутации и эффективность Дурвалум...</td>\n",
              "    </tr>\n",
              "    <tr>\n",
              "      <th>4</th>\n",
              "      <td>5</td>\n",
              "      <td>Азиатская</td>\n",
              "      <td>Мужской</td>\n",
              "      <td>До 70</td>\n",
              "      <td>В настоящее время</td>\n",
              "      <td>0-1</td>\n",
              "      <td>да</td>\n",
              "      <td>да</td>\n",
              "      <td>да</td>\n",
              "      <td>да</td>\n",
              "      <td>...</td>\n",
              "      <td>от 43 до 60 дней</td>\n",
              "      <td>не исследовались</td>\n",
              "      <td>Не исследовался</td>\n",
              "      <td>Результативность лечения</td>\n",
              "      <td>Дурвалумаб</td>\n",
              "      <td>False</td>\n",
              "      <td>True</td>\n",
              "      <td>False</td>\n",
              "      <td>0</td>\n",
              "      <td>Возможно есть мутации и эффективность Дурвалум...</td>\n",
              "    </tr>\n",
              "    <tr>\n",
              "      <th>...</th>\n",
              "      <td>...</td>\n",
              "      <td>...</td>\n",
              "      <td>...</td>\n",
              "      <td>...</td>\n",
              "      <td>...</td>\n",
              "      <td>...</td>\n",
              "      <td>...</td>\n",
              "      <td>...</td>\n",
              "      <td>...</td>\n",
              "      <td>...</td>\n",
              "      <td>...</td>\n",
              "      <td>...</td>\n",
              "      <td>...</td>\n",
              "      <td>...</td>\n",
              "      <td>...</td>\n",
              "      <td>...</td>\n",
              "      <td>...</td>\n",
              "      <td>...</td>\n",
              "      <td>...</td>\n",
              "      <td>...</td>\n",
              "      <td>...</td>\n",
              "    </tr>\n",
              "    <tr>\n",
              "      <th>248827</th>\n",
              "      <td>248828</td>\n",
              "      <td>Другая</td>\n",
              "      <td>Женский</td>\n",
              "      <td>&gt;70</td>\n",
              "      <td>Курение в прошлом (бросил более 1 года)</td>\n",
              "      <td>2</td>\n",
              "      <td>нет</td>\n",
              "      <td>нет</td>\n",
              "      <td>нет</td>\n",
              "      <td>нет</td>\n",
              "      <td>...</td>\n",
              "      <td>от 43 до 60 дней</td>\n",
              "      <td>EGFR ex21</td>\n",
              "      <td>Более 1%</td>\n",
              "      <td>сохранение качества жизни</td>\n",
              "      <td>Наблюдение</td>\n",
              "      <td>False</td>\n",
              "      <td>False</td>\n",
              "      <td>True</td>\n",
              "      <td>Осимертиниб</td>\n",
              "      <td>Возможна низкая эффективность Дурвалумаба, Оси...</td>\n",
              "    </tr>\n",
              "    <tr>\n",
              "      <th>248828</th>\n",
              "      <td>248829</td>\n",
              "      <td>Другая</td>\n",
              "      <td>Женский</td>\n",
              "      <td>&gt;70</td>\n",
              "      <td>Курение в прошлом (бросил более 1 года)</td>\n",
              "      <td>2</td>\n",
              "      <td>нет</td>\n",
              "      <td>нет</td>\n",
              "      <td>нет</td>\n",
              "      <td>нет</td>\n",
              "      <td>...</td>\n",
              "      <td>более 61 дня</td>\n",
              "      <td>EGFR ex21</td>\n",
              "      <td>Более 1%</td>\n",
              "      <td>сохранение качества жизни</td>\n",
              "      <td>Наблюдение</td>\n",
              "      <td>True</td>\n",
              "      <td>False</td>\n",
              "      <td>False</td>\n",
              "      <td>0</td>\n",
              "      <td>0</td>\n",
              "    </tr>\n",
              "    <tr>\n",
              "      <th>248829</th>\n",
              "      <td>248830</td>\n",
              "      <td>Другая</td>\n",
              "      <td>Женский</td>\n",
              "      <td>&gt;70</td>\n",
              "      <td>Курение в прошлом (бросил более 1 года)</td>\n",
              "      <td>2</td>\n",
              "      <td>нет</td>\n",
              "      <td>нет</td>\n",
              "      <td>нет</td>\n",
              "      <td>нет</td>\n",
              "      <td>...</td>\n",
              "      <td>до 42 дней</td>\n",
              "      <td>ALK позитивный</td>\n",
              "      <td>Более 1%</td>\n",
              "      <td>сохранение качества жизни</td>\n",
              "      <td>Алектиниб</td>\n",
              "      <td>False</td>\n",
              "      <td>False</td>\n",
              "      <td>True</td>\n",
              "      <td>Дурвалумаб</td>\n",
              "      <td>Возможна низкая эффективность Дурвалумаба, Але...</td>\n",
              "    </tr>\n",
              "    <tr>\n",
              "      <th>248830</th>\n",
              "      <td>248831</td>\n",
              "      <td>Другая</td>\n",
              "      <td>Женский</td>\n",
              "      <td>&gt;70</td>\n",
              "      <td>Курение в прошлом (бросил более 1 года)</td>\n",
              "      <td>2</td>\n",
              "      <td>нет</td>\n",
              "      <td>нет</td>\n",
              "      <td>нет</td>\n",
              "      <td>нет</td>\n",
              "      <td>...</td>\n",
              "      <td>от 43 до 60 дней</td>\n",
              "      <td>ALK позитивный</td>\n",
              "      <td>Более 1%</td>\n",
              "      <td>сохранение качества жизни</td>\n",
              "      <td>Алектиниб</td>\n",
              "      <td>False</td>\n",
              "      <td>False</td>\n",
              "      <td>True</td>\n",
              "      <td>Дурвалумаб</td>\n",
              "      <td>Возможна низкая эффективность Дурвалумаба, Але...</td>\n",
              "    </tr>\n",
              "    <tr>\n",
              "      <th>248831</th>\n",
              "      <td>248832</td>\n",
              "      <td>Другая</td>\n",
              "      <td>Женский</td>\n",
              "      <td>&gt;70</td>\n",
              "      <td>Курение в прошлом (бросил более 1 года)</td>\n",
              "      <td>2</td>\n",
              "      <td>нет</td>\n",
              "      <td>нет</td>\n",
              "      <td>нет</td>\n",
              "      <td>нет</td>\n",
              "      <td>...</td>\n",
              "      <td>более 61 дня</td>\n",
              "      <td>ALK позитивный</td>\n",
              "      <td>Более 1%</td>\n",
              "      <td>сохранение качества жизни</td>\n",
              "      <td>Наблюдение</td>\n",
              "      <td>True</td>\n",
              "      <td>False</td>\n",
              "      <td>False</td>\n",
              "      <td>0</td>\n",
              "      <td>0</td>\n",
              "    </tr>\n",
              "  </tbody>\n",
              "</table>\n",
              "<p>248832 rows × 21 columns</p>\n",
              "</div>\n",
              "    <div class=\"colab-df-buttons\">\n",
              "\n",
              "  <div class=\"colab-df-container\">\n",
              "    <button class=\"colab-df-convert\" onclick=\"convertToInteractive('df-c2f70622-3f25-485f-bdea-3134c485f42e')\"\n",
              "            title=\"Convert this dataframe to an interactive table.\"\n",
              "            style=\"display:none;\">\n",
              "\n",
              "  <svg xmlns=\"http://www.w3.org/2000/svg\" height=\"24px\" viewBox=\"0 -960 960 960\">\n",
              "    <path d=\"M120-120v-720h720v720H120Zm60-500h600v-160H180v160Zm220 220h160v-160H400v160Zm0 220h160v-160H400v160ZM180-400h160v-160H180v160Zm440 0h160v-160H620v160ZM180-180h160v-160H180v160Zm440 0h160v-160H620v160Z\"/>\n",
              "  </svg>\n",
              "    </button>\n",
              "\n",
              "  <style>\n",
              "    .colab-df-container {\n",
              "      display:flex;\n",
              "      gap: 12px;\n",
              "    }\n",
              "\n",
              "    .colab-df-convert {\n",
              "      background-color: #E8F0FE;\n",
              "      border: none;\n",
              "      border-radius: 50%;\n",
              "      cursor: pointer;\n",
              "      display: none;\n",
              "      fill: #1967D2;\n",
              "      height: 32px;\n",
              "      padding: 0 0 0 0;\n",
              "      width: 32px;\n",
              "    }\n",
              "\n",
              "    .colab-df-convert:hover {\n",
              "      background-color: #E2EBFA;\n",
              "      box-shadow: 0px 1px 2px rgba(60, 64, 67, 0.3), 0px 1px 3px 1px rgba(60, 64, 67, 0.15);\n",
              "      fill: #174EA6;\n",
              "    }\n",
              "\n",
              "    .colab-df-buttons div {\n",
              "      margin-bottom: 4px;\n",
              "    }\n",
              "\n",
              "    [theme=dark] .colab-df-convert {\n",
              "      background-color: #3B4455;\n",
              "      fill: #D2E3FC;\n",
              "    }\n",
              "\n",
              "    [theme=dark] .colab-df-convert:hover {\n",
              "      background-color: #434B5C;\n",
              "      box-shadow: 0px 1px 3px 1px rgba(0, 0, 0, 0.15);\n",
              "      filter: drop-shadow(0px 1px 2px rgba(0, 0, 0, 0.3));\n",
              "      fill: #FFFFFF;\n",
              "    }\n",
              "  </style>\n",
              "\n",
              "    <script>\n",
              "      const buttonEl =\n",
              "        document.querySelector('#df-c2f70622-3f25-485f-bdea-3134c485f42e button.colab-df-convert');\n",
              "      buttonEl.style.display =\n",
              "        google.colab.kernel.accessAllowed ? 'block' : 'none';\n",
              "\n",
              "      async function convertToInteractive(key) {\n",
              "        const element = document.querySelector('#df-c2f70622-3f25-485f-bdea-3134c485f42e');\n",
              "        const dataTable =\n",
              "          await google.colab.kernel.invokeFunction('convertToInteractive',\n",
              "                                                    [key], {});\n",
              "        if (!dataTable) return;\n",
              "\n",
              "        const docLinkHtml = 'Like what you see? Visit the ' +\n",
              "          '<a target=\"_blank\" href=https://colab.research.google.com/notebooks/data_table.ipynb>data table notebook</a>'\n",
              "          + ' to learn more about interactive tables.';\n",
              "        element.innerHTML = '';\n",
              "        dataTable['output_type'] = 'display_data';\n",
              "        await google.colab.output.renderOutput(dataTable, element);\n",
              "        const docLink = document.createElement('div');\n",
              "        docLink.innerHTML = docLinkHtml;\n",
              "        element.appendChild(docLink);\n",
              "      }\n",
              "    </script>\n",
              "  </div>\n",
              "\n",
              "\n",
              "<div id=\"df-6b75ebf3-bc94-4a26-8d8f-77db2cd2b0fb\">\n",
              "  <button class=\"colab-df-quickchart\" onclick=\"quickchart('df-6b75ebf3-bc94-4a26-8d8f-77db2cd2b0fb')\"\n",
              "            title=\"Suggest charts\"\n",
              "            style=\"display:none;\">\n",
              "\n",
              "<svg xmlns=\"http://www.w3.org/2000/svg\" height=\"24px\"viewBox=\"0 0 24 24\"\n",
              "     width=\"24px\">\n",
              "    <g>\n",
              "        <path d=\"M19 3H5c-1.1 0-2 .9-2 2v14c0 1.1.9 2 2 2h14c1.1 0 2-.9 2-2V5c0-1.1-.9-2-2-2zM9 17H7v-7h2v7zm4 0h-2V7h2v10zm4 0h-2v-4h2v4z\"/>\n",
              "    </g>\n",
              "</svg>\n",
              "  </button>\n",
              "\n",
              "<style>\n",
              "  .colab-df-quickchart {\n",
              "      --bg-color: #E8F0FE;\n",
              "      --fill-color: #1967D2;\n",
              "      --hover-bg-color: #E2EBFA;\n",
              "      --hover-fill-color: #174EA6;\n",
              "      --disabled-fill-color: #AAA;\n",
              "      --disabled-bg-color: #DDD;\n",
              "  }\n",
              "\n",
              "  [theme=dark] .colab-df-quickchart {\n",
              "      --bg-color: #3B4455;\n",
              "      --fill-color: #D2E3FC;\n",
              "      --hover-bg-color: #434B5C;\n",
              "      --hover-fill-color: #FFFFFF;\n",
              "      --disabled-bg-color: #3B4455;\n",
              "      --disabled-fill-color: #666;\n",
              "  }\n",
              "\n",
              "  .colab-df-quickchart {\n",
              "    background-color: var(--bg-color);\n",
              "    border: none;\n",
              "    border-radius: 50%;\n",
              "    cursor: pointer;\n",
              "    display: none;\n",
              "    fill: var(--fill-color);\n",
              "    height: 32px;\n",
              "    padding: 0;\n",
              "    width: 32px;\n",
              "  }\n",
              "\n",
              "  .colab-df-quickchart:hover {\n",
              "    background-color: var(--hover-bg-color);\n",
              "    box-shadow: 0 1px 2px rgba(60, 64, 67, 0.3), 0 1px 3px 1px rgba(60, 64, 67, 0.15);\n",
              "    fill: var(--button-hover-fill-color);\n",
              "  }\n",
              "\n",
              "  .colab-df-quickchart-complete:disabled,\n",
              "  .colab-df-quickchart-complete:disabled:hover {\n",
              "    background-color: var(--disabled-bg-color);\n",
              "    fill: var(--disabled-fill-color);\n",
              "    box-shadow: none;\n",
              "  }\n",
              "\n",
              "  .colab-df-spinner {\n",
              "    border: 2px solid var(--fill-color);\n",
              "    border-color: transparent;\n",
              "    border-bottom-color: var(--fill-color);\n",
              "    animation:\n",
              "      spin 1s steps(1) infinite;\n",
              "  }\n",
              "\n",
              "  @keyframes spin {\n",
              "    0% {\n",
              "      border-color: transparent;\n",
              "      border-bottom-color: var(--fill-color);\n",
              "      border-left-color: var(--fill-color);\n",
              "    }\n",
              "    20% {\n",
              "      border-color: transparent;\n",
              "      border-left-color: var(--fill-color);\n",
              "      border-top-color: var(--fill-color);\n",
              "    }\n",
              "    30% {\n",
              "      border-color: transparent;\n",
              "      border-left-color: var(--fill-color);\n",
              "      border-top-color: var(--fill-color);\n",
              "      border-right-color: var(--fill-color);\n",
              "    }\n",
              "    40% {\n",
              "      border-color: transparent;\n",
              "      border-right-color: var(--fill-color);\n",
              "      border-top-color: var(--fill-color);\n",
              "    }\n",
              "    60% {\n",
              "      border-color: transparent;\n",
              "      border-right-color: var(--fill-color);\n",
              "    }\n",
              "    80% {\n",
              "      border-color: transparent;\n",
              "      border-right-color: var(--fill-color);\n",
              "      border-bottom-color: var(--fill-color);\n",
              "    }\n",
              "    90% {\n",
              "      border-color: transparent;\n",
              "      border-bottom-color: var(--fill-color);\n",
              "    }\n",
              "  }\n",
              "</style>\n",
              "\n",
              "  <script>\n",
              "    async function quickchart(key) {\n",
              "      const quickchartButtonEl =\n",
              "        document.querySelector('#' + key + ' button');\n",
              "      quickchartButtonEl.disabled = true;  // To prevent multiple clicks.\n",
              "      quickchartButtonEl.classList.add('colab-df-spinner');\n",
              "      try {\n",
              "        const charts = await google.colab.kernel.invokeFunction(\n",
              "            'suggestCharts', [key], {});\n",
              "      } catch (error) {\n",
              "        console.error('Error during call to suggestCharts:', error);\n",
              "      }\n",
              "      quickchartButtonEl.classList.remove('colab-df-spinner');\n",
              "      quickchartButtonEl.classList.add('colab-df-quickchart-complete');\n",
              "    }\n",
              "    (() => {\n",
              "      let quickchartButtonEl =\n",
              "        document.querySelector('#df-6b75ebf3-bc94-4a26-8d8f-77db2cd2b0fb button');\n",
              "      quickchartButtonEl.style.display =\n",
              "        google.colab.kernel.accessAllowed ? 'block' : 'none';\n",
              "    })();\n",
              "  </script>\n",
              "</div>\n",
              "\n",
              "  <div id=\"id_b0490187-f3fe-41c1-9b06-b59b17cff376\">\n",
              "    <style>\n",
              "      .colab-df-generate {\n",
              "        background-color: #E8F0FE;\n",
              "        border: none;\n",
              "        border-radius: 50%;\n",
              "        cursor: pointer;\n",
              "        display: none;\n",
              "        fill: #1967D2;\n",
              "        height: 32px;\n",
              "        padding: 0 0 0 0;\n",
              "        width: 32px;\n",
              "      }\n",
              "\n",
              "      .colab-df-generate:hover {\n",
              "        background-color: #E2EBFA;\n",
              "        box-shadow: 0px 1px 2px rgba(60, 64, 67, 0.3), 0px 1px 3px 1px rgba(60, 64, 67, 0.15);\n",
              "        fill: #174EA6;\n",
              "      }\n",
              "\n",
              "      [theme=dark] .colab-df-generate {\n",
              "        background-color: #3B4455;\n",
              "        fill: #D2E3FC;\n",
              "      }\n",
              "\n",
              "      [theme=dark] .colab-df-generate:hover {\n",
              "        background-color: #434B5C;\n",
              "        box-shadow: 0px 1px 3px 1px rgba(0, 0, 0, 0.15);\n",
              "        filter: drop-shadow(0px 1px 2px rgba(0, 0, 0, 0.3));\n",
              "        fill: #FFFFFF;\n",
              "      }\n",
              "    </style>\n",
              "    <button class=\"colab-df-generate\" onclick=\"generateWithVariable('df')\"\n",
              "            title=\"Generate code using this dataframe.\"\n",
              "            style=\"display:none;\">\n",
              "\n",
              "  <svg xmlns=\"http://www.w3.org/2000/svg\" height=\"24px\"viewBox=\"0 0 24 24\"\n",
              "       width=\"24px\">\n",
              "    <path d=\"M7,19H8.4L18.45,9,17,7.55,7,17.6ZM5,21V16.75L18.45,3.32a2,2,0,0,1,2.83,0l1.4,1.43a1.91,1.91,0,0,1,.58,1.4,1.91,1.91,0,0,1-.58,1.4L9.25,21ZM18.45,9,17,7.55Zm-12,3A5.31,5.31,0,0,0,4.9,8.1,5.31,5.31,0,0,0,1,6.5,5.31,5.31,0,0,0,4.9,4.9,5.31,5.31,0,0,0,6.5,1,5.31,5.31,0,0,0,8.1,4.9,5.31,5.31,0,0,0,12,6.5,5.46,5.46,0,0,0,6.5,12Z\"/>\n",
              "  </svg>\n",
              "    </button>\n",
              "    <script>\n",
              "      (() => {\n",
              "      const buttonEl =\n",
              "        document.querySelector('#id_b0490187-f3fe-41c1-9b06-b59b17cff376 button.colab-df-generate');\n",
              "      buttonEl.style.display =\n",
              "        google.colab.kernel.accessAllowed ? 'block' : 'none';\n",
              "\n",
              "      buttonEl.onclick = () => {\n",
              "        google.colab.notebook.generateWithVariable('df');\n",
              "      }\n",
              "      })();\n",
              "    </script>\n",
              "  </div>\n",
              "\n",
              "    </div>\n",
              "  </div>\n"
            ]
          },
          "metadata": {},
          "execution_count": 4
        }
      ]
    },
    {
      "cell_type": "markdown",
      "source": [
        "# Устанавливаем библиотеку для работы с autokeras\n",
        "\n"
      ],
      "metadata": {
        "id": "EsNydWPYc3od"
      }
    },
    {
      "cell_type": "code",
      "source": [
        "!pip install autokeras"
      ],
      "metadata": {
        "colab": {
          "base_uri": "https://localhost:8080/"
        },
        "id": "6XJXDt6ycwyR",
        "outputId": "326de454-dda9-42fa-fe3e-501e902d39c9"
      },
      "execution_count": null,
      "outputs": [
        {
          "output_type": "stream",
          "name": "stdout",
          "text": [
            "Collecting autokeras\n",
            "  Downloading autokeras-1.1.0-py3-none-any.whl (148 kB)\n",
            "\u001b[?25l     \u001b[90m━━━━━━━━━━━━━━━━━━━━━━━━━━━━━━━━━━━━━━━━\u001b[0m \u001b[32m0.0/148.6 kB\u001b[0m \u001b[31m?\u001b[0m eta \u001b[36m-:--:--\u001b[0m\r\u001b[2K     \u001b[91m━━━━━━━━━━━━━━━━━━━━━━━━━━━━━━\u001b[0m\u001b[90m╺\u001b[0m\u001b[90m━━━━━━━━━\u001b[0m \u001b[32m112.6/148.6 kB\u001b[0m \u001b[31m3.2 MB/s\u001b[0m eta \u001b[36m0:00:01\u001b[0m\r\u001b[2K     \u001b[90m━━━━━━━━━━━━━━━━━━━━━━━━━━━━━━━━━━━━━━━━\u001b[0m \u001b[32m148.6/148.6 kB\u001b[0m \u001b[31m2.8 MB/s\u001b[0m eta \u001b[36m0:00:00\u001b[0m\n",
            "\u001b[?25hRequirement already satisfied: packaging in /usr/local/lib/python3.10/dist-packages (from autokeras) (23.2)\n",
            "Requirement already satisfied: tensorflow>=2.8.0 in /usr/local/lib/python3.10/dist-packages (from autokeras) (2.15.0)\n",
            "Collecting keras-tuner>=1.1.0 (from autokeras)\n",
            "  Downloading keras_tuner-1.4.6-py3-none-any.whl (128 kB)\n",
            "\u001b[2K     \u001b[90m━━━━━━━━━━━━━━━━━━━━━━━━━━━━━━━━━━━━━━━━\u001b[0m \u001b[32m128.9/128.9 kB\u001b[0m \u001b[31m7.0 MB/s\u001b[0m eta \u001b[36m0:00:00\u001b[0m\n",
            "\u001b[?25hCollecting keras-nlp>=0.4.0 (from autokeras)\n",
            "  Downloading keras_nlp-0.6.4-py3-none-any.whl (584 kB)\n",
            "\u001b[2K     \u001b[90m━━━━━━━━━━━━━━━━━━━━━━━━━━━━━━━━━━━━━━━━\u001b[0m \u001b[32m584.8/584.8 kB\u001b[0m \u001b[31m8.7 MB/s\u001b[0m eta \u001b[36m0:00:00\u001b[0m\n",
            "\u001b[?25hRequirement already satisfied: pandas in /usr/local/lib/python3.10/dist-packages (from autokeras) (1.5.3)\n",
            "Collecting keras-core (from keras-nlp>=0.4.0->autokeras)\n",
            "  Downloading keras_core-0.1.7-py3-none-any.whl (950 kB)\n",
            "\u001b[2K     \u001b[90m━━━━━━━━━━━━━━━━━━━━━━━━━━━━━━━━━━━━━━━━\u001b[0m \u001b[32m950.8/950.8 kB\u001b[0m \u001b[31m10.7 MB/s\u001b[0m eta \u001b[36m0:00:00\u001b[0m\n",
            "\u001b[?25hRequirement already satisfied: absl-py in /usr/local/lib/python3.10/dist-packages (from keras-nlp>=0.4.0->autokeras) (1.4.0)\n",
            "Requirement already satisfied: numpy in /usr/local/lib/python3.10/dist-packages (from keras-nlp>=0.4.0->autokeras) (1.23.5)\n",
            "Requirement already satisfied: regex in /usr/local/lib/python3.10/dist-packages (from keras-nlp>=0.4.0->autokeras) (2023.6.3)\n",
            "Requirement already satisfied: rich in /usr/local/lib/python3.10/dist-packages (from keras-nlp>=0.4.0->autokeras) (13.7.0)\n",
            "Requirement already satisfied: dm-tree in /usr/local/lib/python3.10/dist-packages (from keras-nlp>=0.4.0->autokeras) (0.1.8)\n",
            "Collecting tensorflow-text (from keras-nlp>=0.4.0->autokeras)\n",
            "  Downloading tensorflow_text-2.15.0-cp310-cp310-manylinux_2_17_x86_64.manylinux2014_x86_64.whl (5.2 MB)\n",
            "\u001b[2K     \u001b[90m━━━━━━━━━━━━━━━━━━━━━━━━━━━━━━━━━━━━━━━━\u001b[0m \u001b[32m5.2/5.2 MB\u001b[0m \u001b[31m19.4 MB/s\u001b[0m eta \u001b[36m0:00:00\u001b[0m\n",
            "\u001b[?25hRequirement already satisfied: keras in /usr/local/lib/python3.10/dist-packages (from keras-tuner>=1.1.0->autokeras) (2.15.0)\n",
            "Requirement already satisfied: requests in /usr/local/lib/python3.10/dist-packages (from keras-tuner>=1.1.0->autokeras) (2.31.0)\n",
            "Collecting kt-legacy (from keras-tuner>=1.1.0->autokeras)\n",
            "  Downloading kt_legacy-1.0.5-py3-none-any.whl (9.6 kB)\n",
            "Requirement already satisfied: astunparse>=1.6.0 in /usr/local/lib/python3.10/dist-packages (from tensorflow>=2.8.0->autokeras) (1.6.3)\n",
            "Requirement already satisfied: flatbuffers>=23.5.26 in /usr/local/lib/python3.10/dist-packages (from tensorflow>=2.8.0->autokeras) (23.5.26)\n",
            "Requirement already satisfied: gast!=0.5.0,!=0.5.1,!=0.5.2,>=0.2.1 in /usr/local/lib/python3.10/dist-packages (from tensorflow>=2.8.0->autokeras) (0.5.4)\n",
            "Requirement already satisfied: google-pasta>=0.1.1 in /usr/local/lib/python3.10/dist-packages (from tensorflow>=2.8.0->autokeras) (0.2.0)\n",
            "Requirement already satisfied: h5py>=2.9.0 in /usr/local/lib/python3.10/dist-packages (from tensorflow>=2.8.0->autokeras) (3.9.0)\n",
            "Requirement already satisfied: libclang>=13.0.0 in /usr/local/lib/python3.10/dist-packages (from tensorflow>=2.8.0->autokeras) (16.0.6)\n",
            "Requirement already satisfied: ml-dtypes~=0.2.0 in /usr/local/lib/python3.10/dist-packages (from tensorflow>=2.8.0->autokeras) (0.2.0)\n",
            "Requirement already satisfied: opt-einsum>=2.3.2 in /usr/local/lib/python3.10/dist-packages (from tensorflow>=2.8.0->autokeras) (3.3.0)\n",
            "Requirement already satisfied: protobuf!=4.21.0,!=4.21.1,!=4.21.2,!=4.21.3,!=4.21.4,!=4.21.5,<5.0.0dev,>=3.20.3 in /usr/local/lib/python3.10/dist-packages (from tensorflow>=2.8.0->autokeras) (3.20.3)\n",
            "Requirement already satisfied: setuptools in /usr/local/lib/python3.10/dist-packages (from tensorflow>=2.8.0->autokeras) (67.7.2)\n",
            "Requirement already satisfied: six>=1.12.0 in /usr/local/lib/python3.10/dist-packages (from tensorflow>=2.8.0->autokeras) (1.16.0)\n",
            "Requirement already satisfied: termcolor>=1.1.0 in /usr/local/lib/python3.10/dist-packages (from tensorflow>=2.8.0->autokeras) (2.4.0)\n",
            "Requirement already satisfied: typing-extensions>=3.6.6 in /usr/local/lib/python3.10/dist-packages (from tensorflow>=2.8.0->autokeras) (4.5.0)\n",
            "Requirement already satisfied: wrapt<1.15,>=1.11.0 in /usr/local/lib/python3.10/dist-packages (from tensorflow>=2.8.0->autokeras) (1.14.1)\n",
            "Requirement already satisfied: tensorflow-io-gcs-filesystem>=0.23.1 in /usr/local/lib/python3.10/dist-packages (from tensorflow>=2.8.0->autokeras) (0.34.0)\n",
            "Requirement already satisfied: grpcio<2.0,>=1.24.3 in /usr/local/lib/python3.10/dist-packages (from tensorflow>=2.8.0->autokeras) (1.60.0)\n",
            "Requirement already satisfied: tensorboard<2.16,>=2.15 in /usr/local/lib/python3.10/dist-packages (from tensorflow>=2.8.0->autokeras) (2.15.1)\n",
            "Requirement already satisfied: tensorflow-estimator<2.16,>=2.15.0 in /usr/local/lib/python3.10/dist-packages (from tensorflow>=2.8.0->autokeras) (2.15.0)\n",
            "Requirement already satisfied: python-dateutil>=2.8.1 in /usr/local/lib/python3.10/dist-packages (from pandas->autokeras) (2.8.2)\n",
            "Requirement already satisfied: pytz>=2020.1 in /usr/local/lib/python3.10/dist-packages (from pandas->autokeras) (2023.3.post1)\n",
            "Requirement already satisfied: wheel<1.0,>=0.23.0 in /usr/local/lib/python3.10/dist-packages (from astunparse>=1.6.0->tensorflow>=2.8.0->autokeras) (0.42.0)\n",
            "Requirement already satisfied: google-auth<3,>=1.6.3 in /usr/local/lib/python3.10/dist-packages (from tensorboard<2.16,>=2.15->tensorflow>=2.8.0->autokeras) (2.17.3)\n",
            "Requirement already satisfied: google-auth-oauthlib<2,>=0.5 in /usr/local/lib/python3.10/dist-packages (from tensorboard<2.16,>=2.15->tensorflow>=2.8.0->autokeras) (1.2.0)\n",
            "Requirement already satisfied: markdown>=2.6.8 in /usr/local/lib/python3.10/dist-packages (from tensorboard<2.16,>=2.15->tensorflow>=2.8.0->autokeras) (3.5.1)\n",
            "Requirement already satisfied: tensorboard-data-server<0.8.0,>=0.7.0 in /usr/local/lib/python3.10/dist-packages (from tensorboard<2.16,>=2.15->tensorflow>=2.8.0->autokeras) (0.7.2)\n",
            "Requirement already satisfied: werkzeug>=1.0.1 in /usr/local/lib/python3.10/dist-packages (from tensorboard<2.16,>=2.15->tensorflow>=2.8.0->autokeras) (3.0.1)\n",
            "Requirement already satisfied: charset-normalizer<4,>=2 in /usr/local/lib/python3.10/dist-packages (from requests->keras-tuner>=1.1.0->autokeras) (3.3.2)\n",
            "Requirement already satisfied: idna<4,>=2.5 in /usr/local/lib/python3.10/dist-packages (from requests->keras-tuner>=1.1.0->autokeras) (3.6)\n",
            "Requirement already satisfied: urllib3<3,>=1.21.1 in /usr/local/lib/python3.10/dist-packages (from requests->keras-tuner>=1.1.0->autokeras) (2.0.7)\n",
            "Requirement already satisfied: certifi>=2017.4.17 in /usr/local/lib/python3.10/dist-packages (from requests->keras-tuner>=1.1.0->autokeras) (2023.11.17)\n",
            "Collecting namex (from keras-core->keras-nlp>=0.4.0->autokeras)\n",
            "  Downloading namex-0.0.7-py3-none-any.whl (5.8 kB)\n",
            "Requirement already satisfied: markdown-it-py>=2.2.0 in /usr/local/lib/python3.10/dist-packages (from rich->keras-nlp>=0.4.0->autokeras) (3.0.0)\n",
            "Requirement already satisfied: pygments<3.0.0,>=2.13.0 in /usr/local/lib/python3.10/dist-packages (from rich->keras-nlp>=0.4.0->autokeras) (2.16.1)\n",
            "Requirement already satisfied: tensorflow-hub>=0.13.0 in /usr/local/lib/python3.10/dist-packages (from tensorflow-text->keras-nlp>=0.4.0->autokeras) (0.15.0)\n",
            "Requirement already satisfied: cachetools<6.0,>=2.0.0 in /usr/local/lib/python3.10/dist-packages (from google-auth<3,>=1.6.3->tensorboard<2.16,>=2.15->tensorflow>=2.8.0->autokeras) (5.3.2)\n",
            "Requirement already satisfied: pyasn1-modules>=0.2.1 in /usr/local/lib/python3.10/dist-packages (from google-auth<3,>=1.6.3->tensorboard<2.16,>=2.15->tensorflow>=2.8.0->autokeras) (0.3.0)\n",
            "Requirement already satisfied: rsa<5,>=3.1.4 in /usr/local/lib/python3.10/dist-packages (from google-auth<3,>=1.6.3->tensorboard<2.16,>=2.15->tensorflow>=2.8.0->autokeras) (4.9)\n",
            "Requirement already satisfied: requests-oauthlib>=0.7.0 in /usr/local/lib/python3.10/dist-packages (from google-auth-oauthlib<2,>=0.5->tensorboard<2.16,>=2.15->tensorflow>=2.8.0->autokeras) (1.3.1)\n",
            "Requirement already satisfied: mdurl~=0.1 in /usr/local/lib/python3.10/dist-packages (from markdown-it-py>=2.2.0->rich->keras-nlp>=0.4.0->autokeras) (0.1.2)\n",
            "Requirement already satisfied: MarkupSafe>=2.1.1 in /usr/local/lib/python3.10/dist-packages (from werkzeug>=1.0.1->tensorboard<2.16,>=2.15->tensorflow>=2.8.0->autokeras) (2.1.3)\n",
            "Requirement already satisfied: pyasn1<0.6.0,>=0.4.6 in /usr/local/lib/python3.10/dist-packages (from pyasn1-modules>=0.2.1->google-auth<3,>=1.6.3->tensorboard<2.16,>=2.15->tensorflow>=2.8.0->autokeras) (0.5.1)\n",
            "Requirement already satisfied: oauthlib>=3.0.0 in /usr/local/lib/python3.10/dist-packages (from requests-oauthlib>=0.7.0->google-auth-oauthlib<2,>=0.5->tensorboard<2.16,>=2.15->tensorflow>=2.8.0->autokeras) (3.2.2)\n",
            "Installing collected packages: namex, kt-legacy, keras-tuner, keras-core, tensorflow-text, keras-nlp, autokeras\n",
            "Successfully installed autokeras-1.1.0 keras-core-0.1.7 keras-nlp-0.6.4 keras-tuner-1.4.6 kt-legacy-1.0.5 namex-0.0.7 tensorflow-text-2.15.0\n"
          ]
        }
      ]
    },
    {
      "cell_type": "code",
      "source": [
        "import pandas as pd\n",
        "from IPython.display import display\n",
        "from keras.utils import to_categorical\n",
        "from sklearn.preprocessing import MinMaxScaler\n",
        "from sklearn.model_selection import train_test_split\n",
        "import csv\n",
        "import autokeras as ak\n",
        "from sklearn.preprocessing import LabelEncoder"
      ],
      "metadata": {
        "id": "q2pcvQqql39e",
        "colab": {
          "base_uri": "https://localhost:8080/"
        },
        "outputId": "90397186-3dd5-4320-e70e-4005abd6beaa"
      },
      "execution_count": null,
      "outputs": [
        {
          "output_type": "stream",
          "name": "stdout",
          "text": [
            "Using TensorFlow backend\n"
          ]
        }
      ]
    },
    {
      "cell_type": "code",
      "source": [
        "# Запишем датасет в переменную и выведем на экран !!! После этого запуска кода перезагружаем базу заново, что бы не выскакивали баги\n",
        "df = pd.read_csv('dataset1.csv', quoting=csv.QUOTE_NONE)\n",
        "display(df)\n",
        "\n",
        "# Выведем имена столбцов\n",
        "print(df.columns)"
      ],
      "metadata": {
        "colab": {
          "base_uri": "https://localhost:8080/",
          "height": 262
        },
        "id": "ONPnn_YHmC6Y",
        "outputId": "dcfaa29f-a406-4649-ba47-686109b25468"
      },
      "execution_count": null,
      "outputs": [
        {
          "output_type": "error",
          "ename": "NameError",
          "evalue": "ignored",
          "traceback": [
            "\u001b[0;31m---------------------------------------------------------------------------\u001b[0m",
            "\u001b[0;31mNameError\u001b[0m                                 Traceback (most recent call last)",
            "\u001b[0;32m<ipython-input-10-00886de0cedc>\u001b[0m in \u001b[0;36m<cell line: 2>\u001b[0;34m()\u001b[0m\n\u001b[1;32m      1\u001b[0m \u001b[0;31m# Запишем датасет в переменную и выведем на экран !!! После этого запуска кода перезагружаем базу заново, что бы не выскакивали баги\u001b[0m\u001b[0;34m\u001b[0m\u001b[0;34m\u001b[0m\u001b[0m\n\u001b[0;32m----> 2\u001b[0;31m \u001b[0mdf\u001b[0m \u001b[0;34m=\u001b[0m \u001b[0mpd\u001b[0m\u001b[0;34m.\u001b[0m\u001b[0mread_csv\u001b[0m\u001b[0;34m(\u001b[0m\u001b[0;34m'dataset1.csv'\u001b[0m\u001b[0;34m,\u001b[0m \u001b[0mquoting\u001b[0m\u001b[0;34m=\u001b[0m\u001b[0mcsv\u001b[0m\u001b[0;34m.\u001b[0m\u001b[0mQUOTE_NONE\u001b[0m\u001b[0;34m)\u001b[0m\u001b[0;34m\u001b[0m\u001b[0;34m\u001b[0m\u001b[0m\n\u001b[0m\u001b[1;32m      3\u001b[0m \u001b[0mdisplay\u001b[0m\u001b[0;34m(\u001b[0m\u001b[0mdf\u001b[0m\u001b[0;34m)\u001b[0m\u001b[0;34m\u001b[0m\u001b[0;34m\u001b[0m\u001b[0m\n\u001b[1;32m      4\u001b[0m \u001b[0;34m\u001b[0m\u001b[0m\n\u001b[1;32m      5\u001b[0m \u001b[0;31m# Выведем имена столбцов\u001b[0m\u001b[0;34m\u001b[0m\u001b[0;34m\u001b[0m\u001b[0m\n",
            "\u001b[0;31mNameError\u001b[0m: name 'csv' is not defined"
          ]
        }
      ]
    },
    {
      "cell_type": "code",
      "source": [
        "columns_to_remove = ['Поставьте галочку, если уверены на 100%', 'Если 75%', 'Если 50%', 'Альтернатива, если 50% - обязательно']\n",
        "df = df.drop(columns=columns_to_remove)"
      ],
      "metadata": {
        "id": "2xYtWz2vyBCF"
      },
      "execution_count": null,
      "outputs": []
    },
    {
      "cell_type": "code",
      "source": [
        "df.nunique()"
      ],
      "metadata": {
        "colab": {
          "base_uri": "https://localhost:8080/"
        },
        "id": "bIQxcBYsympW",
        "outputId": "ad4d5cb5-035f-44c2-bb19-31287c14b542"
      },
      "execution_count": null,
      "outputs": [
        {
          "output_type": "execute_result",
          "data": {
            "text/plain": [
              "id_ответа                                                   248832\n",
              "Раса                                                             3\n",
              "Пол                                                              2\n",
              "Возраст                                                          2\n",
              "Статус курения                                                   3\n",
              "ECOG                                                             2\n",
              "Есть опухолевая нагрузка? (симптомная опухоль)                   2\n",
              "Ко-мутации KRAS                                                  2\n",
              "Ко-мутации p53.                                                  2\n",
              "Ко-мутации STK11                                                 2\n",
              "Ко-мутации KEAP1                                                 2\n",
              "Срок от окончания ХЛТ                                            3\n",
              "Молекулярный статус (только для неплоскоклеточного рака)         6\n",
              "PD-L1 статус                                                     3\n",
              "Предпочтение пациента по ответу на терапию                       2\n",
              "Ответ эксперта (Лактионов)                                       4\n",
              "Комментарий                                                     11\n",
              "dtype: int64"
            ]
          },
          "metadata": {},
          "execution_count": 8
        }
      ]
    },
    {
      "cell_type": "code",
      "source": [
        "# Выведем информацию по датасету\n",
        "df.info()"
      ],
      "metadata": {
        "colab": {
          "base_uri": "https://localhost:8080/"
        },
        "id": "vLRCJa2dmV6-",
        "outputId": "7e18ea00-40f8-4de9-bec6-13bc071e2f24"
      },
      "execution_count": null,
      "outputs": [
        {
          "output_type": "stream",
          "name": "stdout",
          "text": [
            "<class 'pandas.core.frame.DataFrame'>\n",
            "RangeIndex: 248832 entries, 0 to 248831\n",
            "Data columns (total 17 columns):\n",
            " #   Column                                                    Non-Null Count   Dtype \n",
            "---  ------                                                    --------------   ----- \n",
            " 0   id_ответа                                                 248832 non-null  int64 \n",
            " 1   Раса                                                      248832 non-null  object\n",
            " 2   Пол                                                       248832 non-null  object\n",
            " 3   Возраст                                                   248832 non-null  object\n",
            " 4   Статус курения                                            248832 non-null  object\n",
            " 5   ECOG                                                      248832 non-null  object\n",
            " 6   Есть опухолевая нагрузка? (симптомная опухоль)            248832 non-null  object\n",
            " 7   Ко-мутации KRAS                                           248832 non-null  object\n",
            " 8   Ко-мутации p53.                                           248832 non-null  object\n",
            " 9   Ко-мутации STK11                                          248832 non-null  object\n",
            " 10  Ко-мутации KEAP1                                          248832 non-null  object\n",
            " 11  Срок от окончания ХЛТ                                     248832 non-null  object\n",
            " 12  Молекулярный статус (только для неплоскоклеточного рака)  248832 non-null  object\n",
            " 13  PD-L1 статус                                              248832 non-null  object\n",
            " 14  Предпочтение пациента по ответу на терапию                248832 non-null  object\n",
            " 15  Ответ эксперта (Лактионов)                                248832 non-null  object\n",
            " 16  Комментарий                                               248832 non-null  object\n",
            "dtypes: int64(1), object(16)\n",
            "memory usage: 32.3+ MB\n"
          ]
        }
      ]
    },
    {
      "cell_type": "code",
      "source": [
        "for name, values in df.items():\n",
        "  print(name, \":\", df[name].unique())"
      ],
      "metadata": {
        "colab": {
          "base_uri": "https://localhost:8080/"
        },
        "id": "_899olN8mlf0",
        "outputId": "5606e975-8b7b-41ce-a559-50f4e8d61a94"
      },
      "execution_count": null,
      "outputs": [
        {
          "output_type": "stream",
          "name": "stdout",
          "text": [
            "id_ответа : [     1      2      3 ... 248830 248831 248832]\n",
            "Раса : ['Азиатская' 'Европейская' 'Другая']\n",
            "Пол : [' Мужской' ' Женский']\n",
            "Возраст : [' До 70' ' >70']\n",
            "Статус курения : [' В настоящее время'\n",
            " ' Курение в прошлом (бросил более 1 месяца до 1 года)'\n",
            " ' Курение в прошлом (бросил более 1 года)']\n",
            "ECOG : [' 0-1' '2']\n",
            "Есть опухолевая нагрузка? (симптомная опухоль) : [' да' ' нет']\n",
            "Ко-мутации KRAS : [' да' ' нет']\n",
            "Ко-мутации p53. : [' да' ' нет']\n",
            "Ко-мутации STK11 : [' да' ' нет']\n",
            "Ко-мутации KEAP1 : [' да' ' нет']\n",
            "Срок от окончания ХЛТ : ['до 42 дней' 'от 43 до 60 дней' 'более 61 дня']\n",
            "Молекулярный статус (только для неплоскоклеточного рака) : [' нет мутаций' ' не исследовались' ' EGFR редкий вариант' ' EGFR ex19'\n",
            " ' EGFR ex21' ' ALK позитивный']\n",
            "PD-L1 статус : [' Не исследовался' ' Менее 1%' ' Более 1%']\n",
            "Предпочтение пациента по ответу на терапию : [' Результативность лечения' ' сохранение качества жизни']\n",
            "Ответ эксперта (Лактионов) : ['Дурвалумаб' 'Наблюдение' 'Осимертиниб' 'Алектиниб']\n",
            "Комментарий : ['0'\n",
            " 'Нет доказательной базы для назначения после перерыва >61 дня после ХЛТ'\n",
            " 'Возможно есть мутации и эффективность Дурвалумаба будет низкой'\n",
            " 'Возможна низкая эффективность Дурвалумаба, Осимертиниб без доказательной базы'\n",
            " 'Возможна низкая эффективность Дурвалумаба, Осимертиниб без доказательной базы, эффективность Осимертиниба ниже при 21 экзоне'\n",
            " 'Возможна низкая эффективность Дурвалумаба, Алектиниб без доказательной базы'\n",
            " 'Возможна низкая эффективность Дурвалумаба при PD-1 < 1%'\n",
            " 'Возможна низкая эффективность Дурвалумаба при PD-1 < 1%, возможно есть активирующие мутации'\n",
            " 'Вероятность 45% PD-L1 < 1% с потенциально низкой эффективностью Дурвалумаба'\n",
            " 'Возможно есть мутации и эффективность Дурвалумаба будет низкой\\n, Вероятность 45% PD-L1 < 1% с потенциально низкой эффективностью Дурвалумаба'\n",
            " 'Возможно есть мутации и эффективность Дурвалумаба будет низкой\\n, Возможна низкая эффективность Дурвалумаба при PD-1 < 1%']\n"
          ]
        }
      ]
    },
    {
      "cell_type": "code",
      "source": [
        "from sklearn.preprocessing import LabelEncoder\n",
        "\n",
        "# Создание экземпляра LabelEncoder\n",
        "label_encoder = LabelEncoder()\n",
        "\n",
        "# Список для хранения результатов\n",
        "results = []\n",
        "\n",
        "# Применение LabelEncoder ко всем столбцам\n",
        "for col in df.columns:\n",
        "    if df[col].dtype == 'object':\n",
        "        df[col] = label_encoder.fit_transform(df[col].astype(str))\n",
        "        unique_values = df[col].astype(str).unique()\n",
        "        mapping = {val: idx for idx, val in enumerate(unique_values)}\n",
        "        results.append(f\"# Словарь порогов {col}:\\n{col}_class = {mapping}\\n\")\n",
        "\n",
        "# Вывод результатов\n",
        "for result in results:\n",
        "    print(result)"
      ],
      "metadata": {
        "id": "_NVoLaGHGJFq"
      },
      "execution_count": null,
      "outputs": []
    },
    {
      "cell_type": "code",
      "source": [
        "# Пример для словаря порогов Раса:\n",
        "Раса_class = {'0': 0, '2': 1, '1': 2}\n",
        "description_race = {'0': 'Азиатская', '2': 'Европейская', '1': 'Другая'}\n",
        "\n",
        "# Вывод информации в желаемом формате\n",
        "print(\"Mapping для Раса:\")\n",
        "for key, value in Раса_class.items():\n",
        "    print(f'{key} - {description_race[key]}_{value}')\n",
        "\n",
        "# Пример для словаря порогов Пол:\n",
        "Пол_class = {'1': 0, '0': 1}\n",
        "description_gender = {'1': 'Мужской', '0': 'Женский'}\n",
        "\n",
        "print(\"\\nMapping для Пол:\")\n",
        "for key, value in Пол_class.items():\n",
        "    print(f'{key} - {description_gender[key]}_{value}')\n",
        "\n",
        "# Пример для словаря порогов Возраст:\n",
        "Возраст_class = {'1': 0, '0': 1}\n",
        "description_age = {'1': 'До 70', '0': '>70'}\n",
        "\n",
        "print(\"\\nMapping для Возрас:\")\n",
        "for key, value in Возраст_class.items():\n",
        "    print(f'{key} - {description_age[key]}_{value}')\n",
        "\n",
        "# Пример для словаря Статус курения:\n",
        "Статус_курения_class = {'0': 0, '2': 1, '1': 2}\n",
        "description_smoking = {'0': 'В настоящее время', '2': 'Курение в прошлом (бросил более 1 месяца до 1 года)', '1': 'Курение в прошлом (бросил более 1 года)'}\n",
        "\n",
        "print(\"\\nMapping для Статус_курения:\")\n",
        "for key, value in Статус_курения_class.items():\n",
        "    print(f'{key} - {description_smoking[key]}_{value}')\n",
        "\n",
        "# Пример для словаря порогов ECOG:\n",
        "ECOG_class = {'0': 0, '1': 1}\n",
        "description_ecog = {'0':'0-1', '1': '2'}\n",
        "\n",
        "print(\"\\nMapping для ECOG:\")\n",
        "for key, value in ECOG_class.items():\n",
        "    print(f'{key} - {description_ecog[key]}_{value}')\n",
        "\n",
        "# Пример для словаря порогов Есть опухолевая нагрузка:\n",
        "Есть_опухолевая_нагрузка_симптомная_опухоль_class = {'0': 0, '1': 1}\n",
        "description_tumor_load = {'0':'да', '1': 'нет'}\n",
        "\n",
        "print(\"\\nMapping для Есть опухолевая нагрузка:\")\n",
        "for key, value in Есть_опухолевая_нагрузка_симптомная_опухоль_class.items():\n",
        "    print(f'{key} - {description_tumor_load[key]}_{value}')\n",
        "\n",
        "# Пример для словаря порогов KRAS:\n",
        "Ко_мутации_KRAS_class = {'0': 0, '1': 1}\n",
        "description_kras = {'0': 'да', '1': 'нет'}\n",
        "\n",
        "print(\"\\nMapping для KRAS:\")\n",
        "for key, value in Ко_мутации_KRAS_class.items():\n",
        "    print(f'{key} - {description_kras[key]}_{value}')\n",
        "\n",
        "# Пример для словаря порогов p53:\n",
        "Ко_мутации_p53_class = {'0': 0, '1': 1}\n",
        "description_p53 = {'0': 'да', '1': 'нет'}\n",
        "\n",
        "print(\"\\nMapping для p53:\")\n",
        "for key, value in Ко_мутации_p53_class.items():\n",
        "    print(f'{key} - {description_p53[key]}_{value}')\n",
        "\n",
        "# Пример для словаря порогов STK11:\n",
        "Ко_мутации_STK11_class = {'0': 0, '1': 1}\n",
        "description_stk11 = {'0': 'да', '1': 'нет'}\n",
        "\n",
        "print(\"\\nMapping для STK11:\")\n",
        "for key, value in Ко_мутации_STK11_class.items():\n",
        "    print(f'{key} - {description_stk11[key]}_{value}')\n",
        "\n",
        "# Пример для словаря порогов KEAP1:\n",
        "Ко_мутации_KEAP1_class = {'0': 0, '1': 1}\n",
        "description_keap1 = {'0': 'да', '1': 'нет'}\n",
        "\n",
        "print(\"\\nMapping для KEAP1:\")\n",
        "for key, value in Ко_мутации_KEAP1_class.items():\n",
        "    print(f'{key} - {description_keap1[key]}_{value}')\n",
        "\n",
        "# Пример для словаря порогов ХЛТ:\n",
        "Срок_от_окончания_ХЛТ_class = {'1': 0, '2': 1, '0': 2}\n",
        "description_time_from_cht = {'1': 'до 42 дней', '2': 'от 43 до 60 дней','0': 'более 61 дня'}\n",
        "\n",
        "print(\"\\nMapping для ХЛТ:\")\n",
        "for key, value in Срок_от_окончания_ХЛТ_class.items():\n",
        "    print(f'{key} - {description_time_from_cht[key]}_{value}')\n",
        "\n",
        "# Пример для словаря порогов Молекулярного статуса:\n",
        "Молекулярный_статус_только_для_неплоскоклеточного_рака_class = {'5': 0, '4': 1, '3': 2, '1': 3, '2': 4, '0': 5}\n",
        "description_molecular_status = {'5': 'нет мутаций', '4': 'не исследовались', '3': 'EGFR редкий вариант', '1': 'EGFR ex19', '2': 'EGFR ex21', '0': 'ALK позитивный'}\n",
        "\n",
        "print(\"\\nMapping для Молекулярного статуса:\")\n",
        "for key, value in Молекулярный_статус_только_для_неплоскоклеточного_рака_class.items():\n",
        "    print(f'{key} - {description_molecular_status[key]}_{value}')\n",
        "\n",
        "# Пример для словаря порогов PD_L1_статуса:\n",
        "PD_L1_статус_class = {'2': 0, '1': 1, '0': 2}\n",
        "description_pdl1_status = {'2': 'Не исследовался', '1': 'Менее 1%', '0': 'Более 1%'}\n",
        "\n",
        "print(\"\\nMapping для PD-L1 статуса:\")\n",
        "for key, value in PD_L1_статус_class.items():\n",
        "    print(f'{key} - {description_pdl1_status[key]}_{value}')\n",
        "\n",
        "# Пример для словаря порогов Предпочтения_пациента_по_ответу_на_терапию:\n",
        "Предпочтение_пациента_по_ответу_на_терапию_class = {'0': 0, '1': 1}\n",
        "description_patient_preference = {'0': 'Результативность лечения', '1': 'сохранение качества жизни'}\n",
        "\n",
        "print(\"\\nMapping для Предпочтения_пациента_по_ответу_на_терапию:\")\n",
        "for key, value in Предпочтение_пациента_по_ответу_на_терапию_class.items():\n",
        "    print(f'{key} - {description_patient_preference[key]}_{value}')\n",
        "\n",
        "# Пример для словаря порогов по_ответу_эксперта_Лактионова:\n",
        "Ответ_эксперта_Лактионов_class = {'1': 0, '2': 1, '3': 2, '0': 3}\n",
        "description_examiner_response = {'1': 'Дурвалумаб', '2': 'Наблюдение', '3': 'Осимертиниб', '0': 'Алектиниб'}\n",
        "\n",
        "print(\"\\nMapping по_ответу_эксперта_Лактионова:\")\n",
        "for key, value in Ответ_эксперта_Лактионов_class.items():\n",
        "    print(f'{key} - {description_examiner_response[key]}_{value}')\n",
        "\n",
        "# Пример для словаря порогов по Комментариям:\n",
        "Комментарий_class = {'0': 0, '10': 1, '7': 2, '5': 3, '6': 4, '4': 5, '2': 6, '3': 7, '1': 8, '8': 9, '9': 10}\n",
        "description_comment = {'0': '0',\n",
        "                       '10': 'Нет доказательной базы для назначения после перерыва >61 дня после ХЛТ',\n",
        "                       '7': 'Возможно есть мутации и эффективность Дурвалумаба будет низкой',\n",
        "                       '5': 'Возможна низкая эффективность Дурвалумаба, Осимертиниб без доказательной базы',\n",
        "                       '6': 'Возможна низкая эффективность Дурвалумаба, Осимертиниб без доказательной базы, эффективность Осимертиниба ниже при 21 экзоне',\n",
        "                       '4': 'Возможна низкая эффективность Дурвалумаба, Алектиниб без доказательной базы',\n",
        "                       '2': 'Возможна низкая эффективность Дурвалумаба при PD-1 < 1%',\n",
        "                       '3': 'Возможна низкая эффективность Дурвалумаба при PD-1 < 1%, возможно есть активирующие мутации',\n",
        "                       '1': 'Вероятность 45% PD-L1 < 1% с потенциально низкой эффективностью Дурвалумаба',\n",
        "                       '8': 'Возможно есть мутации и эффективность Дурвалумаба будет низкой\\n, Вероятность 45% PD-L1 < 1% с потенциально низкой эффективностью Дурвалумаба',\n",
        "                       '9': 'Возможно есть мутации и эффективность Дурвалумаба будет низкой\\n, Возможна низкая эффективность Дурвалумаба при PD-1 < 1%'}\n",
        "\n",
        "print(\"\\nMapping попо Комментариям:\")\n",
        "for key, value in Комментарий_class.items():\n",
        "    print(f'{key} - {description_comment[key]}_{value}')\n"
      ],
      "metadata": {
        "colab": {
          "base_uri": "https://localhost:8080/"
        },
        "id": "zZN_BFvGBTi7",
        "outputId": "1dc544e3-3f62-49b6-df7a-6a9132d407b5"
      },
      "execution_count": null,
      "outputs": [
        {
          "output_type": "stream",
          "name": "stdout",
          "text": [
            "Mapping для Раса:\n",
            "0 - Азиатская_0\n",
            "2 - Европейская_1\n",
            "1 - Другая_2\n",
            "\n",
            "Mapping для Пол:\n",
            "1 - Мужской_0\n",
            "0 - Женский_1\n",
            "\n",
            "Mapping для Возрас:\n",
            "1 - До 70_0\n",
            "0 - >70_1\n",
            "\n",
            "Mapping для Статус_курения:\n",
            "0 - В настоящее время_0\n",
            "2 - Курение в прошлом (бросил более 1 месяца до 1 года)_1\n",
            "1 - Курение в прошлом (бросил более 1 года)_2\n",
            "\n",
            "Mapping для ECOG:\n",
            "0 - 0-1_0\n",
            "1 - 2_1\n",
            "\n",
            "Mapping для Есть опухолевая нагрузка:\n",
            "0 - да_0\n",
            "1 - нет_1\n",
            "\n",
            "Mapping для KRAS:\n",
            "0 - да_0\n",
            "1 - нет_1\n",
            "\n",
            "Mapping для p53:\n",
            "0 - да_0\n",
            "1 - нет_1\n",
            "\n",
            "Mapping для STK11:\n",
            "0 - да_0\n",
            "1 - нет_1\n",
            "\n",
            "Mapping для KEAP1:\n",
            "0 - да_0\n",
            "1 - нет_1\n",
            "\n",
            "Mapping для ХЛТ:\n",
            "1 - до 42 дней_0\n",
            "2 - от 43 до 60 дней_1\n",
            "0 - более 61 дня_2\n",
            "\n",
            "Mapping для Молекулярного статуса:\n",
            "5 - нет мутаций_0\n",
            "4 - не исследовались_1\n",
            "3 - EGFR редкий вариант_2\n",
            "1 - EGFR ex19_3\n",
            "2 - EGFR ex21_4\n",
            "0 - ALK позитивный_5\n",
            "\n",
            "Mapping для PD-L1 статуса:\n",
            "2 - Не исследовался_0\n",
            "1 - Менее 1%_1\n",
            "0 - Более 1%_2\n",
            "\n",
            "Mapping для Предпочтения_пациента_по_ответу_на_терапию:\n",
            "0 - Результативность лечения_0\n",
            "1 - сохранение качества жизни_1\n",
            "\n",
            "Mapping по_ответу_эксперта_Лактионова:\n",
            "1 - Дурвалумаб_0\n",
            "2 - Наблюдение_1\n",
            "3 - Осимертиниб_2\n",
            "0 - Алектиниб_3\n",
            "\n",
            "Mapping попо Комментариям:\n",
            "0 - 0_0\n",
            "10 - Нет доказательной базы для назначения после перерыва >61 дня после ХЛТ_1\n",
            "7 - Возможно есть мутации и эффективность Дурвалумаба будет низкой_2\n",
            "5 - Возможна низкая эффективность Дурвалумаба, Осимертиниб без доказательной базы_3\n",
            "6 - Возможна низкая эффективность Дурвалумаба, Осимертиниб без доказательной базы, эффективность Осимертиниба ниже при 21 экзоне_4\n",
            "4 - Возможна низкая эффективность Дурвалумаба, Алектиниб без доказательной базы_5\n",
            "2 - Возможна низкая эффективность Дурвалумаба при PD-1 < 1%_6\n",
            "3 - Возможна низкая эффективность Дурвалумаба при PD-1 < 1%, возможно есть активирующие мутации_7\n",
            "1 - Вероятность 45% PD-L1 < 1% с потенциально низкой эффективностью Дурвалумаба_8\n",
            "8 - Возможно есть мутации и эффективность Дурвалумаба будет низкой\n",
            ", Вероятность 45% PD-L1 < 1% с потенциально низкой эффективностью Дурвалумаба_9\n",
            "9 - Возможно есть мутации и эффективность Дурвалумаба будет низкой\n",
            ", Возможна низкая эффективность Дурвалумаба при PD-1 < 1%_10\n"
          ]
        }
      ]
    },
    {
      "cell_type": "code",
      "source": [
        "# Пример для словаря порогов Раса:\n",
        "Раса_class = {'0': 0, '2': 1, '1': 2}\n",
        "\n",
        "# Сопоставление числовых значений с текстовыми описаниями\n",
        "mapping = {'0': 'Азиатская', '2': 'Европейская', '1': 'Другая'}\n",
        "\n",
        "# Вывод уникальных значений\n",
        "unique_values = Раса_class.keys()\n",
        "for value in unique_values:\n",
        "    print(f'{Раса_class[value]} - {mapping[value]}')"
      ],
      "metadata": {
        "colab": {
          "base_uri": "https://localhost:8080/"
        },
        "id": "PHM3Idnr2wup",
        "outputId": "27d407b8-6b0e-4694-a40c-082178c125b4"
      },
      "execution_count": null,
      "outputs": [
        {
          "output_type": "stream",
          "name": "stdout",
          "text": [
            "0 - Азиатская\n",
            "1 - Европейская\n",
            "2 - Другая\n"
          ]
        }
      ]
    },
    {
      "cell_type": "code",
      "source": [
        "#for name, values in df.items():\n",
        "    #if df[name].dtype == 'object':\n",
        "        #print(name, \":\", df[name].unique())"
      ],
      "metadata": {
        "id": "vq856yOp9XUp"
      },
      "execution_count": null,
      "outputs": []
    },
    {
      "cell_type": "code",
      "source": [
        "# Перепроверим информацию по датасету по изменению типа данных\n",
        "df.info()"
      ],
      "metadata": {
        "colab": {
          "base_uri": "https://localhost:8080/"
        },
        "id": "hd6Cr4Gwmwhp",
        "outputId": "0e92f633-29b9-49de-bdfe-30b53b857865"
      },
      "execution_count": null,
      "outputs": [
        {
          "output_type": "stream",
          "name": "stdout",
          "text": [
            "<class 'pandas.core.frame.DataFrame'>\n",
            "RangeIndex: 248832 entries, 0 to 248831\n",
            "Data columns (total 17 columns):\n",
            " #   Column                                                    Non-Null Count   Dtype\n",
            "---  ------                                                    --------------   -----\n",
            " 0   id_ответа                                                 248832 non-null  int64\n",
            " 1   Раса                                                      248832 non-null  int64\n",
            " 2   Пол                                                       248832 non-null  int64\n",
            " 3   Возраст                                                   248832 non-null  int64\n",
            " 4   Статус курения                                            248832 non-null  int64\n",
            " 5   ECOG                                                      248832 non-null  int64\n",
            " 6   Есть опухолевая нагрузка? (симптомная опухоль)            248832 non-null  int64\n",
            " 7   Ко-мутации KRAS                                           248832 non-null  int64\n",
            " 8   Ко-мутации p53.                                           248832 non-null  int64\n",
            " 9   Ко-мутации STK11                                          248832 non-null  int64\n",
            " 10  Ко-мутации KEAP1                                          248832 non-null  int64\n",
            " 11  Срок от окончания ХЛТ                                     248832 non-null  int64\n",
            " 12  Молекулярный статус (только для неплоскоклеточного рака)  248832 non-null  int64\n",
            " 13  PD-L1 статус                                              248832 non-null  int64\n",
            " 14  Предпочтение пациента по ответу на терапию                248832 non-null  int64\n",
            " 15  Ответ эксперта (Лактионов)                                248832 non-null  int64\n",
            " 16  Комментарий                                               248832 non-null  int64\n",
            "dtypes: int64(17)\n",
            "memory usage: 32.3 MB\n"
          ]
        }
      ]
    },
    {
      "cell_type": "code",
      "source": [
        " #Отделим входные переменные\n",
        "x = df[df.columns[1:15]]\n",
        "x"
      ],
      "metadata": {
        "colab": {
          "base_uri": "https://localhost:8080/",
          "height": 513
        },
        "id": "5bW2ZpkdnB6f",
        "outputId": "f2a98da4-e0d0-436c-ecc4-2247d92b741b"
      },
      "execution_count": null,
      "outputs": [
        {
          "output_type": "execute_result",
          "data": {
            "text/plain": [
              "        Раса  Пол  Возраст  Статус курения  ECOG  \\\n",
              "0          0    1        1               0     0   \n",
              "1          0    1        1               0     0   \n",
              "2          0    1        1               0     0   \n",
              "3          0    1        1               0     0   \n",
              "4          0    1        1               0     0   \n",
              "...      ...  ...      ...             ...   ...   \n",
              "248827     1    0        0               1     1   \n",
              "248828     1    0        0               1     1   \n",
              "248829     1    0        0               1     1   \n",
              "248830     1    0        0               1     1   \n",
              "248831     1    0        0               1     1   \n",
              "\n",
              "        Есть опухолевая нагрузка? (симптомная опухоль)  Ко-мутации KRAS  \\\n",
              "0                                                    0                0   \n",
              "1                                                    0                0   \n",
              "2                                                    0                0   \n",
              "3                                                    0                0   \n",
              "4                                                    0                0   \n",
              "...                                                ...              ...   \n",
              "248827                                               1                1   \n",
              "248828                                               1                1   \n",
              "248829                                               1                1   \n",
              "248830                                               1                1   \n",
              "248831                                               1                1   \n",
              "\n",
              "        Ко-мутации p53.  Ко-мутации STK11  Ко-мутации KEAP1  \\\n",
              "0                     0                 0                 0   \n",
              "1                     0                 0                 0   \n",
              "2                     0                 0                 0   \n",
              "3                     0                 0                 0   \n",
              "4                     0                 0                 0   \n",
              "...                 ...               ...               ...   \n",
              "248827                1                 1                 1   \n",
              "248828                1                 1                 1   \n",
              "248829                1                 1                 1   \n",
              "248830                1                 1                 1   \n",
              "248831                1                 1                 1   \n",
              "\n",
              "        Срок от окончания ХЛТ  \\\n",
              "0                           1   \n",
              "1                           2   \n",
              "2                           0   \n",
              "3                           1   \n",
              "4                           2   \n",
              "...                       ...   \n",
              "248827                      2   \n",
              "248828                      0   \n",
              "248829                      1   \n",
              "248830                      2   \n",
              "248831                      0   \n",
              "\n",
              "        Молекулярный статус (только для неплоскоклеточного рака)  \\\n",
              "0                                                       5          \n",
              "1                                                       5          \n",
              "2                                                       5          \n",
              "3                                                       4          \n",
              "4                                                       4          \n",
              "...                                                   ...          \n",
              "248827                                                  2          \n",
              "248828                                                  2          \n",
              "248829                                                  0          \n",
              "248830                                                  0          \n",
              "248831                                                  0          \n",
              "\n",
              "        PD-L1 статус  Предпочтение пациента по ответу на терапию  \n",
              "0                  2                                           0  \n",
              "1                  2                                           0  \n",
              "2                  2                                           0  \n",
              "3                  2                                           0  \n",
              "4                  2                                           0  \n",
              "...              ...                                         ...  \n",
              "248827             0                                           1  \n",
              "248828             0                                           1  \n",
              "248829             0                                           1  \n",
              "248830             0                                           1  \n",
              "248831             0                                           1  \n",
              "\n",
              "[248832 rows x 14 columns]"
            ],
            "text/html": [
              "\n",
              "  <div id=\"df-a54a5fd5-4014-4907-8f8a-4ce038aca537\" class=\"colab-df-container\">\n",
              "    <div>\n",
              "<style scoped>\n",
              "    .dataframe tbody tr th:only-of-type {\n",
              "        vertical-align: middle;\n",
              "    }\n",
              "\n",
              "    .dataframe tbody tr th {\n",
              "        vertical-align: top;\n",
              "    }\n",
              "\n",
              "    .dataframe thead th {\n",
              "        text-align: right;\n",
              "    }\n",
              "</style>\n",
              "<table border=\"1\" class=\"dataframe\">\n",
              "  <thead>\n",
              "    <tr style=\"text-align: right;\">\n",
              "      <th></th>\n",
              "      <th>Раса</th>\n",
              "      <th>Пол</th>\n",
              "      <th>Возраст</th>\n",
              "      <th>Статус курения</th>\n",
              "      <th>ECOG</th>\n",
              "      <th>Есть опухолевая нагрузка? (симптомная опухоль)</th>\n",
              "      <th>Ко-мутации KRAS</th>\n",
              "      <th>Ко-мутации p53.</th>\n",
              "      <th>Ко-мутации STK11</th>\n",
              "      <th>Ко-мутации KEAP1</th>\n",
              "      <th>Срок от окончания ХЛТ</th>\n",
              "      <th>Молекулярный статус (только для неплоскоклеточного рака)</th>\n",
              "      <th>PD-L1 статус</th>\n",
              "      <th>Предпочтение пациента по ответу на терапию</th>\n",
              "    </tr>\n",
              "  </thead>\n",
              "  <tbody>\n",
              "    <tr>\n",
              "      <th>0</th>\n",
              "      <td>0</td>\n",
              "      <td>1</td>\n",
              "      <td>1</td>\n",
              "      <td>0</td>\n",
              "      <td>0</td>\n",
              "      <td>0</td>\n",
              "      <td>0</td>\n",
              "      <td>0</td>\n",
              "      <td>0</td>\n",
              "      <td>0</td>\n",
              "      <td>1</td>\n",
              "      <td>5</td>\n",
              "      <td>2</td>\n",
              "      <td>0</td>\n",
              "    </tr>\n",
              "    <tr>\n",
              "      <th>1</th>\n",
              "      <td>0</td>\n",
              "      <td>1</td>\n",
              "      <td>1</td>\n",
              "      <td>0</td>\n",
              "      <td>0</td>\n",
              "      <td>0</td>\n",
              "      <td>0</td>\n",
              "      <td>0</td>\n",
              "      <td>0</td>\n",
              "      <td>0</td>\n",
              "      <td>2</td>\n",
              "      <td>5</td>\n",
              "      <td>2</td>\n",
              "      <td>0</td>\n",
              "    </tr>\n",
              "    <tr>\n",
              "      <th>2</th>\n",
              "      <td>0</td>\n",
              "      <td>1</td>\n",
              "      <td>1</td>\n",
              "      <td>0</td>\n",
              "      <td>0</td>\n",
              "      <td>0</td>\n",
              "      <td>0</td>\n",
              "      <td>0</td>\n",
              "      <td>0</td>\n",
              "      <td>0</td>\n",
              "      <td>0</td>\n",
              "      <td>5</td>\n",
              "      <td>2</td>\n",
              "      <td>0</td>\n",
              "    </tr>\n",
              "    <tr>\n",
              "      <th>3</th>\n",
              "      <td>0</td>\n",
              "      <td>1</td>\n",
              "      <td>1</td>\n",
              "      <td>0</td>\n",
              "      <td>0</td>\n",
              "      <td>0</td>\n",
              "      <td>0</td>\n",
              "      <td>0</td>\n",
              "      <td>0</td>\n",
              "      <td>0</td>\n",
              "      <td>1</td>\n",
              "      <td>4</td>\n",
              "      <td>2</td>\n",
              "      <td>0</td>\n",
              "    </tr>\n",
              "    <tr>\n",
              "      <th>4</th>\n",
              "      <td>0</td>\n",
              "      <td>1</td>\n",
              "      <td>1</td>\n",
              "      <td>0</td>\n",
              "      <td>0</td>\n",
              "      <td>0</td>\n",
              "      <td>0</td>\n",
              "      <td>0</td>\n",
              "      <td>0</td>\n",
              "      <td>0</td>\n",
              "      <td>2</td>\n",
              "      <td>4</td>\n",
              "      <td>2</td>\n",
              "      <td>0</td>\n",
              "    </tr>\n",
              "    <tr>\n",
              "      <th>...</th>\n",
              "      <td>...</td>\n",
              "      <td>...</td>\n",
              "      <td>...</td>\n",
              "      <td>...</td>\n",
              "      <td>...</td>\n",
              "      <td>...</td>\n",
              "      <td>...</td>\n",
              "      <td>...</td>\n",
              "      <td>...</td>\n",
              "      <td>...</td>\n",
              "      <td>...</td>\n",
              "      <td>...</td>\n",
              "      <td>...</td>\n",
              "      <td>...</td>\n",
              "    </tr>\n",
              "    <tr>\n",
              "      <th>248827</th>\n",
              "      <td>1</td>\n",
              "      <td>0</td>\n",
              "      <td>0</td>\n",
              "      <td>1</td>\n",
              "      <td>1</td>\n",
              "      <td>1</td>\n",
              "      <td>1</td>\n",
              "      <td>1</td>\n",
              "      <td>1</td>\n",
              "      <td>1</td>\n",
              "      <td>2</td>\n",
              "      <td>2</td>\n",
              "      <td>0</td>\n",
              "      <td>1</td>\n",
              "    </tr>\n",
              "    <tr>\n",
              "      <th>248828</th>\n",
              "      <td>1</td>\n",
              "      <td>0</td>\n",
              "      <td>0</td>\n",
              "      <td>1</td>\n",
              "      <td>1</td>\n",
              "      <td>1</td>\n",
              "      <td>1</td>\n",
              "      <td>1</td>\n",
              "      <td>1</td>\n",
              "      <td>1</td>\n",
              "      <td>0</td>\n",
              "      <td>2</td>\n",
              "      <td>0</td>\n",
              "      <td>1</td>\n",
              "    </tr>\n",
              "    <tr>\n",
              "      <th>248829</th>\n",
              "      <td>1</td>\n",
              "      <td>0</td>\n",
              "      <td>0</td>\n",
              "      <td>1</td>\n",
              "      <td>1</td>\n",
              "      <td>1</td>\n",
              "      <td>1</td>\n",
              "      <td>1</td>\n",
              "      <td>1</td>\n",
              "      <td>1</td>\n",
              "      <td>1</td>\n",
              "      <td>0</td>\n",
              "      <td>0</td>\n",
              "      <td>1</td>\n",
              "    </tr>\n",
              "    <tr>\n",
              "      <th>248830</th>\n",
              "      <td>1</td>\n",
              "      <td>0</td>\n",
              "      <td>0</td>\n",
              "      <td>1</td>\n",
              "      <td>1</td>\n",
              "      <td>1</td>\n",
              "      <td>1</td>\n",
              "      <td>1</td>\n",
              "      <td>1</td>\n",
              "      <td>1</td>\n",
              "      <td>2</td>\n",
              "      <td>0</td>\n",
              "      <td>0</td>\n",
              "      <td>1</td>\n",
              "    </tr>\n",
              "    <tr>\n",
              "      <th>248831</th>\n",
              "      <td>1</td>\n",
              "      <td>0</td>\n",
              "      <td>0</td>\n",
              "      <td>1</td>\n",
              "      <td>1</td>\n",
              "      <td>1</td>\n",
              "      <td>1</td>\n",
              "      <td>1</td>\n",
              "      <td>1</td>\n",
              "      <td>1</td>\n",
              "      <td>0</td>\n",
              "      <td>0</td>\n",
              "      <td>0</td>\n",
              "      <td>1</td>\n",
              "    </tr>\n",
              "  </tbody>\n",
              "</table>\n",
              "<p>248832 rows × 14 columns</p>\n",
              "</div>\n",
              "    <div class=\"colab-df-buttons\">\n",
              "\n",
              "  <div class=\"colab-df-container\">\n",
              "    <button class=\"colab-df-convert\" onclick=\"convertToInteractive('df-a54a5fd5-4014-4907-8f8a-4ce038aca537')\"\n",
              "            title=\"Convert this dataframe to an interactive table.\"\n",
              "            style=\"display:none;\">\n",
              "\n",
              "  <svg xmlns=\"http://www.w3.org/2000/svg\" height=\"24px\" viewBox=\"0 -960 960 960\">\n",
              "    <path d=\"M120-120v-720h720v720H120Zm60-500h600v-160H180v160Zm220 220h160v-160H400v160Zm0 220h160v-160H400v160ZM180-400h160v-160H180v160Zm440 0h160v-160H620v160ZM180-180h160v-160H180v160Zm440 0h160v-160H620v160Z\"/>\n",
              "  </svg>\n",
              "    </button>\n",
              "\n",
              "  <style>\n",
              "    .colab-df-container {\n",
              "      display:flex;\n",
              "      gap: 12px;\n",
              "    }\n",
              "\n",
              "    .colab-df-convert {\n",
              "      background-color: #E8F0FE;\n",
              "      border: none;\n",
              "      border-radius: 50%;\n",
              "      cursor: pointer;\n",
              "      display: none;\n",
              "      fill: #1967D2;\n",
              "      height: 32px;\n",
              "      padding: 0 0 0 0;\n",
              "      width: 32px;\n",
              "    }\n",
              "\n",
              "    .colab-df-convert:hover {\n",
              "      background-color: #E2EBFA;\n",
              "      box-shadow: 0px 1px 2px rgba(60, 64, 67, 0.3), 0px 1px 3px 1px rgba(60, 64, 67, 0.15);\n",
              "      fill: #174EA6;\n",
              "    }\n",
              "\n",
              "    .colab-df-buttons div {\n",
              "      margin-bottom: 4px;\n",
              "    }\n",
              "\n",
              "    [theme=dark] .colab-df-convert {\n",
              "      background-color: #3B4455;\n",
              "      fill: #D2E3FC;\n",
              "    }\n",
              "\n",
              "    [theme=dark] .colab-df-convert:hover {\n",
              "      background-color: #434B5C;\n",
              "      box-shadow: 0px 1px 3px 1px rgba(0, 0, 0, 0.15);\n",
              "      filter: drop-shadow(0px 1px 2px rgba(0, 0, 0, 0.3));\n",
              "      fill: #FFFFFF;\n",
              "    }\n",
              "  </style>\n",
              "\n",
              "    <script>\n",
              "      const buttonEl =\n",
              "        document.querySelector('#df-a54a5fd5-4014-4907-8f8a-4ce038aca537 button.colab-df-convert');\n",
              "      buttonEl.style.display =\n",
              "        google.colab.kernel.accessAllowed ? 'block' : 'none';\n",
              "\n",
              "      async function convertToInteractive(key) {\n",
              "        const element = document.querySelector('#df-a54a5fd5-4014-4907-8f8a-4ce038aca537');\n",
              "        const dataTable =\n",
              "          await google.colab.kernel.invokeFunction('convertToInteractive',\n",
              "                                                    [key], {});\n",
              "        if (!dataTable) return;\n",
              "\n",
              "        const docLinkHtml = 'Like what you see? Visit the ' +\n",
              "          '<a target=\"_blank\" href=https://colab.research.google.com/notebooks/data_table.ipynb>data table notebook</a>'\n",
              "          + ' to learn more about interactive tables.';\n",
              "        element.innerHTML = '';\n",
              "        dataTable['output_type'] = 'display_data';\n",
              "        await google.colab.output.renderOutput(dataTable, element);\n",
              "        const docLink = document.createElement('div');\n",
              "        docLink.innerHTML = docLinkHtml;\n",
              "        element.appendChild(docLink);\n",
              "      }\n",
              "    </script>\n",
              "  </div>\n",
              "\n",
              "\n",
              "<div id=\"df-5c0f2536-a19a-4aec-9bee-f09ecbc12b31\">\n",
              "  <button class=\"colab-df-quickchart\" onclick=\"quickchart('df-5c0f2536-a19a-4aec-9bee-f09ecbc12b31')\"\n",
              "            title=\"Suggest charts\"\n",
              "            style=\"display:none;\">\n",
              "\n",
              "<svg xmlns=\"http://www.w3.org/2000/svg\" height=\"24px\"viewBox=\"0 0 24 24\"\n",
              "     width=\"24px\">\n",
              "    <g>\n",
              "        <path d=\"M19 3H5c-1.1 0-2 .9-2 2v14c0 1.1.9 2 2 2h14c1.1 0 2-.9 2-2V5c0-1.1-.9-2-2-2zM9 17H7v-7h2v7zm4 0h-2V7h2v10zm4 0h-2v-4h2v4z\"/>\n",
              "    </g>\n",
              "</svg>\n",
              "  </button>\n",
              "\n",
              "<style>\n",
              "  .colab-df-quickchart {\n",
              "      --bg-color: #E8F0FE;\n",
              "      --fill-color: #1967D2;\n",
              "      --hover-bg-color: #E2EBFA;\n",
              "      --hover-fill-color: #174EA6;\n",
              "      --disabled-fill-color: #AAA;\n",
              "      --disabled-bg-color: #DDD;\n",
              "  }\n",
              "\n",
              "  [theme=dark] .colab-df-quickchart {\n",
              "      --bg-color: #3B4455;\n",
              "      --fill-color: #D2E3FC;\n",
              "      --hover-bg-color: #434B5C;\n",
              "      --hover-fill-color: #FFFFFF;\n",
              "      --disabled-bg-color: #3B4455;\n",
              "      --disabled-fill-color: #666;\n",
              "  }\n",
              "\n",
              "  .colab-df-quickchart {\n",
              "    background-color: var(--bg-color);\n",
              "    border: none;\n",
              "    border-radius: 50%;\n",
              "    cursor: pointer;\n",
              "    display: none;\n",
              "    fill: var(--fill-color);\n",
              "    height: 32px;\n",
              "    padding: 0;\n",
              "    width: 32px;\n",
              "  }\n",
              "\n",
              "  .colab-df-quickchart:hover {\n",
              "    background-color: var(--hover-bg-color);\n",
              "    box-shadow: 0 1px 2px rgba(60, 64, 67, 0.3), 0 1px 3px 1px rgba(60, 64, 67, 0.15);\n",
              "    fill: var(--button-hover-fill-color);\n",
              "  }\n",
              "\n",
              "  .colab-df-quickchart-complete:disabled,\n",
              "  .colab-df-quickchart-complete:disabled:hover {\n",
              "    background-color: var(--disabled-bg-color);\n",
              "    fill: var(--disabled-fill-color);\n",
              "    box-shadow: none;\n",
              "  }\n",
              "\n",
              "  .colab-df-spinner {\n",
              "    border: 2px solid var(--fill-color);\n",
              "    border-color: transparent;\n",
              "    border-bottom-color: var(--fill-color);\n",
              "    animation:\n",
              "      spin 1s steps(1) infinite;\n",
              "  }\n",
              "\n",
              "  @keyframes spin {\n",
              "    0% {\n",
              "      border-color: transparent;\n",
              "      border-bottom-color: var(--fill-color);\n",
              "      border-left-color: var(--fill-color);\n",
              "    }\n",
              "    20% {\n",
              "      border-color: transparent;\n",
              "      border-left-color: var(--fill-color);\n",
              "      border-top-color: var(--fill-color);\n",
              "    }\n",
              "    30% {\n",
              "      border-color: transparent;\n",
              "      border-left-color: var(--fill-color);\n",
              "      border-top-color: var(--fill-color);\n",
              "      border-right-color: var(--fill-color);\n",
              "    }\n",
              "    40% {\n",
              "      border-color: transparent;\n",
              "      border-right-color: var(--fill-color);\n",
              "      border-top-color: var(--fill-color);\n",
              "    }\n",
              "    60% {\n",
              "      border-color: transparent;\n",
              "      border-right-color: var(--fill-color);\n",
              "    }\n",
              "    80% {\n",
              "      border-color: transparent;\n",
              "      border-right-color: var(--fill-color);\n",
              "      border-bottom-color: var(--fill-color);\n",
              "    }\n",
              "    90% {\n",
              "      border-color: transparent;\n",
              "      border-bottom-color: var(--fill-color);\n",
              "    }\n",
              "  }\n",
              "</style>\n",
              "\n",
              "  <script>\n",
              "    async function quickchart(key) {\n",
              "      const quickchartButtonEl =\n",
              "        document.querySelector('#' + key + ' button');\n",
              "      quickchartButtonEl.disabled = true;  // To prevent multiple clicks.\n",
              "      quickchartButtonEl.classList.add('colab-df-spinner');\n",
              "      try {\n",
              "        const charts = await google.colab.kernel.invokeFunction(\n",
              "            'suggestCharts', [key], {});\n",
              "      } catch (error) {\n",
              "        console.error('Error during call to suggestCharts:', error);\n",
              "      }\n",
              "      quickchartButtonEl.classList.remove('colab-df-spinner');\n",
              "      quickchartButtonEl.classList.add('colab-df-quickchart-complete');\n",
              "    }\n",
              "    (() => {\n",
              "      let quickchartButtonEl =\n",
              "        document.querySelector('#df-5c0f2536-a19a-4aec-9bee-f09ecbc12b31 button');\n",
              "      quickchartButtonEl.style.display =\n",
              "        google.colab.kernel.accessAllowed ? 'block' : 'none';\n",
              "    })();\n",
              "  </script>\n",
              "</div>\n",
              "\n",
              "  <div id=\"id_e7ad7737-a60a-4339-a108-01396e6ac92f\">\n",
              "    <style>\n",
              "      .colab-df-generate {\n",
              "        background-color: #E8F0FE;\n",
              "        border: none;\n",
              "        border-radius: 50%;\n",
              "        cursor: pointer;\n",
              "        display: none;\n",
              "        fill: #1967D2;\n",
              "        height: 32px;\n",
              "        padding: 0 0 0 0;\n",
              "        width: 32px;\n",
              "      }\n",
              "\n",
              "      .colab-df-generate:hover {\n",
              "        background-color: #E2EBFA;\n",
              "        box-shadow: 0px 1px 2px rgba(60, 64, 67, 0.3), 0px 1px 3px 1px rgba(60, 64, 67, 0.15);\n",
              "        fill: #174EA6;\n",
              "      }\n",
              "\n",
              "      [theme=dark] .colab-df-generate {\n",
              "        background-color: #3B4455;\n",
              "        fill: #D2E3FC;\n",
              "      }\n",
              "\n",
              "      [theme=dark] .colab-df-generate:hover {\n",
              "        background-color: #434B5C;\n",
              "        box-shadow: 0px 1px 3px 1px rgba(0, 0, 0, 0.15);\n",
              "        filter: drop-shadow(0px 1px 2px rgba(0, 0, 0, 0.3));\n",
              "        fill: #FFFFFF;\n",
              "      }\n",
              "    </style>\n",
              "    <button class=\"colab-df-generate\" onclick=\"generateWithVariable('x')\"\n",
              "            title=\"Generate code using this dataframe.\"\n",
              "            style=\"display:none;\">\n",
              "\n",
              "  <svg xmlns=\"http://www.w3.org/2000/svg\" height=\"24px\"viewBox=\"0 0 24 24\"\n",
              "       width=\"24px\">\n",
              "    <path d=\"M7,19H8.4L18.45,9,17,7.55,7,17.6ZM5,21V16.75L18.45,3.32a2,2,0,0,1,2.83,0l1.4,1.43a1.91,1.91,0,0,1,.58,1.4,1.91,1.91,0,0,1-.58,1.4L9.25,21ZM18.45,9,17,7.55Zm-12,3A5.31,5.31,0,0,0,4.9,8.1,5.31,5.31,0,0,0,1,6.5,5.31,5.31,0,0,0,4.9,4.9,5.31,5.31,0,0,0,6.5,1,5.31,5.31,0,0,0,8.1,4.9,5.31,5.31,0,0,0,12,6.5,5.46,5.46,0,0,0,6.5,12Z\"/>\n",
              "  </svg>\n",
              "    </button>\n",
              "    <script>\n",
              "      (() => {\n",
              "      const buttonEl =\n",
              "        document.querySelector('#id_e7ad7737-a60a-4339-a108-01396e6ac92f button.colab-df-generate');\n",
              "      buttonEl.style.display =\n",
              "        google.colab.kernel.accessAllowed ? 'block' : 'none';\n",
              "\n",
              "      buttonEl.onclick = () => {\n",
              "        google.colab.notebook.generateWithVariable('x');\n",
              "      }\n",
              "      })();\n",
              "    </script>\n",
              "  </div>\n",
              "\n",
              "    </div>\n",
              "  </div>\n"
            ]
          },
          "metadata": {},
          "execution_count": 22
        }
      ]
    },
    {
      "cell_type": "code",
      "source": [
        "# Проверочные переменные\n",
        "y = df[df.columns[15:17]]\n",
        "y"
      ],
      "metadata": {
        "colab": {
          "base_uri": "https://localhost:8080/",
          "height": 424
        },
        "id": "4hWCBZNPnNDl",
        "outputId": "3338f17d-c14e-4ad6-8729-d6dad364a1fc"
      },
      "execution_count": null,
      "outputs": [
        {
          "output_type": "execute_result",
          "data": {
            "text/plain": [
              "        Ответ эксперта (Лактионов)  Комментарий\n",
              "0                                1            0\n",
              "1                                1            0\n",
              "2                                2           10\n",
              "3                                1            7\n",
              "4                                1            7\n",
              "...                            ...          ...\n",
              "248827                           2            6\n",
              "248828                           2            0\n",
              "248829                           0            4\n",
              "248830                           0            4\n",
              "248831                           2            0\n",
              "\n",
              "[248832 rows x 2 columns]"
            ],
            "text/html": [
              "\n",
              "  <div id=\"df-1b6cc948-dc7f-48dd-8af9-6dc571314f85\" class=\"colab-df-container\">\n",
              "    <div>\n",
              "<style scoped>\n",
              "    .dataframe tbody tr th:only-of-type {\n",
              "        vertical-align: middle;\n",
              "    }\n",
              "\n",
              "    .dataframe tbody tr th {\n",
              "        vertical-align: top;\n",
              "    }\n",
              "\n",
              "    .dataframe thead th {\n",
              "        text-align: right;\n",
              "    }\n",
              "</style>\n",
              "<table border=\"1\" class=\"dataframe\">\n",
              "  <thead>\n",
              "    <tr style=\"text-align: right;\">\n",
              "      <th></th>\n",
              "      <th>Ответ эксперта (Лактионов)</th>\n",
              "      <th>Комментарий</th>\n",
              "    </tr>\n",
              "  </thead>\n",
              "  <tbody>\n",
              "    <tr>\n",
              "      <th>0</th>\n",
              "      <td>1</td>\n",
              "      <td>0</td>\n",
              "    </tr>\n",
              "    <tr>\n",
              "      <th>1</th>\n",
              "      <td>1</td>\n",
              "      <td>0</td>\n",
              "    </tr>\n",
              "    <tr>\n",
              "      <th>2</th>\n",
              "      <td>2</td>\n",
              "      <td>10</td>\n",
              "    </tr>\n",
              "    <tr>\n",
              "      <th>3</th>\n",
              "      <td>1</td>\n",
              "      <td>7</td>\n",
              "    </tr>\n",
              "    <tr>\n",
              "      <th>4</th>\n",
              "      <td>1</td>\n",
              "      <td>7</td>\n",
              "    </tr>\n",
              "    <tr>\n",
              "      <th>...</th>\n",
              "      <td>...</td>\n",
              "      <td>...</td>\n",
              "    </tr>\n",
              "    <tr>\n",
              "      <th>248827</th>\n",
              "      <td>2</td>\n",
              "      <td>6</td>\n",
              "    </tr>\n",
              "    <tr>\n",
              "      <th>248828</th>\n",
              "      <td>2</td>\n",
              "      <td>0</td>\n",
              "    </tr>\n",
              "    <tr>\n",
              "      <th>248829</th>\n",
              "      <td>0</td>\n",
              "      <td>4</td>\n",
              "    </tr>\n",
              "    <tr>\n",
              "      <th>248830</th>\n",
              "      <td>0</td>\n",
              "      <td>4</td>\n",
              "    </tr>\n",
              "    <tr>\n",
              "      <th>248831</th>\n",
              "      <td>2</td>\n",
              "      <td>0</td>\n",
              "    </tr>\n",
              "  </tbody>\n",
              "</table>\n",
              "<p>248832 rows × 2 columns</p>\n",
              "</div>\n",
              "    <div class=\"colab-df-buttons\">\n",
              "\n",
              "  <div class=\"colab-df-container\">\n",
              "    <button class=\"colab-df-convert\" onclick=\"convertToInteractive('df-1b6cc948-dc7f-48dd-8af9-6dc571314f85')\"\n",
              "            title=\"Convert this dataframe to an interactive table.\"\n",
              "            style=\"display:none;\">\n",
              "\n",
              "  <svg xmlns=\"http://www.w3.org/2000/svg\" height=\"24px\" viewBox=\"0 -960 960 960\">\n",
              "    <path d=\"M120-120v-720h720v720H120Zm60-500h600v-160H180v160Zm220 220h160v-160H400v160Zm0 220h160v-160H400v160ZM180-400h160v-160H180v160Zm440 0h160v-160H620v160ZM180-180h160v-160H180v160Zm440 0h160v-160H620v160Z\"/>\n",
              "  </svg>\n",
              "    </button>\n",
              "\n",
              "  <style>\n",
              "    .colab-df-container {\n",
              "      display:flex;\n",
              "      gap: 12px;\n",
              "    }\n",
              "\n",
              "    .colab-df-convert {\n",
              "      background-color: #E8F0FE;\n",
              "      border: none;\n",
              "      border-radius: 50%;\n",
              "      cursor: pointer;\n",
              "      display: none;\n",
              "      fill: #1967D2;\n",
              "      height: 32px;\n",
              "      padding: 0 0 0 0;\n",
              "      width: 32px;\n",
              "    }\n",
              "\n",
              "    .colab-df-convert:hover {\n",
              "      background-color: #E2EBFA;\n",
              "      box-shadow: 0px 1px 2px rgba(60, 64, 67, 0.3), 0px 1px 3px 1px rgba(60, 64, 67, 0.15);\n",
              "      fill: #174EA6;\n",
              "    }\n",
              "\n",
              "    .colab-df-buttons div {\n",
              "      margin-bottom: 4px;\n",
              "    }\n",
              "\n",
              "    [theme=dark] .colab-df-convert {\n",
              "      background-color: #3B4455;\n",
              "      fill: #D2E3FC;\n",
              "    }\n",
              "\n",
              "    [theme=dark] .colab-df-convert:hover {\n",
              "      background-color: #434B5C;\n",
              "      box-shadow: 0px 1px 3px 1px rgba(0, 0, 0, 0.15);\n",
              "      filter: drop-shadow(0px 1px 2px rgba(0, 0, 0, 0.3));\n",
              "      fill: #FFFFFF;\n",
              "    }\n",
              "  </style>\n",
              "\n",
              "    <script>\n",
              "      const buttonEl =\n",
              "        document.querySelector('#df-1b6cc948-dc7f-48dd-8af9-6dc571314f85 button.colab-df-convert');\n",
              "      buttonEl.style.display =\n",
              "        google.colab.kernel.accessAllowed ? 'block' : 'none';\n",
              "\n",
              "      async function convertToInteractive(key) {\n",
              "        const element = document.querySelector('#df-1b6cc948-dc7f-48dd-8af9-6dc571314f85');\n",
              "        const dataTable =\n",
              "          await google.colab.kernel.invokeFunction('convertToInteractive',\n",
              "                                                    [key], {});\n",
              "        if (!dataTable) return;\n",
              "\n",
              "        const docLinkHtml = 'Like what you see? Visit the ' +\n",
              "          '<a target=\"_blank\" href=https://colab.research.google.com/notebooks/data_table.ipynb>data table notebook</a>'\n",
              "          + ' to learn more about interactive tables.';\n",
              "        element.innerHTML = '';\n",
              "        dataTable['output_type'] = 'display_data';\n",
              "        await google.colab.output.renderOutput(dataTable, element);\n",
              "        const docLink = document.createElement('div');\n",
              "        docLink.innerHTML = docLinkHtml;\n",
              "        element.appendChild(docLink);\n",
              "      }\n",
              "    </script>\n",
              "  </div>\n",
              "\n",
              "\n",
              "<div id=\"df-4d5416af-1d88-4ea9-96e1-4fb425dac70a\">\n",
              "  <button class=\"colab-df-quickchart\" onclick=\"quickchart('df-4d5416af-1d88-4ea9-96e1-4fb425dac70a')\"\n",
              "            title=\"Suggest charts\"\n",
              "            style=\"display:none;\">\n",
              "\n",
              "<svg xmlns=\"http://www.w3.org/2000/svg\" height=\"24px\"viewBox=\"0 0 24 24\"\n",
              "     width=\"24px\">\n",
              "    <g>\n",
              "        <path d=\"M19 3H5c-1.1 0-2 .9-2 2v14c0 1.1.9 2 2 2h14c1.1 0 2-.9 2-2V5c0-1.1-.9-2-2-2zM9 17H7v-7h2v7zm4 0h-2V7h2v10zm4 0h-2v-4h2v4z\"/>\n",
              "    </g>\n",
              "</svg>\n",
              "  </button>\n",
              "\n",
              "<style>\n",
              "  .colab-df-quickchart {\n",
              "      --bg-color: #E8F0FE;\n",
              "      --fill-color: #1967D2;\n",
              "      --hover-bg-color: #E2EBFA;\n",
              "      --hover-fill-color: #174EA6;\n",
              "      --disabled-fill-color: #AAA;\n",
              "      --disabled-bg-color: #DDD;\n",
              "  }\n",
              "\n",
              "  [theme=dark] .colab-df-quickchart {\n",
              "      --bg-color: #3B4455;\n",
              "      --fill-color: #D2E3FC;\n",
              "      --hover-bg-color: #434B5C;\n",
              "      --hover-fill-color: #FFFFFF;\n",
              "      --disabled-bg-color: #3B4455;\n",
              "      --disabled-fill-color: #666;\n",
              "  }\n",
              "\n",
              "  .colab-df-quickchart {\n",
              "    background-color: var(--bg-color);\n",
              "    border: none;\n",
              "    border-radius: 50%;\n",
              "    cursor: pointer;\n",
              "    display: none;\n",
              "    fill: var(--fill-color);\n",
              "    height: 32px;\n",
              "    padding: 0;\n",
              "    width: 32px;\n",
              "  }\n",
              "\n",
              "  .colab-df-quickchart:hover {\n",
              "    background-color: var(--hover-bg-color);\n",
              "    box-shadow: 0 1px 2px rgba(60, 64, 67, 0.3), 0 1px 3px 1px rgba(60, 64, 67, 0.15);\n",
              "    fill: var(--button-hover-fill-color);\n",
              "  }\n",
              "\n",
              "  .colab-df-quickchart-complete:disabled,\n",
              "  .colab-df-quickchart-complete:disabled:hover {\n",
              "    background-color: var(--disabled-bg-color);\n",
              "    fill: var(--disabled-fill-color);\n",
              "    box-shadow: none;\n",
              "  }\n",
              "\n",
              "  .colab-df-spinner {\n",
              "    border: 2px solid var(--fill-color);\n",
              "    border-color: transparent;\n",
              "    border-bottom-color: var(--fill-color);\n",
              "    animation:\n",
              "      spin 1s steps(1) infinite;\n",
              "  }\n",
              "\n",
              "  @keyframes spin {\n",
              "    0% {\n",
              "      border-color: transparent;\n",
              "      border-bottom-color: var(--fill-color);\n",
              "      border-left-color: var(--fill-color);\n",
              "    }\n",
              "    20% {\n",
              "      border-color: transparent;\n",
              "      border-left-color: var(--fill-color);\n",
              "      border-top-color: var(--fill-color);\n",
              "    }\n",
              "    30% {\n",
              "      border-color: transparent;\n",
              "      border-left-color: var(--fill-color);\n",
              "      border-top-color: var(--fill-color);\n",
              "      border-right-color: var(--fill-color);\n",
              "    }\n",
              "    40% {\n",
              "      border-color: transparent;\n",
              "      border-right-color: var(--fill-color);\n",
              "      border-top-color: var(--fill-color);\n",
              "    }\n",
              "    60% {\n",
              "      border-color: transparent;\n",
              "      border-right-color: var(--fill-color);\n",
              "    }\n",
              "    80% {\n",
              "      border-color: transparent;\n",
              "      border-right-color: var(--fill-color);\n",
              "      border-bottom-color: var(--fill-color);\n",
              "    }\n",
              "    90% {\n",
              "      border-color: transparent;\n",
              "      border-bottom-color: var(--fill-color);\n",
              "    }\n",
              "  }\n",
              "</style>\n",
              "\n",
              "  <script>\n",
              "    async function quickchart(key) {\n",
              "      const quickchartButtonEl =\n",
              "        document.querySelector('#' + key + ' button');\n",
              "      quickchartButtonEl.disabled = true;  // To prevent multiple clicks.\n",
              "      quickchartButtonEl.classList.add('colab-df-spinner');\n",
              "      try {\n",
              "        const charts = await google.colab.kernel.invokeFunction(\n",
              "            'suggestCharts', [key], {});\n",
              "      } catch (error) {\n",
              "        console.error('Error during call to suggestCharts:', error);\n",
              "      }\n",
              "      quickchartButtonEl.classList.remove('colab-df-spinner');\n",
              "      quickchartButtonEl.classList.add('colab-df-quickchart-complete');\n",
              "    }\n",
              "    (() => {\n",
              "      let quickchartButtonEl =\n",
              "        document.querySelector('#df-4d5416af-1d88-4ea9-96e1-4fb425dac70a button');\n",
              "      quickchartButtonEl.style.display =\n",
              "        google.colab.kernel.accessAllowed ? 'block' : 'none';\n",
              "    })();\n",
              "  </script>\n",
              "</div>\n",
              "\n",
              "  <div id=\"id_33cdf25a-f294-4bb7-8d7b-841d13275dd8\">\n",
              "    <style>\n",
              "      .colab-df-generate {\n",
              "        background-color: #E8F0FE;\n",
              "        border: none;\n",
              "        border-radius: 50%;\n",
              "        cursor: pointer;\n",
              "        display: none;\n",
              "        fill: #1967D2;\n",
              "        height: 32px;\n",
              "        padding: 0 0 0 0;\n",
              "        width: 32px;\n",
              "      }\n",
              "\n",
              "      .colab-df-generate:hover {\n",
              "        background-color: #E2EBFA;\n",
              "        box-shadow: 0px 1px 2px rgba(60, 64, 67, 0.3), 0px 1px 3px 1px rgba(60, 64, 67, 0.15);\n",
              "        fill: #174EA6;\n",
              "      }\n",
              "\n",
              "      [theme=dark] .colab-df-generate {\n",
              "        background-color: #3B4455;\n",
              "        fill: #D2E3FC;\n",
              "      }\n",
              "\n",
              "      [theme=dark] .colab-df-generate:hover {\n",
              "        background-color: #434B5C;\n",
              "        box-shadow: 0px 1px 3px 1px rgba(0, 0, 0, 0.15);\n",
              "        filter: drop-shadow(0px 1px 2px rgba(0, 0, 0, 0.3));\n",
              "        fill: #FFFFFF;\n",
              "      }\n",
              "    </style>\n",
              "    <button class=\"colab-df-generate\" onclick=\"generateWithVariable('y')\"\n",
              "            title=\"Generate code using this dataframe.\"\n",
              "            style=\"display:none;\">\n",
              "\n",
              "  <svg xmlns=\"http://www.w3.org/2000/svg\" height=\"24px\"viewBox=\"0 0 24 24\"\n",
              "       width=\"24px\">\n",
              "    <path d=\"M7,19H8.4L18.45,9,17,7.55,7,17.6ZM5,21V16.75L18.45,3.32a2,2,0,0,1,2.83,0l1.4,1.43a1.91,1.91,0,0,1,.58,1.4,1.91,1.91,0,0,1-.58,1.4L9.25,21ZM18.45,9,17,7.55Zm-12,3A5.31,5.31,0,0,0,4.9,8.1,5.31,5.31,0,0,0,1,6.5,5.31,5.31,0,0,0,4.9,4.9,5.31,5.31,0,0,0,6.5,1,5.31,5.31,0,0,0,8.1,4.9,5.31,5.31,0,0,0,12,6.5,5.46,5.46,0,0,0,6.5,12Z\"/>\n",
              "  </svg>\n",
              "    </button>\n",
              "    <script>\n",
              "      (() => {\n",
              "      const buttonEl =\n",
              "        document.querySelector('#id_33cdf25a-f294-4bb7-8d7b-841d13275dd8 button.colab-df-generate');\n",
              "      buttonEl.style.display =\n",
              "        google.colab.kernel.accessAllowed ? 'block' : 'none';\n",
              "\n",
              "      buttonEl.onclick = () => {\n",
              "        google.colab.notebook.generateWithVariable('y');\n",
              "      }\n",
              "      })();\n",
              "    </script>\n",
              "  </div>\n",
              "\n",
              "    </div>\n",
              "  </div>\n"
            ]
          },
          "metadata": {},
          "execution_count": 23
        }
      ]
    },
    {
      "cell_type": "code",
      "source": [
        "x_columns = df.columns[1:15]\n",
        "x_columns\n"
      ],
      "metadata": {
        "colab": {
          "base_uri": "https://localhost:8080/"
        },
        "id": "-g0Afpwf0BbZ",
        "outputId": "a7eb5fd7-7a6e-4cab-edc0-80a76ea8f7c3"
      },
      "execution_count": null,
      "outputs": [
        {
          "output_type": "execute_result",
          "data": {
            "text/plain": [
              "Index(['Раса', 'Пол', 'Возраст', 'Статус курения', 'ECOG',\n",
              "       'Есть опухолевая нагрузка? (симптомная опухоль)', 'Ко-мутации KRAS',\n",
              "       'Ко-мутации p53.', 'Ко-мутации STK11', 'Ко-мутации KEAP1',\n",
              "       'Срок от окончания ХЛТ',\n",
              "       'Молекулярный статус (только для неплоскоклеточного рака)',\n",
              "       'PD-L1 статус', 'Предпочтение пациента по ответу на терапию'],\n",
              "      dtype='object')"
            ]
          },
          "metadata": {},
          "execution_count": 27
        }
      ]
    },
    {
      "cell_type": "code",
      "source": [
        "# Проверочные переменные\n",
        "y_columns = df.columns[15:17]\n",
        "y_columns"
      ],
      "metadata": {
        "colab": {
          "base_uri": "https://localhost:8080/"
        },
        "id": "dhTSnE05a6kR",
        "outputId": "7a35a841-f56c-4bdb-fb3b-747bba586e4b"
      },
      "execution_count": null,
      "outputs": [
        {
          "output_type": "execute_result",
          "data": {
            "text/plain": [
              "Index(['Ответ эксперта (Лактионов)', 'Комментарий'], dtype='object')"
            ]
          },
          "metadata": {},
          "execution_count": 26
        }
      ]
    },
    {
      "cell_type": "code",
      "source": [
        "# Извлекаем данные в виде массивов NumPy\n",
        "x_data = df[x_columns].values\n",
        "y_data = df[y_columns].values"
      ],
      "metadata": {
        "id": "iNnMFL0IeGxl"
      },
      "execution_count": null,
      "outputs": []
    },
    {
      "cell_type": "code",
      "source": [
        "x_data"
      ],
      "metadata": {
        "colab": {
          "base_uri": "https://localhost:8080/"
        },
        "id": "PrSSv65qeZ7Y",
        "outputId": "d4a3436d-6796-44f6-b3a4-033d925b6429"
      },
      "execution_count": null,
      "outputs": [
        {
          "output_type": "execute_result",
          "data": {
            "text/plain": [
              "array([[0, 1, 1, ..., 5, 2, 0],\n",
              "       [0, 1, 1, ..., 5, 2, 0],\n",
              "       [0, 1, 1, ..., 5, 2, 0],\n",
              "       ...,\n",
              "       [1, 0, 0, ..., 0, 0, 1],\n",
              "       [1, 0, 0, ..., 0, 0, 1],\n",
              "       [1, 0, 0, ..., 0, 0, 1]])"
            ]
          },
          "metadata": {},
          "execution_count": 29
        }
      ]
    },
    {
      "cell_type": "code",
      "source": [
        "y_data"
      ],
      "metadata": {
        "colab": {
          "base_uri": "https://localhost:8080/"
        },
        "id": "O77lwmVsedwY",
        "outputId": "0a0959ed-96c6-4f3a-a7e4-2c537eedf5e9"
      },
      "execution_count": null,
      "outputs": [
        {
          "output_type": "execute_result",
          "data": {
            "text/plain": [
              "array([[ 1,  0],\n",
              "       [ 1,  0],\n",
              "       [ 2, 10],\n",
              "       ...,\n",
              "       [ 0,  4],\n",
              "       [ 0,  4],\n",
              "       [ 2,  0]])"
            ]
          },
          "metadata": {},
          "execution_count": 30
        }
      ]
    },
    {
      "cell_type": "code",
      "source": [
        "# Разбиение наборов на общую и проверочную выборки\n",
        "x_train, x_test, y_train, y_test = train_test_split(x_data, y_data, test_size=0.15, shuffle=True, random_state = 15)"
      ],
      "metadata": {
        "id": "nwpy90U9xE2v"
      },
      "execution_count": null,
      "outputs": []
    },
    {
      "cell_type": "code",
      "source": [
        "\n",
        "print(\"Training Data (NumPy):\")\n",
        "print(x_train)\n",
        "print(\"Labels (NumPy):\")\n",
        "print(y_train)\n",
        "\n",
        "print(\"Testing Data (NumPy):\")\n",
        "print(x_test)\n",
        "print(\"Labels for Testing (NumPy):\")\n",
        "print(y_test)\n",
        "\n"
      ],
      "metadata": {
        "colab": {
          "base_uri": "https://localhost:8080/"
        },
        "id": "6MKgSordtRBZ",
        "outputId": "ac106ed5-5f36-4d3b-f5c3-aac6d8af5a7d"
      },
      "execution_count": null,
      "outputs": [
        {
          "output_type": "stream",
          "name": "stdout",
          "text": [
            "Training Data (NumPy):\n",
            "[[2 1 0 ... 0 0 1]\n",
            " [2 1 0 ... 3 2 1]\n",
            " [0 0 1 ... 1 1 0]\n",
            " ...\n",
            " [1 1 1 ... 2 1 1]\n",
            " [0 1 1 ... 4 1 0]\n",
            " [2 0 0 ... 1 2 1]]\n",
            "Labels (NumPy):\n",
            "[[2 0]\n",
            " [2 5]\n",
            " [3 5]\n",
            " ...\n",
            " [3 6]\n",
            " [1 3]\n",
            " [2 5]]\n",
            "Testing Data (NumPy):\n",
            "[[2 1 0 ... 0 0 0]\n",
            " [2 0 1 ... 4 2 0]\n",
            " [2 0 1 ... 2 1 1]\n",
            " ...\n",
            " [0 1 1 ... 2 1 0]\n",
            " [1 1 0 ... 2 2 1]\n",
            " [0 0 0 ... 3 1 1]]\n",
            "Labels for Testing (NumPy):\n",
            "[[ 0  4]\n",
            " [ 2 10]\n",
            " [ 2  6]\n",
            " ...\n",
            " [ 2  6]\n",
            " [ 3  6]\n",
            " [ 2  0]]\n"
          ]
        }
      ]
    },
    {
      "cell_type": "code",
      "source": [
        "print(\"Training Data:\")\n",
        "print(x_train)\n",
        "print(\"Labels:\")\n",
        "print(y_train)\n",
        "print(type(x_train))\n",
        "print(type(y_train))"
      ],
      "metadata": {
        "colab": {
          "base_uri": "https://localhost:8080/"
        },
        "id": "fsEPMhmmtZsX",
        "outputId": "28cf975b-8b0d-4471-c2d5-c5eb6d967872"
      },
      "execution_count": null,
      "outputs": [
        {
          "output_type": "stream",
          "name": "stdout",
          "text": [
            "Training Data:\n",
            "[[2 1 0 ... 0 0 1]\n",
            " [2 1 0 ... 3 2 1]\n",
            " [0 0 1 ... 1 1 0]\n",
            " ...\n",
            " [1 1 1 ... 2 1 1]\n",
            " [0 1 1 ... 4 1 0]\n",
            " [2 0 0 ... 1 2 1]]\n",
            "Labels:\n",
            "[[2 0]\n",
            " [2 5]\n",
            " [3 5]\n",
            " ...\n",
            " [3 6]\n",
            " [1 3]\n",
            " [2 5]]\n",
            "<class 'numpy.ndarray'>\n",
            "<class 'numpy.ndarray'>\n"
          ]
        }
      ]
    },
    {
      "cell_type": "code",
      "source": [],
      "metadata": {
        "id": "gXdYewvu1rZP"
      },
      "execution_count": null,
      "outputs": []
    },
    {
      "cell_type": "code",
      "source": [
        "# Вывод размеров обучающей и проверочной выборок\n",
        "print(f'Размер обучающей выборки: {x_train.shape[0]}')\n",
        "print(f'Размер проверочной выборки: {x_test.shape[0]}')"
      ],
      "metadata": {
        "colab": {
          "base_uri": "https://localhost:8080/"
        },
        "id": "fAPqelXDnySv",
        "outputId": "99e9d49d-c946-478b-ed25-f72a65f3b624"
      },
      "execution_count": null,
      "outputs": [
        {
          "output_type": "stream",
          "name": "stdout",
          "text": [
            "Размер обучающей выборки: 211507\n",
            "Размер проверочной выборки: 37325\n"
          ]
        }
      ]
    },
    {
      "cell_type": "code",
      "source": [
        "# Уникальные значения для признаков (X)\n",
        "unique_values_x = np.unique(x_data, axis=0)\n",
        "print(\"Уникальные значения для признаков (X):\")\n",
        "print(unique_values_x)"
      ],
      "metadata": {
        "colab": {
          "base_uri": "https://localhost:8080/"
        },
        "id": "n26AtQ0NkQ63",
        "outputId": "c10b39bb-b1b6-4254-b3fa-554bb02fd27b"
      },
      "execution_count": null,
      "outputs": [
        {
          "output_type": "stream",
          "name": "stdout",
          "text": [
            "Уникальные значения для признаков (X):\n",
            "[[0 0 0 ... 0 0 0]\n",
            " [0 0 0 ... 0 0 1]\n",
            " [0 0 0 ... 0 1 0]\n",
            " ...\n",
            " [2 1 1 ... 5 1 1]\n",
            " [2 1 1 ... 5 2 0]\n",
            " [2 1 1 ... 5 2 1]]\n"
          ]
        }
      ]
    },
    {
      "cell_type": "code",
      "source": [
        "# Уникальные значения для меток (Y)\n",
        "unique_values_y = np.unique(y_data, axis=0)\n",
        "print(\"\\nУникальные значения для меток (Y):\")\n",
        "print(unique_values_y)"
      ],
      "metadata": {
        "colab": {
          "base_uri": "https://localhost:8080/"
        },
        "id": "dsNwIhulkZDl",
        "outputId": "24961f4e-5ff2-45a6-c7e7-13200e18e523"
      },
      "execution_count": null,
      "outputs": [
        {
          "output_type": "stream",
          "name": "stdout",
          "text": [
            "\n",
            "Уникальные значения для меток (Y):\n",
            "[[ 0  4]\n",
            " [ 1  0]\n",
            " [ 1  1]\n",
            " [ 1  2]\n",
            " [ 1  3]\n",
            " [ 1  4]\n",
            " [ 1  7]\n",
            " [ 1  8]\n",
            " [ 1  9]\n",
            " [ 2  0]\n",
            " [ 2  1]\n",
            " [ 2  2]\n",
            " [ 2  3]\n",
            " [ 2  4]\n",
            " [ 2  5]\n",
            " [ 2  6]\n",
            " [ 2  8]\n",
            " [ 2  9]\n",
            " [ 2 10]\n",
            " [ 3  5]\n",
            " [ 3  6]]\n"
          ]
        }
      ]
    },
    {
      "cell_type": "code",
      "source": [
        "print(df.columns)"
      ],
      "metadata": {
        "colab": {
          "base_uri": "https://localhost:8080/"
        },
        "id": "WAzbigOQly8e",
        "outputId": "e20d67b8-4fde-4c7f-8c1e-95c72acfb082"
      },
      "execution_count": null,
      "outputs": [
        {
          "output_type": "stream",
          "name": "stdout",
          "text": [
            "Index(['id_ответа', 'Раса', 'Пол', 'Возраст', 'Статус курения', 'ECOG',\n",
            "       'Есть опухолевая нагрузка? (симптомная опухоль)', 'Ко-мутации KRAS',\n",
            "       'Ко-мутации p53.', 'Ко-мутации STK11', 'Ко-мутации KEAP1',\n",
            "       'Срок от окончания ХЛТ',\n",
            "       'Молекулярный статус (только для неплоскоклеточного рака)',\n",
            "       'PD-L1 статус', 'Предпочтение пациента по ответу на терапию',\n",
            "       'Ответ эксперта (Лактионов)', 'Комментарий'],\n",
            "      dtype='object')\n"
          ]
        }
      ]
    },
    {
      "cell_type": "code",
      "source": [
        "unique_values_race = df['Раса'].unique()\n",
        "\n",
        "print(\"Уникальные значения в столбце 'Раса':\")\n",
        "print(unique_values_race)\n",
        "\n"
      ],
      "metadata": {
        "colab": {
          "base_uri": "https://localhost:8080/"
        },
        "id": "qTwr9WsXlWzt",
        "outputId": "02db191d-13cc-4f5c-9f07-c8add6de23bc"
      },
      "execution_count": null,
      "outputs": [
        {
          "output_type": "stream",
          "name": "stdout",
          "text": [
            "Уникальные значения в столбце 'Раса':\n",
            "[0 2 1]\n"
          ]
        }
      ]
    },
    {
      "cell_type": "code",
      "source": [
        "unique_values_gender = df['Пол'].unique()\n",
        "\n",
        "print(\"Уникальные значения в столбце 'Пол':\")\n",
        "print(unique_values_gender)"
      ],
      "metadata": {
        "colab": {
          "base_uri": "https://localhost:8080/"
        },
        "id": "aY4OsPWvmbTs",
        "outputId": "13e13117-2b0a-4a0c-acb1-52308da83989"
      },
      "execution_count": null,
      "outputs": [
        {
          "output_type": "stream",
          "name": "stdout",
          "text": [
            "Уникальные значения в столбце 'Пол':\n",
            "[1 0]\n"
          ]
        }
      ]
    },
    {
      "cell_type": "markdown",
      "source": [
        "## **Эксперементы**"
      ],
      "metadata": {
        "id": "9ciOBPNzocJ7"
      }
    },
    {
      "cell_type": "markdown",
      "source": [
        "# Эксперимент 1. Tuner по умолчанию, 3 запусков."
      ],
      "metadata": {
        "id": "y7SoTon1opBz"
      }
    },
    {
      "cell_type": "code",
      "source": [
        "# Инициализируйте классификатор структурированных данных.\n",
        "reg = ak.StructuredDataRegressor(\n",
        "    overwrite=True,\n",
        "    max_trials=3,\n",
        "    loss='mean_squared_error',\n",
        "    metrics=['mean_absolute_error'],\n",
        "    project_name='experiment1',\n",
        ")\n",
        "\n",
        "# поиск лучшей модели\n",
        "reg.fit(x_train, y_train, epochs=5, validation_data=(x_test, y_test))"
      ],
      "metadata": {
        "colab": {
          "base_uri": "https://localhost:8080/"
        },
        "id": "XFcJ1dgAoxPI",
        "outputId": "7656784d-70ea-4bfe-c263-44803179897f"
      },
      "execution_count": null,
      "outputs": [
        {
          "output_type": "stream",
          "name": "stdout",
          "text": [
            "Trial 3 Complete [00h 05m 29s]\n",
            "val_loss: 0.08066200464963913\n",
            "\n",
            "Best val_loss So Far: 0.0033937038388103247\n",
            "Total elapsed time: 00h 14m 44s\n",
            "Epoch 1/5\n",
            "6610/6610 [==============================] - 21s 3ms/step - loss: 2.0260 - mean_absolute_error: 0.8929 - val_loss: 0.1691 - val_mean_absolute_error: 0.3157\n",
            "Epoch 2/5\n",
            "6610/6610 [==============================] - 20s 3ms/step - loss: 0.0445 - mean_absolute_error: 0.1381 - val_loss: 0.0025 - val_mean_absolute_error: 0.0400\n",
            "Epoch 3/5\n",
            "6610/6610 [==============================] - 21s 3ms/step - loss: 0.0032 - mean_absolute_error: 0.0377 - val_loss: 0.0049 - val_mean_absolute_error: 0.0496\n",
            "Epoch 4/5\n",
            "6610/6610 [==============================] - 23s 3ms/step - loss: 0.0027 - mean_absolute_error: 0.0313 - val_loss: 2.8373e-04 - val_mean_absolute_error: 0.0130\n",
            "Epoch 5/5\n",
            "6610/6610 [==============================] - 20s 3ms/step - loss: 0.0025 - mean_absolute_error: 0.0299 - val_loss: 0.0016 - val_mean_absolute_error: 0.0293\n"
          ]
        },
        {
          "output_type": "execute_result",
          "data": {
            "text/plain": [
              "<keras.src.callbacks.History at 0x7a135c4364a0>"
            ]
          },
          "metadata": {},
          "execution_count": 40
        }
      ]
    },
    {
      "cell_type": "code",
      "source": [
        "best_model = reg.export_model()"
      ],
      "metadata": {
        "id": "4HEWuiMdu_tD"
      },
      "execution_count": null,
      "outputs": []
    },
    {
      "cell_type": "code",
      "source": [
        "best_model.summary()"
      ],
      "metadata": {
        "colab": {
          "base_uri": "https://localhost:8080/"
        },
        "id": "5qNBKQVvvF9e",
        "outputId": "752b6d02-7083-42ef-8c54-bc5e24ead9a6"
      },
      "execution_count": null,
      "outputs": [
        {
          "output_type": "stream",
          "name": "stdout",
          "text": [
            "Model: \"model\"\n",
            "_________________________________________________________________\n",
            " Layer (type)                Output Shape              Param #   \n",
            "=================================================================\n",
            " input_1 (InputLayer)        [(None, 14)]              0         \n",
            "                                                                 \n",
            " multi_category_encoding (M  (None, 14)                0         \n",
            " ultiCategoryEncoding)                                           \n",
            "                                                                 \n",
            " normalization (Normalizati  (None, 14)                29        \n",
            " on)                                                             \n",
            "                                                                 \n",
            " dense (Dense)               (None, 32)                480       \n",
            "                                                                 \n",
            " re_lu (ReLU)                (None, 32)                0         \n",
            "                                                                 \n",
            " dense_1 (Dense)             (None, 32)                1056      \n",
            "                                                                 \n",
            " re_lu_1 (ReLU)              (None, 32)                0         \n",
            "                                                                 \n",
            " regression_head_1 (Dense)   (None, 2)                 66        \n",
            "                                                                 \n",
            "=================================================================\n",
            "Total params: 1631 (6.38 KB)\n",
            "Trainable params: 1602 (6.26 KB)\n",
            "Non-trainable params: 29 (120.00 Byte)\n",
            "_________________________________________________________________\n"
          ]
        }
      ]
    },
    {
      "cell_type": "code",
      "source": [],
      "metadata": {
        "id": "A9S4BCrzjb20"
      },
      "execution_count": null,
      "outputs": []
    },
    {
      "cell_type": "code",
      "source": [
        "# Используйте save_model из tensorflow.keras\n",
        "from tensorflow.keras.models import save_model\n",
        "from tensorflow.keras.models import load_model\n",
        "import tensorflow as tf"
      ],
      "metadata": {
        "id": "r8w0Hc9-WRxn"
      },
      "execution_count": null,
      "outputs": []
    },
    {
      "cell_type": "code",
      "source": [
        "best_model.save('b_model_autokeras', save_format='tf')\n"
      ],
      "metadata": {
        "id": "n0XgykckZLOW"
      },
      "execution_count": null,
      "outputs": []
    },
    {
      "cell_type": "code",
      "source": [
        "best_model.save('best_model_autokeras.keras')"
      ],
      "metadata": {
        "id": "PRytuDwDg_PX"
      },
      "execution_count": null,
      "outputs": []
    },
    {
      "cell_type": "code",
      "source": [
        "best_model.save('b1_model_autokeras.h5', save_format='h5')"
      ],
      "metadata": {
        "colab": {
          "base_uri": "https://localhost:8080/",
          "height": 581
        },
        "id": "zslUcvZGlXDA",
        "outputId": "44c9557d-9bdb-40b7-a70c-5621769b8603"
      },
      "execution_count": null,
      "outputs": [
        {
          "output_type": "error",
          "ename": "NotImplementedError",
          "evalue": "ignored",
          "traceback": [
            "\u001b[0;31m---------------------------------------------------------------------------\u001b[0m",
            "\u001b[0;31mNotImplementedError\u001b[0m                       Traceback (most recent call last)",
            "\u001b[0;32m<ipython-input-47-1a154720dbe2>\u001b[0m in \u001b[0;36m<cell line: 1>\u001b[0;34m()\u001b[0m\n\u001b[0;32m----> 1\u001b[0;31m \u001b[0mbest_model\u001b[0m\u001b[0;34m.\u001b[0m\u001b[0msave\u001b[0m\u001b[0;34m(\u001b[0m\u001b[0;34m'b1_model_autokeras.h5'\u001b[0m\u001b[0;34m,\u001b[0m \u001b[0msave_format\u001b[0m\u001b[0;34m=\u001b[0m\u001b[0;34m'h5'\u001b[0m\u001b[0;34m)\u001b[0m\u001b[0;34m\u001b[0m\u001b[0;34m\u001b[0m\u001b[0m\n\u001b[0m",
            "\u001b[0;32m/usr/local/lib/python3.10/dist-packages/keras/src/utils/traceback_utils.py\u001b[0m in \u001b[0;36merror_handler\u001b[0;34m(*args, **kwargs)\u001b[0m\n\u001b[1;32m     68\u001b[0m             \u001b[0;31m# To get the full stack trace, call:\u001b[0m\u001b[0;34m\u001b[0m\u001b[0;34m\u001b[0m\u001b[0m\n\u001b[1;32m     69\u001b[0m             \u001b[0;31m# `tf.debugging.disable_traceback_filtering()`\u001b[0m\u001b[0;34m\u001b[0m\u001b[0;34m\u001b[0m\u001b[0m\n\u001b[0;32m---> 70\u001b[0;31m             \u001b[0;32mraise\u001b[0m \u001b[0me\u001b[0m\u001b[0;34m.\u001b[0m\u001b[0mwith_traceback\u001b[0m\u001b[0;34m(\u001b[0m\u001b[0mfiltered_tb\u001b[0m\u001b[0;34m)\u001b[0m \u001b[0;32mfrom\u001b[0m \u001b[0;32mNone\u001b[0m\u001b[0;34m\u001b[0m\u001b[0;34m\u001b[0m\u001b[0m\n\u001b[0m\u001b[1;32m     71\u001b[0m         \u001b[0;32mfinally\u001b[0m\u001b[0;34m:\u001b[0m\u001b[0;34m\u001b[0m\u001b[0;34m\u001b[0m\u001b[0m\n\u001b[1;32m     72\u001b[0m             \u001b[0;32mdel\u001b[0m \u001b[0mfiltered_tb\u001b[0m\u001b[0;34m\u001b[0m\u001b[0;34m\u001b[0m\u001b[0m\n",
            "\u001b[0;32m/usr/local/lib/python3.10/dist-packages/keras/src/saving/legacy/hdf5_format.py\u001b[0m in \u001b[0;36m_legacy_weights\u001b[0;34m(layer)\u001b[0m\n\u001b[1;32m   1111\u001b[0m     \u001b[0mweights\u001b[0m \u001b[0;34m=\u001b[0m \u001b[0mlayer\u001b[0m\u001b[0;34m.\u001b[0m\u001b[0mtrainable_weights\u001b[0m \u001b[0;34m+\u001b[0m \u001b[0mlayer\u001b[0m\u001b[0;34m.\u001b[0m\u001b[0mnon_trainable_weights\u001b[0m\u001b[0;34m\u001b[0m\u001b[0;34m\u001b[0m\u001b[0m\n\u001b[1;32m   1112\u001b[0m     \u001b[0;32mif\u001b[0m \u001b[0many\u001b[0m\u001b[0;34m(\u001b[0m\u001b[0;32mnot\u001b[0m \u001b[0misinstance\u001b[0m\u001b[0;34m(\u001b[0m\u001b[0mw\u001b[0m\u001b[0;34m,\u001b[0m \u001b[0mtf\u001b[0m\u001b[0;34m.\u001b[0m\u001b[0mVariable\u001b[0m\u001b[0;34m)\u001b[0m \u001b[0;32mfor\u001b[0m \u001b[0mw\u001b[0m \u001b[0;32min\u001b[0m \u001b[0mweights\u001b[0m\u001b[0;34m)\u001b[0m\u001b[0;34m:\u001b[0m\u001b[0;34m\u001b[0m\u001b[0;34m\u001b[0m\u001b[0m\n\u001b[0;32m-> 1113\u001b[0;31m         raise NotImplementedError(\n\u001b[0m\u001b[1;32m   1114\u001b[0m             \u001b[0;34m\"Save or restore weights that is not an instance of `tf.Variable` \"\u001b[0m\u001b[0;34m\u001b[0m\u001b[0;34m\u001b[0m\u001b[0m\n\u001b[1;32m   1115\u001b[0m             \u001b[0;34m\"is not supported in h5, use `save_format='tf'` instead. Received \"\u001b[0m\u001b[0;34m\u001b[0m\u001b[0;34m\u001b[0m\u001b[0m\n",
            "\u001b[0;31mNotImplementedError\u001b[0m: Save or restore weights that is not an instance of `tf.Variable` is not supported in h5, use `save_format='tf'` instead. Received a model or layer MultiCategoryEncoding with weights [<keras.src.layers.preprocessing.index_lookup.VocabWeightHandler object at 0x7a135cf03eb0>, <keras.src.layers.preprocessing.index_lookup.VocabWeightHandler object at 0x7a135c260910>, <keras.src.layers.preprocessing.index_lookup.VocabWeightHandler object at 0x7a13e29dd210>, <keras.src.layers.preprocessing.index_lookup.VocabWeightHandler object at 0x7a135c15ad70>, <keras.src.layers.preprocessing.index_lookup.VocabWeightHandler object at 0x7a13543f3370>, <keras.src.layers.preprocessing.index_lookup.VocabWeightHandler object at 0x7a135c276680>, <keras.src.layers.preprocessing.index_lookup.VocabWeightHandler object at 0x7a1354e250f0>, <keras.src.layers.preprocessing.index_lookup.VocabWeightHandler object at 0x7a1354e257b0>, <keras.src.layers.preprocessing.index_lookup.VocabWeightHandler object at 0x7a1354387ca0>, <keras.src.layers.preprocessing.index_lookup.VocabWeightHandler object at 0x7a1354387700>, <keras.src.layers.preprocessing.index_lookup.VocabWeightHandler object at 0x7a13543855d0>, <keras.src.layers.preprocessing.index_lookup.VocabWeightHandler object at 0x7a13543866b0>, <keras.src.layers.preprocessing.index_lookup.VocabWeightHandler object at 0x7a13543850f0>, <keras.src.layers.preprocessing.index_lookup.VocabWeightHandler object at 0x7a1354386ce0>]"
          ]
        }
      ]
    },
    {
      "cell_type": "code",
      "source": [
        "import os\n",
        "\n",
        "# Вывести текущий рабочий каталог\n",
        "print(\"Текущий рабочий каталог:\", os.getcwd())\n",
        "\n",
        "# Вывести содержимое текущего рабочего каталога\n",
        "print(\"Содержимое текущего каталога:\", os.listdir())"
      ],
      "metadata": {
        "colab": {
          "base_uri": "https://localhost:8080/"
        },
        "id": "YiLKjUIFjhU5",
        "outputId": "6a73757a-a400-4c63-b996-71ccc69c1c25"
      },
      "execution_count": null,
      "outputs": [
        {
          "output_type": "stream",
          "name": "stdout",
          "text": [
            "Текущий рабочий каталог: /content\n",
            "Содержимое текущего каталога: ['.config', 'experiment1', 'dataset1.csv', 'b_model_autokeras.h5', 'b1_model_autokeras.h5', 'best_model_autokeras.keras', 'drive', 'b_model_autokeras', 'sample_data']\n"
          ]
        }
      ]
    },
    {
      "cell_type": "code",
      "source": [
        "import shutil\n",
        "\n",
        "shutil.make_archive(\"/content/model_archive11\", 'zip', \"/content/b_model_autokeras\")"
      ],
      "metadata": {
        "colab": {
          "base_uri": "https://localhost:8080/",
          "height": 35
        },
        "id": "bqHhMFnclhpu",
        "outputId": "292aa9ab-f537-4356-f854-7aa2b9719904"
      },
      "execution_count": null,
      "outputs": [
        {
          "output_type": "execute_result",
          "data": {
            "text/plain": [
              "'/content/model_archive11.zip'"
            ],
            "application/vnd.google.colaboratory.intrinsic+json": {
              "type": "string"
            }
          },
          "metadata": {},
          "execution_count": 49
        }
      ]
    },
    {
      "cell_type": "code",
      "source": [
        "import shutil\n",
        "\n",
        "shutil.make_archive(\"/content/model_archive2\", 'zip', \"/content/best_model_autokeras.keras\")"
      ],
      "metadata": {
        "colab": {
          "base_uri": "https://localhost:8080/",
          "height": 35
        },
        "id": "wSYVMvHWjWOJ",
        "outputId": "3af3f90e-9e39-499f-d7e4-66c5c4b87a64"
      },
      "execution_count": null,
      "outputs": [
        {
          "output_type": "execute_result",
          "data": {
            "text/plain": [
              "'/content/model_archive2.zip'"
            ],
            "application/vnd.google.colaboratory.intrinsic+json": {
              "type": "string"
            }
          },
          "metadata": {},
          "execution_count": 50
        }
      ]
    },
    {
      "cell_type": "code",
      "source": [
        "shutil.make_archive(\"/content/model_archive3\", 'zip', \"/content/b1_model_autokeras.h5\")"
      ],
      "metadata": {
        "colab": {
          "base_uri": "https://localhost:8080/",
          "height": 35
        },
        "id": "dUPADFI3l_OA",
        "outputId": "d00b3e4a-e76a-455c-864d-be18f4c9c7ba"
      },
      "execution_count": null,
      "outputs": [
        {
          "output_type": "execute_result",
          "data": {
            "text/plain": [
              "'/content/model_archive3.zip'"
            ],
            "application/vnd.google.colaboratory.intrinsic+json": {
              "type": "string"
            }
          },
          "metadata": {},
          "execution_count": 51
        }
      ]
    },
    {
      "cell_type": "code",
      "source": [
        "from google.colab import files\n",
        "\n",
        "files.download(\"/content/model_archive11.zip\")"
      ],
      "metadata": {
        "colab": {
          "base_uri": "https://localhost:8080/",
          "height": 17
        },
        "id": "ZAA8blWzrAjK",
        "outputId": "a18ef1c0-f212-4ac7-f336-955714dad6b2"
      },
      "execution_count": null,
      "outputs": [
        {
          "output_type": "display_data",
          "data": {
            "text/plain": [
              "<IPython.core.display.Javascript object>"
            ],
            "application/javascript": [
              "\n",
              "    async function download(id, filename, size) {\n",
              "      if (!google.colab.kernel.accessAllowed) {\n",
              "        return;\n",
              "      }\n",
              "      const div = document.createElement('div');\n",
              "      const label = document.createElement('label');\n",
              "      label.textContent = `Downloading \"${filename}\": `;\n",
              "      div.appendChild(label);\n",
              "      const progress = document.createElement('progress');\n",
              "      progress.max = size;\n",
              "      div.appendChild(progress);\n",
              "      document.body.appendChild(div);\n",
              "\n",
              "      const buffers = [];\n",
              "      let downloaded = 0;\n",
              "\n",
              "      const channel = await google.colab.kernel.comms.open(id);\n",
              "      // Send a message to notify the kernel that we're ready.\n",
              "      channel.send({})\n",
              "\n",
              "      for await (const message of channel.messages) {\n",
              "        // Send a message to notify the kernel that we're ready.\n",
              "        channel.send({})\n",
              "        if (message.buffers) {\n",
              "          for (const buffer of message.buffers) {\n",
              "            buffers.push(buffer);\n",
              "            downloaded += buffer.byteLength;\n",
              "            progress.value = downloaded;\n",
              "          }\n",
              "        }\n",
              "      }\n",
              "      const blob = new Blob(buffers, {type: 'application/binary'});\n",
              "      const a = document.createElement('a');\n",
              "      a.href = window.URL.createObjectURL(blob);\n",
              "      a.download = filename;\n",
              "      div.appendChild(a);\n",
              "      a.click();\n",
              "      div.remove();\n",
              "    }\n",
              "  "
            ]
          },
          "metadata": {}
        },
        {
          "output_type": "display_data",
          "data": {
            "text/plain": [
              "<IPython.core.display.Javascript object>"
            ],
            "application/javascript": [
              "download(\"download_6c0b340a-4f71-4a88-9047-8becde579dad\", \"model_archive11.zip\", 59636)"
            ]
          },
          "metadata": {}
        }
      ]
    },
    {
      "cell_type": "code",
      "source": [
        "files.download(\"/content/model_archive2.zip\")"
      ],
      "metadata": {
        "colab": {
          "base_uri": "https://localhost:8080/",
          "height": 17
        },
        "id": "1CVkTc3xmd9u",
        "outputId": "18ee0729-b9d9-41fa-80dc-6b0801118189"
      },
      "execution_count": null,
      "outputs": [
        {
          "output_type": "display_data",
          "data": {
            "text/plain": [
              "<IPython.core.display.Javascript object>"
            ],
            "application/javascript": [
              "\n",
              "    async function download(id, filename, size) {\n",
              "      if (!google.colab.kernel.accessAllowed) {\n",
              "        return;\n",
              "      }\n",
              "      const div = document.createElement('div');\n",
              "      const label = document.createElement('label');\n",
              "      label.textContent = `Downloading \"${filename}\": `;\n",
              "      div.appendChild(label);\n",
              "      const progress = document.createElement('progress');\n",
              "      progress.max = size;\n",
              "      div.appendChild(progress);\n",
              "      document.body.appendChild(div);\n",
              "\n",
              "      const buffers = [];\n",
              "      let downloaded = 0;\n",
              "\n",
              "      const channel = await google.colab.kernel.comms.open(id);\n",
              "      // Send a message to notify the kernel that we're ready.\n",
              "      channel.send({})\n",
              "\n",
              "      for await (const message of channel.messages) {\n",
              "        // Send a message to notify the kernel that we're ready.\n",
              "        channel.send({})\n",
              "        if (message.buffers) {\n",
              "          for (const buffer of message.buffers) {\n",
              "            buffers.push(buffer);\n",
              "            downloaded += buffer.byteLength;\n",
              "            progress.value = downloaded;\n",
              "          }\n",
              "        }\n",
              "      }\n",
              "      const blob = new Blob(buffers, {type: 'application/binary'});\n",
              "      const a = document.createElement('a');\n",
              "      a.href = window.URL.createObjectURL(blob);\n",
              "      a.download = filename;\n",
              "      div.appendChild(a);\n",
              "      a.click();\n",
              "      div.remove();\n",
              "    }\n",
              "  "
            ]
          },
          "metadata": {}
        },
        {
          "output_type": "display_data",
          "data": {
            "text/plain": [
              "<IPython.core.display.Javascript object>"
            ],
            "application/javascript": [
              "download(\"download_3147452e-eb2b-49f4-ab9e-f07e062ba51d\", \"model_archive2.zip\", 22)"
            ]
          },
          "metadata": {}
        }
      ]
    },
    {
      "cell_type": "code",
      "source": [
        "files.download(\"/content/model_archive3.zip\")"
      ],
      "metadata": {
        "colab": {
          "base_uri": "https://localhost:8080/",
          "height": 17
        },
        "id": "HQ49o6eNmicA",
        "outputId": "acd3cbb3-0939-47c9-a2d3-bd43b685c3e9"
      },
      "execution_count": null,
      "outputs": [
        {
          "output_type": "display_data",
          "data": {
            "text/plain": [
              "<IPython.core.display.Javascript object>"
            ],
            "application/javascript": [
              "\n",
              "    async function download(id, filename, size) {\n",
              "      if (!google.colab.kernel.accessAllowed) {\n",
              "        return;\n",
              "      }\n",
              "      const div = document.createElement('div');\n",
              "      const label = document.createElement('label');\n",
              "      label.textContent = `Downloading \"${filename}\": `;\n",
              "      div.appendChild(label);\n",
              "      const progress = document.createElement('progress');\n",
              "      progress.max = size;\n",
              "      div.appendChild(progress);\n",
              "      document.body.appendChild(div);\n",
              "\n",
              "      const buffers = [];\n",
              "      let downloaded = 0;\n",
              "\n",
              "      const channel = await google.colab.kernel.comms.open(id);\n",
              "      // Send a message to notify the kernel that we're ready.\n",
              "      channel.send({})\n",
              "\n",
              "      for await (const message of channel.messages) {\n",
              "        // Send a message to notify the kernel that we're ready.\n",
              "        channel.send({})\n",
              "        if (message.buffers) {\n",
              "          for (const buffer of message.buffers) {\n",
              "            buffers.push(buffer);\n",
              "            downloaded += buffer.byteLength;\n",
              "            progress.value = downloaded;\n",
              "          }\n",
              "        }\n",
              "      }\n",
              "      const blob = new Blob(buffers, {type: 'application/binary'});\n",
              "      const a = document.createElement('a');\n",
              "      a.href = window.URL.createObjectURL(blob);\n",
              "      a.download = filename;\n",
              "      div.appendChild(a);\n",
              "      a.click();\n",
              "      div.remove();\n",
              "    }\n",
              "  "
            ]
          },
          "metadata": {}
        },
        {
          "output_type": "display_data",
          "data": {
            "text/plain": [
              "<IPython.core.display.Javascript object>"
            ],
            "application/javascript": [
              "download(\"download_765546d5-5c3d-4899-9c33-7fae4cded0e8\", \"model_archive3.zip\", 22)"
            ]
          },
          "metadata": {}
        }
      ]
    },
    {
      "cell_type": "code",
      "source": [
        "predictions = best_model.predict(x_test)"
      ],
      "metadata": {
        "colab": {
          "base_uri": "https://localhost:8080/"
        },
        "id": "LDUFrTW_3O4-",
        "outputId": "f7d5c430-9674-4307-b796-b5055946b11c"
      },
      "execution_count": null,
      "outputs": [
        {
          "output_type": "stream",
          "name": "stdout",
          "text": [
            "1167/1167 [==============================] - 3s 3ms/step\n"
          ]
        }
      ]
    },
    {
      "cell_type": "code",
      "source": [
        "from sklearn.metrics import mean_absolute_error, mean_squared_error\n",
        "\n",
        "mae = mean_absolute_error(y_test, predictions)\n",
        "mse = mean_squared_error(y_test, predictions)\n",
        "\n",
        "print(f'Mean Absolute Error: {mae}')\n",
        "print(f'Mean Squared Error: {mse}')"
      ],
      "metadata": {
        "colab": {
          "base_uri": "https://localhost:8080/"
        },
        "id": "gTsU6isQ3Yay",
        "outputId": "27061e7d-6a19-44d5-f6e1-acfa2fdcdaae"
      },
      "execution_count": null,
      "outputs": [
        {
          "output_type": "stream",
          "name": "stdout",
          "text": [
            "Mean Absolute Error: 0.029318011408672986\n",
            "Mean Squared Error: 0.0016142364347999578\n"
          ]
        }
      ]
    },
    {
      "cell_type": "code",
      "source": [
        "import matplotlib.pyplot as plt"
      ],
      "metadata": {
        "id": "sCKYdReT3tkk"
      },
      "execution_count": null,
      "outputs": []
    },
    {
      "cell_type": "code",
      "source": [
        "plt.scatter(y_test, predictions)\n",
        "plt.xlabel('Фактические значения')\n",
        "plt.ylabel('Предсказанные значения')\n",
        "plt.title('Сравнение фактических и предсказанных значений')\n",
        "plt.show()"
      ],
      "metadata": {
        "colab": {
          "base_uri": "https://localhost:8080/",
          "height": 472
        },
        "id": "ATAQ9YCb3fwj",
        "outputId": "bf368b82-a939-4ec8-d157-97274f1400cf"
      },
      "execution_count": null,
      "outputs": [
        {
          "output_type": "display_data",
          "data": {
            "text/plain": [
              "<Figure size 640x480 with 1 Axes>"
            ],
            "image/png": "[encoded data removed]"
          },
          "metadata": {}
        }
      ]
    },
    {
      "cell_type": "code",
      "source": [
        "# Вывести предсказанные значения\n",
        "print(\"Предсказанные значения:\")\n",
        "print(predictions)"
      ],
      "metadata": {
        "colab": {
          "base_uri": "https://localhost:8080/"
        },
        "id": "446QvG5m4HC6",
        "outputId": "3d78ab78-640d-47eb-dfa9-4aff0985ec86"
      },
      "execution_count": null,
      "outputs": [
        {
          "output_type": "stream",
          "name": "stdout",
          "text": [
            "Предсказанные значения:\n",
            "[[-0.05112103  3.9441338 ]\n",
            " [ 1.9569961   9.960148  ]\n",
            " [ 1.9819324   5.991399  ]\n",
            " ...\n",
            " [ 2.0002177   5.9559865 ]\n",
            " [ 2.982596    5.930157  ]\n",
            " [ 1.995992   -0.0105629 ]]\n"
          ]
        }
      ]
    },
    {
      "cell_type": "code",
      "source": [
        "# Вывести фактические значения\n",
        "print(\"Фактические значения:\")\n",
        "print(y_test)"
      ],
      "metadata": {
        "colab": {
          "base_uri": "https://localhost:8080/"
        },
        "id": "EQ0OmnX14KU8",
        "outputId": "de1190f4-a84c-458c-a55b-b94b269221a0"
      },
      "execution_count": null,
      "outputs": [
        {
          "output_type": "stream",
          "name": "stdout",
          "text": [
            "Фактические значения:\n",
            "[[ 0  4]\n",
            " [ 2 10]\n",
            " [ 2  6]\n",
            " ...\n",
            " [ 2  6]\n",
            " [ 3  6]\n",
            " [ 2  0]]\n"
          ]
        }
      ]
    },
    {
      "cell_type": "code",
      "source": [
        "# Вывести первое предсказание\n",
        "print(\"Предсказанное значение (первое):\", predictions[0])"
      ],
      "metadata": {
        "colab": {
          "base_uri": "https://localhost:8080/"
        },
        "id": "1qHyke8P42rJ",
        "outputId": "f45adbf1-b8bf-4dac-c01e-f959ef678b3c"
      },
      "execution_count": null,
      "outputs": [
        {
          "output_type": "stream",
          "name": "stdout",
          "text": [
            "Предсказанное значение (первое): [-0.05112103  3.9441338 ]\n"
          ]
        }
      ]
    },
    {
      "cell_type": "code",
      "source": [
        "# Выберите индекс элемента, для которого вы хотите получить предсказание (замените 0 на нужный индекс)\n",
        "index_to_predict = 0\n",
        "\n",
        "# Выберите соответствующие входные данные для предсказания\n",
        "input_data_to_predict = x_test[index_to_predict:index_to_predict + 1]\n",
        "\n",
        "# Получите предсказание для выбранных входных данных\n",
        "single_prediction = best_model.predict(input_data_to_predict)\n",
        "\n",
        "# Выведите предсказание\n",
        "print(f'Предсказанное значение для индекса {index_to_predict}: {single_prediction}')"
      ],
      "metadata": {
        "colab": {
          "base_uri": "https://localhost:8080/"
        },
        "id": "hRmX76-RAQQa",
        "outputId": "5e8643ca-1c19-467d-dbf9-388e59be48ba"
      },
      "execution_count": null,
      "outputs": [
        {
          "output_type": "stream",
          "name": "stdout",
          "text": [
            "1/1 [==============================] - 0s 30ms/step\n",
            "Предсказанное значение для индекса 0: [[-0.05112186  3.9441328 ]]\n"
          ]
        }
      ]
    },
    {
      "cell_type": "code",
      "source": [
        "# Вывести первое фактическое значение\n",
        "print(\"Фактическое значение (первое):\", y_test[0])"
      ],
      "metadata": {
        "colab": {
          "base_uri": "https://localhost:8080/"
        },
        "id": "YuJ2Y0tj5Rv_",
        "outputId": "ce155dfb-4d99-4584-ecdc-d2c13d0755d0"
      },
      "execution_count": null,
      "outputs": [
        {
          "output_type": "stream",
          "name": "stdout",
          "text": [
            "Фактическое значение (первое): [0 4]\n"
          ]
        }
      ]
    },
    {
      "cell_type": "code",
      "source": [
        "# Словарь для интерпретации предсказанных значений\n",
        "EXPERTS_RESPONSE_THRESHOLD = {'1': 'Дурвалумаб', '2': 'Наблюдение', '3': 'Осимертиниб', '0': 'Алектиниб'}\n",
        "\n",
        "# Словарь для интерпретации комментариев\n",
        "COMMENTS_THRESHOLD = {'0': '0',\n",
        "                      '10': 'Нет доказательной базы для назначения после перерыва >61 дня после ХЛТ',\n",
        "                      '7': 'Возможно есть мутации и эффективность Дурвалумаба будет низкой',\n",
        "                      '5': 'Возможна низкая эффективность Дурвалумаба, Осимертиниб без доказательной базы',\n",
        "                      '6': 'Возможна низкая эффективность Дурвалумаба, Осимертиниб без доказательной базы, эффективность Осимертиниба ниже при 21 экзоне',\n",
        "                      '4': 'Возможна низкая эффективность Дурвалумаба, Алектиниб без доказательной базы',\n",
        "                      '2': 'Возможна низкая эффективность Дурвалумаба при PD-1 < 1%',\n",
        "                      '3': 'Возможна низкая эффективность Дурвалумаба при PD-1 < 1%, возможно есть активирующие мутации',\n",
        "                      '1': 'Вероятность 45% PD-L1 < 1% с потенциально низкой эффективностью Дурвалумаба',\n",
        "                      '8': 'Возможно есть мутации и эффективность Дурвалумаба будет низкой, Вероятность 45% PD-L1 < 1% с потенциально низкой эффективностью Дурвалумаба',\n",
        "                      '9': 'Возможно есть мутации и эффективность Дурвалумаба будет низкой, Возможна низкая эффективность Дурвалумаба при PD-1 < 1%'\n",
        "                     }\n",
        "\n",
        "# Указываем индекс, для которого хотим вывести предсказание и комментарий\n",
        "i = 0\n",
        "\n",
        "# Проверяем, существует ли индекс в словаре для предсказаний\n",
        "index_predictions = predictions[i].argmax()\n",
        "if str(index_predictions) in EXPERTS_RESPONSE_THRESHOLD:\n",
        "    предсказанное_значение = EXPERTS_RESPONSE_THRESHOLD[str(index_predictions)]\n",
        "    print(f'Ответ эксперта ({i + 1}): Предсказанное значение - {предсказанное_значение}')\n",
        "else:\n",
        "    print(f'Ответ эксперта ({i + 1}): Предсказанное значение с индексом {index_predictions} не найдено в словаре.')\n",
        "\n",
        "# Проверяем, существует ли индекс в словаре для комментариев\n",
        "index_comments = predictions[i].argmax()\n",
        "if str(index_comments) in COMMENTS_THRESHOLD:\n",
        "    комментарий = COMMENTS_THRESHOLD[str(index_comments)]\n",
        "    print(f'Ответ эксперта ({i + 1}): Комментарий - {комментарий}')\n",
        "else:\n",
        "    print(f'Ответ эксперта ({i + 1}): Комментарий с индексом {index_comments} не найден в словаре.')"
      ],
      "metadata": {
        "colab": {
          "base_uri": "https://localhost:8080/"
        },
        "id": "4UNTVIUbw8kv",
        "outputId": "f65fee14-e623-41ba-9d3a-4667de4178b0"
      },
      "execution_count": null,
      "outputs": [
        {
          "output_type": "stream",
          "name": "stdout",
          "text": [
            "Ответ эксперта (1): Предсказанное значение - Дурвалумаб\n",
            "Ответ эксперта (1): Комментарий - Вероятность 45% PD-L1 < 1% с потенциально низкой эффективностью Дурвалумаба\n"
          ]
        }
      ]
    }
  ]
}