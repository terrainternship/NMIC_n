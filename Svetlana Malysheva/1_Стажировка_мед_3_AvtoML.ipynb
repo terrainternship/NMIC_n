{
  "nbformat": 4,
  "nbformat_minor": 0,
  "metadata": {
    "colab": {
      "provenance": [],
      "toc_visible": true
    },
    "kernelspec": {
      "name": "python3",
      "display_name": "Python 3"
    },
    "language_info": {
      "name": "python"
    }
  },
  "cells": [
    {
      "cell_type": "code",
      "source": [
        "!pip -q install autokeras terra-ai-datasets-framework"
      ],
      "metadata": {
        "colab": {
          "base_uri": "https://localhost:8080/"
        },
        "id": "4UHLJOm4ZIMr",
        "outputId": "816d05b9-fdf5-492a-ac51-096dbb016f10"
      },
      "execution_count": null,
      "outputs": [
        {
          "output_type": "stream",
          "name": "stdout",
          "text": [
            "\u001b[2K     \u001b[90m━━━━━━━━━━━━━━━━━━━━━━━━━━━━━━━━━━━━━━━━\u001b[0m \u001b[32m148.6/148.6 kB\u001b[0m \u001b[31m3.2 MB/s\u001b[0m eta \u001b[36m0:00:00\u001b[0m\n",
            "\u001b[2K     \u001b[90m━━━━━━━━━━━━━━━━━━━━━━━━━━━━━━━━━━━━━━━━\u001b[0m \u001b[32m128.9/128.9 kB\u001b[0m \u001b[31m13.5 MB/s\u001b[0m eta \u001b[36m0:00:00\u001b[0m\n",
            "\u001b[2K     \u001b[90m━━━━━━━━━━━━━━━━━━━━━━━━━━━━━━━━━━━━━━━━\u001b[0m \u001b[32m584.5/584.5 kB\u001b[0m \u001b[31m27.7 MB/s\u001b[0m eta \u001b[36m0:00:00\u001b[0m\n",
            "\u001b[2K     \u001b[90m━━━━━━━━━━━━━━━━━━━━━━━━━━━━━━━━━━━━━━━━\u001b[0m \u001b[32m55.5/55.5 kB\u001b[0m \u001b[31m5.7 MB/s\u001b[0m eta \u001b[36m0:00:00\u001b[0m\n",
            "\u001b[2K     \u001b[90m━━━━━━━━━━━━━━━━━━━━━━━━━━━━━━━━━━━━━━━━\u001b[0m \u001b[32m950.8/950.8 kB\u001b[0m \u001b[31m53.1 MB/s\u001b[0m eta \u001b[36m0:00:00\u001b[0m\n",
            "\u001b[2K     \u001b[90m━━━━━━━━━━━━━━━━━━━━━━━━━━━━━━━━━━━━━━━━\u001b[0m \u001b[32m5.2/5.2 MB\u001b[0m \u001b[31m63.7 MB/s\u001b[0m eta \u001b[36m0:00:00\u001b[0m\n",
            "\u001b[2K     \u001b[90m━━━━━━━━━━━━━━━━━━━━━━━━━━━━━━━━━━━━━━━━\u001b[0m \u001b[32m8.2/8.2 MB\u001b[0m \u001b[31m85.9 MB/s\u001b[0m eta \u001b[36m0:00:00\u001b[0m\n",
            "\u001b[?25h  Preparing metadata (setup.py) ... \u001b[?25l\u001b[?25hdone\n",
            "\u001b[2K     \u001b[90m━━━━━━━━━━━━━━━━━━━━━━━━━━━━━━━━━━━━━━━━\u001b[0m \u001b[32m475.2/475.2 MB\u001b[0m \u001b[31m2.4 MB/s\u001b[0m eta \u001b[36m0:00:00\u001b[0m\n",
            "\u001b[2K     \u001b[90m━━━━━━━━━━━━━━━━━━━━━━━━━━━━━━━━━━━━━━━━\u001b[0m \u001b[32m5.5/5.5 MB\u001b[0m \u001b[31m90.3 MB/s\u001b[0m eta \u001b[36m0:00:00\u001b[0m\n",
            "\u001b[2K     \u001b[90m━━━━━━━━━━━━━━━━━━━━━━━━━━━━━━━━━━━━━━━━\u001b[0m \u001b[32m442.0/442.0 kB\u001b[0m \u001b[31m37.0 MB/s\u001b[0m eta \u001b[36m0:00:00\u001b[0m\n",
            "\u001b[2K     \u001b[90m━━━━━━━━━━━━━━━━━━━━━━━━━━━━━━━━━━━━━━━━\u001b[0m \u001b[32m1.7/1.7 MB\u001b[0m \u001b[31m76.2 MB/s\u001b[0m eta \u001b[36m0:00:00\u001b[0m\n",
            "\u001b[?25h  Building wheel for docopt (setup.py) ... \u001b[?25l\u001b[?25hdone\n"
          ]
        }
      ]
    },
    {
      "cell_type": "code",
      "execution_count": null,
      "metadata": {
        "id": "WITEJW_HFWtu"
      },
      "outputs": [],
      "source": [
        "import pandas as pd\n",
        "from IPython.display import display\n",
        "from keras.utils import to_categorical\n",
        "from sklearn.preprocessing import MinMaxScaler\n",
        "from sklearn.model_selection import train_test_split\n",
        "from tensorflow.keras import utils\n",
        "import numpy as np\n",
        "import gdown"
      ]
    },
    {
      "cell_type": "code",
      "source": [
        "# Загрузка файла датасета №1 НМИЦ профилактической медицины от 2023.09.06\n",
        "url1 = 'https://drive.google.com/uc?export=download&confirm=no_antivirus&id=1Vcu3UZuw55Wtg2q_fFjf39YcoN-8Vz-Y'\n",
        "# lung_cancer -> рак легких\n",
        "url2 = '/content/lung_cancer_20230906.xlsx'\n",
        "gdown.download(url1, url2, quiet=False)"
      ],
      "metadata": {
        "colab": {
          "base_uri": "https://localhost:8080/",
          "height": 112
        },
        "id": "ONOINi8IzI_F",
        "outputId": "8f87c483-141d-4c33-be16-0eaff9a115ae"
      },
      "execution_count": null,
      "outputs": [
        {
          "output_type": "stream",
          "name": "stderr",
          "text": [
            "Downloading...\n",
            "From: https://drive.google.com/uc?export=download&confirm=no_antivirus&id=1Vcu3UZuw55Wtg2q_fFjf39YcoN-8Vz-Y\n",
            "To: /content/lung_cancer_20230906.xlsx\n",
            "100%|██████████| 17.5M/17.5M [00:00<00:00, 47.7MB/s]\n"
          ]
        },
        {
          "output_type": "execute_result",
          "data": {
            "text/plain": [
              "'/content/lung_cancer_20230906.xlsx'"
            ],
            "application/vnd.google.colaboratory.intrinsic+json": {
              "type": "string"
            }
          },
          "metadata": {},
          "execution_count": 3
        }
      ]
    },
    {
      "cell_type": "code",
      "source": [
        "# Чтение данных из файла excel в pandas.DataFrame\n",
        "data = pd.read_excel(url2)"
      ],
      "metadata": {
        "id": "YenUnF5ZzLyv"
      },
      "execution_count": null,
      "outputs": []
    },
    {
      "cell_type": "code",
      "source": [
        "data.head() # С помощью метода head выводим первые 5 строк нашего ДатаФрейма"
      ],
      "metadata": {
        "colab": {
          "base_uri": "https://localhost:8080/",
          "height": 496
        },
        "id": "E0qnKA0VU6ri",
        "outputId": "21dc1503-f437-430c-db01-4eab5f0235cc"
      },
      "execution_count": null,
      "outputs": [
        {
          "output_type": "execute_result",
          "data": {
            "text/plain": [
              "   id_ответа       Раса       Пол Возраст      Статус курения  ECOG  \\\n",
              "0          1  Азиатская   Мужской   До 70   В настоящее время   0-1   \n",
              "1          2  Азиатская   Мужской   До 70   В настоящее время   0-1   \n",
              "2          3  Азиатская   Мужской   До 70   В настоящее время   0-1   \n",
              "3          4  Азиатская   Мужской   До 70   В настоящее время   0-1   \n",
              "4          5  Азиатская   Мужской   До 70   В настоящее время   0-1   \n",
              "\n",
              "  Есть опухолевая нагрузка? (симптомная опухоль) Ко-мутации KRAS  \\\n",
              "0                                             да              да   \n",
              "1                                             да              да   \n",
              "2                                             да              да   \n",
              "3                                             да              да   \n",
              "4                                             да              да   \n",
              "\n",
              "  Ко-мутации p53. Ко-мутации STK11  ... Срок от окончания ХЛТ  \\\n",
              "0              да               да  ...            до 42 дней   \n",
              "1              да               да  ...      от 43 до 60 дней   \n",
              "2              да               да  ...          более 61 дня   \n",
              "3              да               да  ...            до 42 дней   \n",
              "4              да               да  ...      от 43 до 60 дней   \n",
              "\n",
              "  Молекулярный статус (только для неплоскоклеточного рака)      PD-L1 статус  \\\n",
              "0                                        нет мутаций         Не исследовался   \n",
              "1                                        нет мутаций         Не исследовался   \n",
              "2                                        нет мутаций         Не исследовался   \n",
              "3                                   не исследовались         Не исследовался   \n",
              "4                                   не исследовались         Не исследовался   \n",
              "\n",
              "  Предпочтение пациента по ответу на терапию Ответ эксперта (Лактионов)  \\\n",
              "0                   Результативность лечения                 Дурвалумаб   \n",
              "1                   Результативность лечения                 Дурвалумаб   \n",
              "2                   Результативность лечения                 Наблюдение   \n",
              "3                   Результативность лечения                 Дурвалумаб   \n",
              "4                   Результативность лечения                 Дурвалумаб   \n",
              "\n",
              "  Поставьте галочку, если уверены на 100%  Если 75%  Если 50%  \\\n",
              "0                                    True     False     False   \n",
              "1                                    True     False     False   \n",
              "2                                   False      True     False   \n",
              "3                                   False      True     False   \n",
              "4                                   False      True     False   \n",
              "\n",
              "   Альтернатива, если 50% - обязательно  \\\n",
              "0                                     0   \n",
              "1                                     0   \n",
              "2                            Дурвалумаб   \n",
              "3                                     0   \n",
              "4                                     0   \n",
              "\n",
              "                                         Комментарий  \n",
              "0                                                  0  \n",
              "1                                                  0  \n",
              "2  Нет доказательной базы для назначения после пе...  \n",
              "3  Возможно есть мутации и эффективность Дурвалум...  \n",
              "4  Возможно есть мутации и эффективность Дурвалум...  \n",
              "\n",
              "[5 rows x 21 columns]"
            ],
            "text/html": [
              "\n",
              "  <div id=\"df-e4740feb-c1eb-4bfc-b94c-8babafb8a60d\" class=\"colab-df-container\">\n",
              "    <div>\n",
              "<style scoped>\n",
              "    .dataframe tbody tr th:only-of-type {\n",
              "        vertical-align: middle;\n",
              "    }\n",
              "\n",
              "    .dataframe tbody tr th {\n",
              "        vertical-align: top;\n",
              "    }\n",
              "\n",
              "    .dataframe thead th {\n",
              "        text-align: right;\n",
              "    }\n",
              "</style>\n",
              "<table border=\"1\" class=\"dataframe\">\n",
              "  <thead>\n",
              "    <tr style=\"text-align: right;\">\n",
              "      <th></th>\n",
              "      <th>id_ответа</th>\n",
              "      <th>Раса</th>\n",
              "      <th>Пол</th>\n",
              "      <th>Возраст</th>\n",
              "      <th>Статус курения</th>\n",
              "      <th>ECOG</th>\n",
              "      <th>Есть опухолевая нагрузка? (симптомная опухоль)</th>\n",
              "      <th>Ко-мутации KRAS</th>\n",
              "      <th>Ко-мутации p53.</th>\n",
              "      <th>Ко-мутации STK11</th>\n",
              "      <th>...</th>\n",
              "      <th>Срок от окончания ХЛТ</th>\n",
              "      <th>Молекулярный статус (только для неплоскоклеточного рака)</th>\n",
              "      <th>PD-L1 статус</th>\n",
              "      <th>Предпочтение пациента по ответу на терапию</th>\n",
              "      <th>Ответ эксперта (Лактионов)</th>\n",
              "      <th>Поставьте галочку, если уверены на 100%</th>\n",
              "      <th>Если 75%</th>\n",
              "      <th>Если 50%</th>\n",
              "      <th>Альтернатива, если 50% - обязательно</th>\n",
              "      <th>Комментарий</th>\n",
              "    </tr>\n",
              "  </thead>\n",
              "  <tbody>\n",
              "    <tr>\n",
              "      <th>0</th>\n",
              "      <td>1</td>\n",
              "      <td>Азиатская</td>\n",
              "      <td>Мужской</td>\n",
              "      <td>До 70</td>\n",
              "      <td>В настоящее время</td>\n",
              "      <td>0-1</td>\n",
              "      <td>да</td>\n",
              "      <td>да</td>\n",
              "      <td>да</td>\n",
              "      <td>да</td>\n",
              "      <td>...</td>\n",
              "      <td>до 42 дней</td>\n",
              "      <td>нет мутаций</td>\n",
              "      <td>Не исследовался</td>\n",
              "      <td>Результативность лечения</td>\n",
              "      <td>Дурвалумаб</td>\n",
              "      <td>True</td>\n",
              "      <td>False</td>\n",
              "      <td>False</td>\n",
              "      <td>0</td>\n",
              "      <td>0</td>\n",
              "    </tr>\n",
              "    <tr>\n",
              "      <th>1</th>\n",
              "      <td>2</td>\n",
              "      <td>Азиатская</td>\n",
              "      <td>Мужской</td>\n",
              "      <td>До 70</td>\n",
              "      <td>В настоящее время</td>\n",
              "      <td>0-1</td>\n",
              "      <td>да</td>\n",
              "      <td>да</td>\n",
              "      <td>да</td>\n",
              "      <td>да</td>\n",
              "      <td>...</td>\n",
              "      <td>от 43 до 60 дней</td>\n",
              "      <td>нет мутаций</td>\n",
              "      <td>Не исследовался</td>\n",
              "      <td>Результативность лечения</td>\n",
              "      <td>Дурвалумаб</td>\n",
              "      <td>True</td>\n",
              "      <td>False</td>\n",
              "      <td>False</td>\n",
              "      <td>0</td>\n",
              "      <td>0</td>\n",
              "    </tr>\n",
              "    <tr>\n",
              "      <th>2</th>\n",
              "      <td>3</td>\n",
              "      <td>Азиатская</td>\n",
              "      <td>Мужской</td>\n",
              "      <td>До 70</td>\n",
              "      <td>В настоящее время</td>\n",
              "      <td>0-1</td>\n",
              "      <td>да</td>\n",
              "      <td>да</td>\n",
              "      <td>да</td>\n",
              "      <td>да</td>\n",
              "      <td>...</td>\n",
              "      <td>более 61 дня</td>\n",
              "      <td>нет мутаций</td>\n",
              "      <td>Не исследовался</td>\n",
              "      <td>Результативность лечения</td>\n",
              "      <td>Наблюдение</td>\n",
              "      <td>False</td>\n",
              "      <td>True</td>\n",
              "      <td>False</td>\n",
              "      <td>Дурвалумаб</td>\n",
              "      <td>Нет доказательной базы для назначения после пе...</td>\n",
              "    </tr>\n",
              "    <tr>\n",
              "      <th>3</th>\n",
              "      <td>4</td>\n",
              "      <td>Азиатская</td>\n",
              "      <td>Мужской</td>\n",
              "      <td>До 70</td>\n",
              "      <td>В настоящее время</td>\n",
              "      <td>0-1</td>\n",
              "      <td>да</td>\n",
              "      <td>да</td>\n",
              "      <td>да</td>\n",
              "      <td>да</td>\n",
              "      <td>...</td>\n",
              "      <td>до 42 дней</td>\n",
              "      <td>не исследовались</td>\n",
              "      <td>Не исследовался</td>\n",
              "      <td>Результативность лечения</td>\n",
              "      <td>Дурвалумаб</td>\n",
              "      <td>False</td>\n",
              "      <td>True</td>\n",
              "      <td>False</td>\n",
              "      <td>0</td>\n",
              "      <td>Возможно есть мутации и эффективность Дурвалум...</td>\n",
              "    </tr>\n",
              "    <tr>\n",
              "      <th>4</th>\n",
              "      <td>5</td>\n",
              "      <td>Азиатская</td>\n",
              "      <td>Мужской</td>\n",
              "      <td>До 70</td>\n",
              "      <td>В настоящее время</td>\n",
              "      <td>0-1</td>\n",
              "      <td>да</td>\n",
              "      <td>да</td>\n",
              "      <td>да</td>\n",
              "      <td>да</td>\n",
              "      <td>...</td>\n",
              "      <td>от 43 до 60 дней</td>\n",
              "      <td>не исследовались</td>\n",
              "      <td>Не исследовался</td>\n",
              "      <td>Результативность лечения</td>\n",
              "      <td>Дурвалумаб</td>\n",
              "      <td>False</td>\n",
              "      <td>True</td>\n",
              "      <td>False</td>\n",
              "      <td>0</td>\n",
              "      <td>Возможно есть мутации и эффективность Дурвалум...</td>\n",
              "    </tr>\n",
              "  </tbody>\n",
              "</table>\n",
              "<p>5 rows × 21 columns</p>\n",
              "</div>\n",
              "    <div class=\"colab-df-buttons\">\n",
              "\n",
              "  <div class=\"colab-df-container\">\n",
              "    <button class=\"colab-df-convert\" onclick=\"convertToInteractive('df-e4740feb-c1eb-4bfc-b94c-8babafb8a60d')\"\n",
              "            title=\"Convert this dataframe to an interactive table.\"\n",
              "            style=\"display:none;\">\n",
              "\n",
              "  <svg xmlns=\"http://www.w3.org/2000/svg\" height=\"24px\" viewBox=\"0 -960 960 960\">\n",
              "    <path d=\"M120-120v-720h720v720H120Zm60-500h600v-160H180v160Zm220 220h160v-160H400v160Zm0 220h160v-160H400v160ZM180-400h160v-160H180v160Zm440 0h160v-160H620v160ZM180-180h160v-160H180v160Zm440 0h160v-160H620v160Z\"/>\n",
              "  </svg>\n",
              "    </button>\n",
              "\n",
              "  <style>\n",
              "    .colab-df-container {\n",
              "      display:flex;\n",
              "      gap: 12px;\n",
              "    }\n",
              "\n",
              "    .colab-df-convert {\n",
              "      background-color: #E8F0FE;\n",
              "      border: none;\n",
              "      border-radius: 50%;\n",
              "      cursor: pointer;\n",
              "      display: none;\n",
              "      fill: #1967D2;\n",
              "      height: 32px;\n",
              "      padding: 0 0 0 0;\n",
              "      width: 32px;\n",
              "    }\n",
              "\n",
              "    .colab-df-convert:hover {\n",
              "      background-color: #E2EBFA;\n",
              "      box-shadow: 0px 1px 2px rgba(60, 64, 67, 0.3), 0px 1px 3px 1px rgba(60, 64, 67, 0.15);\n",
              "      fill: #174EA6;\n",
              "    }\n",
              "\n",
              "    .colab-df-buttons div {\n",
              "      margin-bottom: 4px;\n",
              "    }\n",
              "\n",
              "    [theme=dark] .colab-df-convert {\n",
              "      background-color: #3B4455;\n",
              "      fill: #D2E3FC;\n",
              "    }\n",
              "\n",
              "    [theme=dark] .colab-df-convert:hover {\n",
              "      background-color: #434B5C;\n",
              "      box-shadow: 0px 1px 3px 1px rgba(0, 0, 0, 0.15);\n",
              "      filter: drop-shadow(0px 1px 2px rgba(0, 0, 0, 0.3));\n",
              "      fill: #FFFFFF;\n",
              "    }\n",
              "  </style>\n",
              "\n",
              "    <script>\n",
              "      const buttonEl =\n",
              "        document.querySelector('#df-e4740feb-c1eb-4bfc-b94c-8babafb8a60d button.colab-df-convert');\n",
              "      buttonEl.style.display =\n",
              "        google.colab.kernel.accessAllowed ? 'block' : 'none';\n",
              "\n",
              "      async function convertToInteractive(key) {\n",
              "        const element = document.querySelector('#df-e4740feb-c1eb-4bfc-b94c-8babafb8a60d');\n",
              "        const dataTable =\n",
              "          await google.colab.kernel.invokeFunction('convertToInteractive',\n",
              "                                                    [key], {});\n",
              "        if (!dataTable) return;\n",
              "\n",
              "        const docLinkHtml = 'Like what you see? Visit the ' +\n",
              "          '<a target=\"_blank\" href=https://colab.research.google.com/notebooks/data_table.ipynb>data table notebook</a>'\n",
              "          + ' to learn more about interactive tables.';\n",
              "        element.innerHTML = '';\n",
              "        dataTable['output_type'] = 'display_data';\n",
              "        await google.colab.output.renderOutput(dataTable, element);\n",
              "        const docLink = document.createElement('div');\n",
              "        docLink.innerHTML = docLinkHtml;\n",
              "        element.appendChild(docLink);\n",
              "      }\n",
              "    </script>\n",
              "  </div>\n",
              "\n",
              "\n",
              "<div id=\"df-612bffa5-884a-4712-8d9e-af07f94769c7\">\n",
              "  <button class=\"colab-df-quickchart\" onclick=\"quickchart('df-612bffa5-884a-4712-8d9e-af07f94769c7')\"\n",
              "            title=\"Suggest charts\"\n",
              "            style=\"display:none;\">\n",
              "\n",
              "<svg xmlns=\"http://www.w3.org/2000/svg\" height=\"24px\"viewBox=\"0 0 24 24\"\n",
              "     width=\"24px\">\n",
              "    <g>\n",
              "        <path d=\"M19 3H5c-1.1 0-2 .9-2 2v14c0 1.1.9 2 2 2h14c1.1 0 2-.9 2-2V5c0-1.1-.9-2-2-2zM9 17H7v-7h2v7zm4 0h-2V7h2v10zm4 0h-2v-4h2v4z\"/>\n",
              "    </g>\n",
              "</svg>\n",
              "  </button>\n",
              "\n",
              "<style>\n",
              "  .colab-df-quickchart {\n",
              "      --bg-color: #E8F0FE;\n",
              "      --fill-color: #1967D2;\n",
              "      --hover-bg-color: #E2EBFA;\n",
              "      --hover-fill-color: #174EA6;\n",
              "      --disabled-fill-color: #AAA;\n",
              "      --disabled-bg-color: #DDD;\n",
              "  }\n",
              "\n",
              "  [theme=dark] .colab-df-quickchart {\n",
              "      --bg-color: #3B4455;\n",
              "      --fill-color: #D2E3FC;\n",
              "      --hover-bg-color: #434B5C;\n",
              "      --hover-fill-color: #FFFFFF;\n",
              "      --disabled-bg-color: #3B4455;\n",
              "      --disabled-fill-color: #666;\n",
              "  }\n",
              "\n",
              "  .colab-df-quickchart {\n",
              "    background-color: var(--bg-color);\n",
              "    border: none;\n",
              "    border-radius: 50%;\n",
              "    cursor: pointer;\n",
              "    display: none;\n",
              "    fill: var(--fill-color);\n",
              "    height: 32px;\n",
              "    padding: 0;\n",
              "    width: 32px;\n",
              "  }\n",
              "\n",
              "  .colab-df-quickchart:hover {\n",
              "    background-color: var(--hover-bg-color);\n",
              "    box-shadow: 0 1px 2px rgba(60, 64, 67, 0.3), 0 1px 3px 1px rgba(60, 64, 67, 0.15);\n",
              "    fill: var(--button-hover-fill-color);\n",
              "  }\n",
              "\n",
              "  .colab-df-quickchart-complete:disabled,\n",
              "  .colab-df-quickchart-complete:disabled:hover {\n",
              "    background-color: var(--disabled-bg-color);\n",
              "    fill: var(--disabled-fill-color);\n",
              "    box-shadow: none;\n",
              "  }\n",
              "\n",
              "  .colab-df-spinner {\n",
              "    border: 2px solid var(--fill-color);\n",
              "    border-color: transparent;\n",
              "    border-bottom-color: var(--fill-color);\n",
              "    animation:\n",
              "      spin 1s steps(1) infinite;\n",
              "  }\n",
              "\n",
              "  @keyframes spin {\n",
              "    0% {\n",
              "      border-color: transparent;\n",
              "      border-bottom-color: var(--fill-color);\n",
              "      border-left-color: var(--fill-color);\n",
              "    }\n",
              "    20% {\n",
              "      border-color: transparent;\n",
              "      border-left-color: var(--fill-color);\n",
              "      border-top-color: var(--fill-color);\n",
              "    }\n",
              "    30% {\n",
              "      border-color: transparent;\n",
              "      border-left-color: var(--fill-color);\n",
              "      border-top-color: var(--fill-color);\n",
              "      border-right-color: var(--fill-color);\n",
              "    }\n",
              "    40% {\n",
              "      border-color: transparent;\n",
              "      border-right-color: var(--fill-color);\n",
              "      border-top-color: var(--fill-color);\n",
              "    }\n",
              "    60% {\n",
              "      border-color: transparent;\n",
              "      border-right-color: var(--fill-color);\n",
              "    }\n",
              "    80% {\n",
              "      border-color: transparent;\n",
              "      border-right-color: var(--fill-color);\n",
              "      border-bottom-color: var(--fill-color);\n",
              "    }\n",
              "    90% {\n",
              "      border-color: transparent;\n",
              "      border-bottom-color: var(--fill-color);\n",
              "    }\n",
              "  }\n",
              "</style>\n",
              "\n",
              "  <script>\n",
              "    async function quickchart(key) {\n",
              "      const quickchartButtonEl =\n",
              "        document.querySelector('#' + key + ' button');\n",
              "      quickchartButtonEl.disabled = true;  // To prevent multiple clicks.\n",
              "      quickchartButtonEl.classList.add('colab-df-spinner');\n",
              "      try {\n",
              "        const charts = await google.colab.kernel.invokeFunction(\n",
              "            'suggestCharts', [key], {});\n",
              "      } catch (error) {\n",
              "        console.error('Error during call to suggestCharts:', error);\n",
              "      }\n",
              "      quickchartButtonEl.classList.remove('colab-df-spinner');\n",
              "      quickchartButtonEl.classList.add('colab-df-quickchart-complete');\n",
              "    }\n",
              "    (() => {\n",
              "      let quickchartButtonEl =\n",
              "        document.querySelector('#df-612bffa5-884a-4712-8d9e-af07f94769c7 button');\n",
              "      quickchartButtonEl.style.display =\n",
              "        google.colab.kernel.accessAllowed ? 'block' : 'none';\n",
              "    })();\n",
              "  </script>\n",
              "</div>\n",
              "    </div>\n",
              "  </div>\n"
            ]
          },
          "metadata": {},
          "execution_count": 24
        }
      ]
    },
    {
      "cell_type": "code",
      "source": [
        "# удаление столбца id_ответа можно выполнить с помощью метода drop():\n",
        "data = data.drop('id_ответа', axis=1)"
      ],
      "metadata": {
        "id": "5umRgpeMpRJY"
      },
      "execution_count": null,
      "outputs": []
    },
    {
      "cell_type": "code",
      "source": [
        "data[data.columns[1:15]]"
      ],
      "metadata": {
        "id": "JiYZ2JdxwWQl"
      },
      "execution_count": null,
      "outputs": []
    },
    {
      "cell_type": "code",
      "source": [
        "data[\"Ответ эксперта (Лактионов)\"]"
      ],
      "metadata": {
        "colab": {
          "base_uri": "https://localhost:8080/"
        },
        "id": "TOpNrlNd1S_Z",
        "outputId": "33659c7e-499e-4ebb-c7a5-88dd92ddedd9"
      },
      "execution_count": null,
      "outputs": [
        {
          "output_type": "execute_result",
          "data": {
            "text/plain": [
              "0         Дурвалумаб\n",
              "1         Дурвалумаб\n",
              "2         Наблюдение\n",
              "3         Дурвалумаб\n",
              "4         Дурвалумаб\n",
              "             ...    \n",
              "248827    Наблюдение\n",
              "248828    Наблюдение\n",
              "248829     Алектиниб\n",
              "248830     Алектиниб\n",
              "248831    Наблюдение\n",
              "Name: Ответ эксперта (Лактионов), Length: 248832, dtype: object"
            ]
          },
          "metadata": {},
          "execution_count": 12
        }
      ]
    },
    {
      "cell_type": "code",
      "source": [],
      "metadata": {
        "id": "HKtPTrzoKhtL"
      },
      "execution_count": null,
      "outputs": []
    },
    {
      "cell_type": "code",
      "source": [
        "# разделение датасета на обучающую и проверочную выборки\n",
        "x_train, x_test, y_train, y_test = train_test_split(data[data.columns[1:15]],\n",
        "                                                data[\"Ответ эксперта (Лактионов)\"],\n",
        "                                                test_size=0.2,\n",
        "                                                shuffle=True,\n",
        "                                                random_state=6)"
      ],
      "metadata": {
        "id": "0XosHlZN1V4s"
      },
      "execution_count": null,
      "outputs": []
    },
    {
      "cell_type": "code",
      "source": [
        "!pip install autokeras"
      ],
      "metadata": {
        "colab": {
          "base_uri": "https://localhost:8080/"
        },
        "id": "E24w3yM93J1D",
        "outputId": "2b133f65-9230-4546-e849-7d81d95a47f4"
      },
      "execution_count": null,
      "outputs": [
        {
          "output_type": "stream",
          "name": "stdout",
          "text": [
            "Collecting autokeras\n",
            "  Downloading autokeras-1.1.0-py3-none-any.whl (148 kB)\n",
            "\u001b[2K     \u001b[90m━━━━━━━━━━━━━━━━━━━━━━━━━━━━━━━━━━━━━━━━\u001b[0m \u001b[32m148.6/148.6 kB\u001b[0m \u001b[31m3.4 MB/s\u001b[0m eta \u001b[36m0:00:00\u001b[0m\n",
            "\u001b[?25hRequirement already satisfied: packaging in /usr/local/lib/python3.10/dist-packages (from autokeras) (23.2)\n",
            "Requirement already satisfied: tensorflow>=2.8.0 in /usr/local/lib/python3.10/dist-packages (from autokeras) (2.14.0)\n",
            "Collecting keras-tuner>=1.1.0 (from autokeras)\n",
            "  Downloading keras_tuner-1.4.5-py3-none-any.whl (129 kB)\n",
            "\u001b[2K     \u001b[90m━━━━━━━━━━━━━━━━━━━━━━━━━━━━━━━━━━━━━━━━\u001b[0m \u001b[32m129.5/129.5 kB\u001b[0m \u001b[31m15.8 MB/s\u001b[0m eta \u001b[36m0:00:00\u001b[0m\n",
            "\u001b[?25hCollecting keras-nlp>=0.4.0 (from autokeras)\n",
            "  Downloading keras_nlp-0.6.2-py3-none-any.whl (590 kB)\n",
            "\u001b[2K     \u001b[90m━━━━━━━━━━━━━━━━━━━━━━━━━━━━━━━━━━━━━━━━\u001b[0m \u001b[32m590.1/590.1 kB\u001b[0m \u001b[31m26.4 MB/s\u001b[0m eta \u001b[36m0:00:00\u001b[0m\n",
            "\u001b[?25hRequirement already satisfied: pandas in /usr/local/lib/python3.10/dist-packages (from autokeras) (1.5.3)\n",
            "Collecting keras-core (from keras-nlp>=0.4.0->autokeras)\n",
            "  Downloading keras_core-0.1.7-py3-none-any.whl (950 kB)\n",
            "\u001b[2K     \u001b[90m━━━━━━━━━━━━━━━━━━━━━━━━━━━━━━━━━━━━━━━━\u001b[0m \u001b[32m950.8/950.8 kB\u001b[0m \u001b[31m54.3 MB/s\u001b[0m eta \u001b[36m0:00:00\u001b[0m\n",
            "\u001b[?25hRequirement already satisfied: absl-py in /usr/local/lib/python3.10/dist-packages (from keras-nlp>=0.4.0->autokeras) (1.4.0)\n",
            "Requirement already satisfied: numpy in /usr/local/lib/python3.10/dist-packages (from keras-nlp>=0.4.0->autokeras) (1.23.5)\n",
            "Requirement already satisfied: regex in /usr/local/lib/python3.10/dist-packages (from keras-nlp>=0.4.0->autokeras) (2023.6.3)\n",
            "Requirement already satisfied: rich in /usr/local/lib/python3.10/dist-packages (from keras-nlp>=0.4.0->autokeras) (13.6.0)\n",
            "Requirement already satisfied: dm-tree in /usr/local/lib/python3.10/dist-packages (from keras-nlp>=0.4.0->autokeras) (0.1.8)\n",
            "Collecting tensorflow-text (from keras-nlp>=0.4.0->autokeras)\n",
            "  Downloading tensorflow_text-2.14.0-cp310-cp310-manylinux_2_17_x86_64.manylinux2014_x86_64.whl (6.5 MB)\n",
            "\u001b[2K     \u001b[90m━━━━━━━━━━━━━━━━━━━━━━━━━━━━━━━━━━━━━━━━\u001b[0m \u001b[32m6.5/6.5 MB\u001b[0m \u001b[31m78.9 MB/s\u001b[0m eta \u001b[36m0:00:00\u001b[0m\n",
            "\u001b[?25hRequirement already satisfied: requests in /usr/local/lib/python3.10/dist-packages (from keras-tuner>=1.1.0->autokeras) (2.31.0)\n",
            "Collecting kt-legacy (from keras-tuner>=1.1.0->autokeras)\n",
            "  Downloading kt_legacy-1.0.5-py3-none-any.whl (9.6 kB)\n",
            "Requirement already satisfied: astunparse>=1.6.0 in /usr/local/lib/python3.10/dist-packages (from tensorflow>=2.8.0->autokeras) (1.6.3)\n",
            "Requirement already satisfied: flatbuffers>=23.5.26 in /usr/local/lib/python3.10/dist-packages (from tensorflow>=2.8.0->autokeras) (23.5.26)\n",
            "Requirement already satisfied: gast!=0.5.0,!=0.5.1,!=0.5.2,>=0.2.1 in /usr/local/lib/python3.10/dist-packages (from tensorflow>=2.8.0->autokeras) (0.5.4)\n",
            "Requirement already satisfied: google-pasta>=0.1.1 in /usr/local/lib/python3.10/dist-packages (from tensorflow>=2.8.0->autokeras) (0.2.0)\n",
            "Requirement already satisfied: h5py>=2.9.0 in /usr/local/lib/python3.10/dist-packages (from tensorflow>=2.8.0->autokeras) (3.9.0)\n",
            "Requirement already satisfied: libclang>=13.0.0 in /usr/local/lib/python3.10/dist-packages (from tensorflow>=2.8.0->autokeras) (16.0.6)\n",
            "Requirement already satisfied: ml-dtypes==0.2.0 in /usr/local/lib/python3.10/dist-packages (from tensorflow>=2.8.0->autokeras) (0.2.0)\n",
            "Requirement already satisfied: opt-einsum>=2.3.2 in /usr/local/lib/python3.10/dist-packages (from tensorflow>=2.8.0->autokeras) (3.3.0)\n",
            "Requirement already satisfied: protobuf!=4.21.0,!=4.21.1,!=4.21.2,!=4.21.3,!=4.21.4,!=4.21.5,<5.0.0dev,>=3.20.3 in /usr/local/lib/python3.10/dist-packages (from tensorflow>=2.8.0->autokeras) (3.20.3)\n",
            "Requirement already satisfied: setuptools in /usr/local/lib/python3.10/dist-packages (from tensorflow>=2.8.0->autokeras) (67.7.2)\n",
            "Requirement already satisfied: six>=1.12.0 in /usr/local/lib/python3.10/dist-packages (from tensorflow>=2.8.0->autokeras) (1.16.0)\n",
            "Requirement already satisfied: termcolor>=1.1.0 in /usr/local/lib/python3.10/dist-packages (from tensorflow>=2.8.0->autokeras) (2.3.0)\n",
            "Requirement already satisfied: typing-extensions>=3.6.6 in /usr/local/lib/python3.10/dist-packages (from tensorflow>=2.8.0->autokeras) (4.5.0)\n",
            "Requirement already satisfied: wrapt<1.15,>=1.11.0 in /usr/local/lib/python3.10/dist-packages (from tensorflow>=2.8.0->autokeras) (1.14.1)\n",
            "Requirement already satisfied: tensorflow-io-gcs-filesystem>=0.23.1 in /usr/local/lib/python3.10/dist-packages (from tensorflow>=2.8.0->autokeras) (0.34.0)\n",
            "Requirement already satisfied: grpcio<2.0,>=1.24.3 in /usr/local/lib/python3.10/dist-packages (from tensorflow>=2.8.0->autokeras) (1.59.0)\n",
            "Requirement already satisfied: tensorboard<2.15,>=2.14 in /usr/local/lib/python3.10/dist-packages (from tensorflow>=2.8.0->autokeras) (2.14.1)\n",
            "Requirement already satisfied: tensorflow-estimator<2.15,>=2.14.0 in /usr/local/lib/python3.10/dist-packages (from tensorflow>=2.8.0->autokeras) (2.14.0)\n",
            "Requirement already satisfied: keras<2.15,>=2.14.0 in /usr/local/lib/python3.10/dist-packages (from tensorflow>=2.8.0->autokeras) (2.14.0)\n",
            "Requirement already satisfied: python-dateutil>=2.8.1 in /usr/local/lib/python3.10/dist-packages (from pandas->autokeras) (2.8.2)\n",
            "Requirement already satisfied: pytz>=2020.1 in /usr/local/lib/python3.10/dist-packages (from pandas->autokeras) (2023.3.post1)\n",
            "Requirement already satisfied: wheel<1.0,>=0.23.0 in /usr/local/lib/python3.10/dist-packages (from astunparse>=1.6.0->tensorflow>=2.8.0->autokeras) (0.41.2)\n",
            "Requirement already satisfied: google-auth<3,>=1.6.3 in /usr/local/lib/python3.10/dist-packages (from tensorboard<2.15,>=2.14->tensorflow>=2.8.0->autokeras) (2.17.3)\n",
            "Requirement already satisfied: google-auth-oauthlib<1.1,>=0.5 in /usr/local/lib/python3.10/dist-packages (from tensorboard<2.15,>=2.14->tensorflow>=2.8.0->autokeras) (1.0.0)\n",
            "Requirement already satisfied: markdown>=2.6.8 in /usr/local/lib/python3.10/dist-packages (from tensorboard<2.15,>=2.14->tensorflow>=2.8.0->autokeras) (3.5)\n",
            "Requirement already satisfied: tensorboard-data-server<0.8.0,>=0.7.0 in /usr/local/lib/python3.10/dist-packages (from tensorboard<2.15,>=2.14->tensorflow>=2.8.0->autokeras) (0.7.2)\n",
            "Requirement already satisfied: werkzeug>=1.0.1 in /usr/local/lib/python3.10/dist-packages (from tensorboard<2.15,>=2.14->tensorflow>=2.8.0->autokeras) (3.0.1)\n",
            "Requirement already satisfied: charset-normalizer<4,>=2 in /usr/local/lib/python3.10/dist-packages (from requests->keras-tuner>=1.1.0->autokeras) (3.3.1)\n",
            "Requirement already satisfied: idna<4,>=2.5 in /usr/local/lib/python3.10/dist-packages (from requests->keras-tuner>=1.1.0->autokeras) (3.4)\n",
            "Requirement already satisfied: urllib3<3,>=1.21.1 in /usr/local/lib/python3.10/dist-packages (from requests->keras-tuner>=1.1.0->autokeras) (2.0.7)\n",
            "Requirement already satisfied: certifi>=2017.4.17 in /usr/local/lib/python3.10/dist-packages (from requests->keras-tuner>=1.1.0->autokeras) (2023.7.22)\n",
            "Collecting namex (from keras-core->keras-nlp>=0.4.0->autokeras)\n",
            "  Downloading namex-0.0.7-py3-none-any.whl (5.8 kB)\n",
            "Requirement already satisfied: markdown-it-py>=2.2.0 in /usr/local/lib/python3.10/dist-packages (from rich->keras-nlp>=0.4.0->autokeras) (3.0.0)\n",
            "Requirement already satisfied: pygments<3.0.0,>=2.13.0 in /usr/local/lib/python3.10/dist-packages (from rich->keras-nlp>=0.4.0->autokeras) (2.16.1)\n",
            "Requirement already satisfied: tensorflow-hub>=0.13.0 in /usr/local/lib/python3.10/dist-packages (from tensorflow-text->keras-nlp>=0.4.0->autokeras) (0.15.0)\n",
            "Requirement already satisfied: cachetools<6.0,>=2.0.0 in /usr/local/lib/python3.10/dist-packages (from google-auth<3,>=1.6.3->tensorboard<2.15,>=2.14->tensorflow>=2.8.0->autokeras) (5.3.2)\n",
            "Requirement already satisfied: pyasn1-modules>=0.2.1 in /usr/local/lib/python3.10/dist-packages (from google-auth<3,>=1.6.3->tensorboard<2.15,>=2.14->tensorflow>=2.8.0->autokeras) (0.3.0)\n",
            "Requirement already satisfied: rsa<5,>=3.1.4 in /usr/local/lib/python3.10/dist-packages (from google-auth<3,>=1.6.3->tensorboard<2.15,>=2.14->tensorflow>=2.8.0->autokeras) (4.9)\n",
            "Requirement already satisfied: requests-oauthlib>=0.7.0 in /usr/local/lib/python3.10/dist-packages (from google-auth-oauthlib<1.1,>=0.5->tensorboard<2.15,>=2.14->tensorflow>=2.8.0->autokeras) (1.3.1)\n",
            "Requirement already satisfied: mdurl~=0.1 in /usr/local/lib/python3.10/dist-packages (from markdown-it-py>=2.2.0->rich->keras-nlp>=0.4.0->autokeras) (0.1.2)\n",
            "Requirement already satisfied: MarkupSafe>=2.1.1 in /usr/local/lib/python3.10/dist-packages (from werkzeug>=1.0.1->tensorboard<2.15,>=2.14->tensorflow>=2.8.0->autokeras) (2.1.3)\n",
            "Requirement already satisfied: pyasn1<0.6.0,>=0.4.6 in /usr/local/lib/python3.10/dist-packages (from pyasn1-modules>=0.2.1->google-auth<3,>=1.6.3->tensorboard<2.15,>=2.14->tensorflow>=2.8.0->autokeras) (0.5.0)\n",
            "Requirement already satisfied: oauthlib>=3.0.0 in /usr/local/lib/python3.10/dist-packages (from requests-oauthlib>=0.7.0->google-auth-oauthlib<1.1,>=0.5->tensorboard<2.15,>=2.14->tensorflow>=2.8.0->autokeras) (3.2.2)\n",
            "Installing collected packages: namex, kt-legacy, keras-core, keras-tuner, tensorflow-text, keras-nlp, autokeras\n",
            "Successfully installed autokeras-1.1.0 keras-core-0.1.7 keras-nlp-0.6.2 keras-tuner-1.4.5 kt-legacy-1.0.5 namex-0.0.7 tensorflow-text-2.14.0\n"
          ]
        }
      ]
    },
    {
      "cell_type": "code",
      "source": [
        "import autokeras as ak"
      ],
      "metadata": {
        "colab": {
          "base_uri": "https://localhost:8080/"
        },
        "id": "k3wHWZnv3QPn",
        "outputId": "1465dc52-b637-4628-f94e-86f19812d34b"
      },
      "execution_count": null,
      "outputs": [
        {
          "output_type": "stream",
          "name": "stdout",
          "text": [
            "Using TensorFlow backend\n"
          ]
        }
      ]
    },
    {
      "cell_type": "markdown",
      "source": [
        "# Обучение НС"
      ],
      "metadata": {
        "id": "ZW68iF0_dSUO"
      }
    },
    {
      "cell_type": "code",
      "source": [
        "# Initialize the structured data classifier.\n",
        "clf = ak.StructuredDataClassifier(\n",
        "    overwrite=True, max_trials=2\n",
        ")\n",
        "clf.fit( x_train, y_train,  epochs=10, )\n",
        "predicted_y = clf.predict(x_test)\n",
        "\n",
        "print(clf.evaluate(x_test, y_test))"
      ],
      "metadata": {
        "colab": {
          "base_uri": "https://localhost:8080/"
        },
        "id": "b6mWWYMRFeVI",
        "outputId": "ca31d9a2-bcc4-421c-9932-68d98d74ee8f"
      },
      "execution_count": null,
      "outputs": [
        {
          "output_type": "stream",
          "name": "stdout",
          "text": [
            "Trial 2 Complete [00h 07m 05s]\n",
            "val_accuracy: 0.6329489350318909\n",
            "\n",
            "Best val_accuracy So Far: 1.0\n",
            "Total elapsed time: 00h 13m 04s\n",
            "Epoch 1/10\n",
            "6221/6221 [==============================] - 20s 3ms/step - loss: 0.1057 - accuracy: 0.9677\n",
            "Epoch 2/10\n",
            "6221/6221 [==============================] - 21s 3ms/step - loss: 9.9294e-05 - accuracy: 1.0000\n",
            "Epoch 3/10\n",
            "6221/6221 [==============================] - 19s 3ms/step - loss: 2.1800e-06 - accuracy: 1.0000\n",
            "Epoch 4/10\n",
            "6221/6221 [==============================] - 21s 3ms/step - loss: 6.5205e-08 - accuracy: 1.0000\n",
            "Epoch 5/10\n",
            "6221/6221 [==============================] - 19s 3ms/step - loss: 2.7978e-09 - accuracy: 1.0000\n",
            "Epoch 6/10\n",
            "6221/6221 [==============================] - 19s 3ms/step - loss: 1.1660e-09 - accuracy: 1.0000\n",
            "Epoch 7/10\n",
            "6221/6221 [==============================] - 21s 3ms/step - loss: 1.1974e-04 - accuracy: 0.9999\n",
            "Epoch 8/10\n",
            "6221/6221 [==============================] - 20s 3ms/step - loss: 6.4415e-08 - accuracy: 1.0000\n",
            "Epoch 9/10\n",
            "6221/6221 [==============================] - 19s 3ms/step - loss: 7.2999e-09 - accuracy: 1.0000\n",
            "Epoch 10/10\n",
            "6221/6221 [==============================] - 21s 3ms/step - loss: 7.6712e-10 - accuracy: 1.0000\n",
            "1556/1556 [==============================] - 4s 2ms/step\n",
            "1556/1556 [==============================] - 3s 2ms/step\n",
            "1556/1556 [==============================] - 5s 3ms/step - loss: 8.6233e-10 - accuracy: 1.0000\n",
            "[8.623252667483428e-10, 1.0]\n"
          ]
        }
      ]
    },
    {
      "cell_type": "code",
      "source": [
        "best_model = clf.export_model()\n",
        "# Получите архитектуру модели в виде JSON строки\n",
        "model_json = best_model.to_json()\n",
        "\n",
        "print(\"Model architecture:\")\n",
        "print(model_json)"
      ],
      "metadata": {
        "colab": {
          "base_uri": "https://localhost:8080/"
        },
        "id": "JpU9zu8BLAJs",
        "outputId": "d9a23aca-f11b-483a-8bba-571feae58db9"
      },
      "execution_count": null,
      "outputs": [
        {
          "output_type": "stream",
          "name": "stdout",
          "text": [
            "Model architecture:\n",
            "{\"class_name\": \"Functional\", \"config\": {\"name\": \"model\", \"trainable\": true, \"layers\": [{\"module\": \"keras.layers\", \"class_name\": \"InputLayer\", \"config\": {\"batch_input_shape\": [null, 14], \"dtype\": \"string\", \"sparse\": false, \"ragged\": false, \"name\": \"input_1\"}, \"registered_name\": null, \"name\": \"input_1\", \"inbound_nodes\": []}, {\"module\": \"autokeras.keras_layers\", \"class_name\": \"MultiCategoryEncoding\", \"config\": {\"name\": \"multi_category_encoding\", \"trainable\": true, \"dtype\": \"float32\", \"encoding\": [\"int\", \"int\", \"int\", \"int\", \"int\", \"int\", \"int\", \"int\", \"int\", \"int\", \"int\", \"int\", \"int\", \"int\"]}, \"registered_name\": \"Custom>MultiCategoryEncoding\", \"build_config\": {\"input_shape\": [null, 14]}, \"name\": \"multi_category_encoding\", \"inbound_nodes\": [[[\"input_1\", 0, 0, {}]]]}, {\"module\": \"keras.layers\", \"class_name\": \"Normalization\", \"config\": {\"name\": \"normalization\", \"trainable\": true, \"dtype\": \"float32\", \"axis\": [-1], \"invert\": false, \"mean\": null, \"variance\": null}, \"registered_name\": null, \"build_config\": {\"input_shape\": [null, 14]}, \"name\": \"normalization\", \"inbound_nodes\": [[[\"multi_category_encoding\", 0, 0, {}]]]}, {\"module\": \"keras.layers\", \"class_name\": \"Dense\", \"config\": {\"name\": \"dense\", \"trainable\": true, \"dtype\": \"float32\", \"units\": 32, \"activation\": \"linear\", \"use_bias\": true, \"kernel_initializer\": {\"module\": \"keras.initializers\", \"class_name\": \"GlorotUniform\", \"config\": {\"seed\": null}, \"registered_name\": null}, \"bias_initializer\": {\"module\": \"keras.initializers\", \"class_name\": \"Zeros\", \"config\": {}, \"registered_name\": null}, \"kernel_regularizer\": null, \"bias_regularizer\": null, \"activity_regularizer\": null, \"kernel_constraint\": null, \"bias_constraint\": null}, \"registered_name\": null, \"build_config\": {\"input_shape\": [null, 14]}, \"name\": \"dense\", \"inbound_nodes\": [[[\"normalization\", 0, 0, {}]]]}, {\"module\": \"keras.layers\", \"class_name\": \"ReLU\", \"config\": {\"name\": \"re_lu\", \"trainable\": true, \"dtype\": \"float32\", \"max_value\": null, \"negative_slope\": 0.0, \"threshold\": 0.0}, \"registered_name\": null, \"name\": \"re_lu\", \"inbound_nodes\": [[[\"dense\", 0, 0, {}]]]}, {\"module\": \"keras.layers\", \"class_name\": \"Dense\", \"config\": {\"name\": \"dense_1\", \"trainable\": true, \"dtype\": \"float32\", \"units\": 32, \"activation\": \"linear\", \"use_bias\": true, \"kernel_initializer\": {\"module\": \"keras.initializers\", \"class_name\": \"GlorotUniform\", \"config\": {\"seed\": null}, \"registered_name\": null}, \"bias_initializer\": {\"module\": \"keras.initializers\", \"class_name\": \"Zeros\", \"config\": {}, \"registered_name\": null}, \"kernel_regularizer\": null, \"bias_regularizer\": null, \"activity_regularizer\": null, \"kernel_constraint\": null, \"bias_constraint\": null}, \"registered_name\": null, \"build_config\": {\"input_shape\": [null, 32]}, \"name\": \"dense_1\", \"inbound_nodes\": [[[\"re_lu\", 0, 0, {}]]]}, {\"module\": \"keras.layers\", \"class_name\": \"ReLU\", \"config\": {\"name\": \"re_lu_1\", \"trainable\": true, \"dtype\": \"float32\", \"max_value\": null, \"negative_slope\": 0.0, \"threshold\": 0.0}, \"registered_name\": null, \"name\": \"re_lu_1\", \"inbound_nodes\": [[[\"dense_1\", 0, 0, {}]]]}, {\"module\": \"keras.layers\", \"class_name\": \"Dense\", \"config\": {\"name\": \"dense_2\", \"trainable\": true, \"dtype\": \"float32\", \"units\": 4, \"activation\": \"linear\", \"use_bias\": true, \"kernel_initializer\": {\"module\": \"keras.initializers\", \"class_name\": \"GlorotUniform\", \"config\": {\"seed\": null}, \"registered_name\": null}, \"bias_initializer\": {\"module\": \"keras.initializers\", \"class_name\": \"Zeros\", \"config\": {}, \"registered_name\": null}, \"kernel_regularizer\": null, \"bias_regularizer\": null, \"activity_regularizer\": null, \"kernel_constraint\": null, \"bias_constraint\": null}, \"registered_name\": null, \"build_config\": {\"input_shape\": [null, 32]}, \"name\": \"dense_2\", \"inbound_nodes\": [[[\"re_lu_1\", 0, 0, {}]]]}, {\"module\": \"keras.layers\", \"class_name\": \"Softmax\", \"config\": {\"name\": \"classification_head_1\", \"trainable\": true, \"dtype\": \"float32\", \"axis\": -1}, \"registered_name\": null, \"name\": \"classification_head_1\", \"inbound_nodes\": [[[\"dense_2\", 0, 0, {}]]]}], \"input_layers\": [[\"input_1\", 0, 0]], \"output_layers\": [[\"classification_head_1\", 0, 0]]}, \"keras_version\": \"2.14.0\", \"backend\": \"tensorflow\"}\n"
          ]
        }
      ]
    },
    {
      "cell_type": "code",
      "source": [
        "best_model.summary()"
      ],
      "metadata": {
        "colab": {
          "base_uri": "https://localhost:8080/"
        },
        "id": "8IXtKcpsPPWH",
        "outputId": "7ae0216e-b6e0-4914-8d7a-cd5d381c2411"
      },
      "execution_count": null,
      "outputs": [
        {
          "output_type": "stream",
          "name": "stdout",
          "text": [
            "Model: \"model\"\n",
            "_________________________________________________________________\n",
            " Layer (type)                Output Shape              Param #   \n",
            "=================================================================\n",
            " input_1 (InputLayer)        [(None, 14)]              0         \n",
            "                                                                 \n",
            " multi_category_encoding (M  (None, 14)                0         \n",
            " ultiCategoryEncoding)                                           \n",
            "                                                                 \n",
            " normalization (Normalizati  (None, 14)                29        \n",
            " on)                                                             \n",
            "                                                                 \n",
            " dense (Dense)               (None, 32)                480       \n",
            "                                                                 \n",
            " re_lu (ReLU)                (None, 32)                0         \n",
            "                                                                 \n",
            " dense_1 (Dense)             (None, 32)                1056      \n",
            "                                                                 \n",
            " re_lu_1 (ReLU)              (None, 32)                0         \n",
            "                                                                 \n",
            " dense_2 (Dense)             (None, 4)                 132       \n",
            "                                                                 \n",
            " classification_head_1 (Sof  (None, 4)                 0         \n",
            " tmax)                                                           \n",
            "                                                                 \n",
            "=================================================================\n",
            "Total params: 1697 (6.63 KB)\n",
            "Trainable params: 1668 (6.52 KB)\n",
            "Non-trainable params: 29 (120.00 Byte)\n",
            "_________________________________________________________________\n"
          ]
        }
      ]
    }
  ]
}