{
  "cells": [
    {
      "cell_type": "markdown",
      "metadata": {
        "id": "Hq6evaHazzT2"
      },
      "source": [
        "## Loading dataset"
      ]
    },
    {
      "cell_type": "code",
      "execution_count": 296,
      "metadata": {
        "colab": {
          "base_uri": "https://localhost:8080/",
          "height": 300
        },
        "id": "w0miCSD-mBTf",
        "outputId": "a1ad8274-8d61-49d0-b3ce-1fbff421cf5e"
      },
      "outputs": [],
      "source": [
        "# Loading dataset\n",
        "# import pandas as pd\n",
        "# google_sheet_url = 'https://docs.google.com/spreadsheets/d/1GxiYANrHyqFB9L6KkxypmS5KhbZen3Tm/edit#gid=548315443'\n",
        "# new_google_sheet_url = google_sheet_url.replace('edit#gid', 'export?format=csv&gid')\n",
        "# # new_google_sheet_url = 'https://docs.google.com/spreadsheets/d/1GxiYANrHyqFB9L6KkxypmS5KhbZen3Tm/export?format=csv&gid=548315443'\n",
        "# df=pd.read_csv(new_google_sheet_url)\n",
        "# df.head(2)"
      ]
    },
    {
      "cell_type": "code",
      "execution_count": 8,
      "metadata": {
        "colab": {
          "base_uri": "https://localhost:8080/"
        },
        "id": "XDWh9imftEsH",
        "outputId": "4197d6f9-39ab-48ed-f93c-c563e876b7d5"
      },
      "outputs": [
        {
          "name": "stdout",
          "output_type": "stream",
          "text": [
            "<class 'pandas.core.frame.DataFrame'>\n",
            "RangeIndex: 248832 entries, 0 to 248831\n",
            "Data columns (total 21 columns):\n",
            " #   Column                                                    Non-Null Count   Dtype \n",
            "---  ------                                                    --------------   ----- \n",
            " 0   id_ответа                                                 248832 non-null  int64 \n",
            " 1   Раса                                                      248832 non-null  object\n",
            " 2   Пол                                                       248832 non-null  object\n",
            " 3   Возраст                                                   248832 non-null  object\n",
            " 4   Статус курения                                            248832 non-null  object\n",
            " 5   ECOG                                                      248832 non-null  object\n",
            " 6   Есть опухолевая нагрузка? (симптомная опухоль)            248832 non-null  object\n",
            " 7   Ко-мутации KRAS                                           248832 non-null  object\n",
            " 8   Ко-мутации p53.                                           248832 non-null  object\n",
            " 9   Ко-мутации STK11                                          248832 non-null  object\n",
            " 10  Ко-мутации KEAP1                                          248832 non-null  object\n",
            " 11  Срок от окончания ХЛТ                                     248832 non-null  object\n",
            " 12  Молекулярный статус (только для неплоскоклеточного рака)  248832 non-null  object\n",
            " 13  PD-L1 статус                                              248832 non-null  object\n",
            " 14  Предпочтение пациента по ответу на терапию                248832 non-null  object\n",
            " 15  Ответ эксперта (Лактионов)                                248832 non-null  object\n",
            " 16  Поставьте галочку,если уверены на 100%                    248832 non-null  bool  \n",
            " 17  Если 75%                                                  248832 non-null  bool  \n",
            " 18  Если 50%                                                  248832 non-null  bool  \n",
            " 19  Альтернатива,если 50% - обязательно                       248832 non-null  object\n",
            " 20  Комментарий                                               248832 non-null  object\n",
            "dtypes: bool(3), int64(1), object(17)\n",
            "memory usage: 34.9+ MB\n"
          ]
        }
      ],
      "source": [
        "import pandas as pd\n",
        "df=pd.read_csv('dataframe.csv', sep=',', engine='python')\n",
        "df.info()"
      ]
    },
    {
      "cell_type": "code",
      "execution_count": 293,
      "metadata": {},
      "outputs": [],
      "source": [
        "\"\"\"\n",
        "# Чтение файла как текстового и замена разделителя в каждой строке - крайняя мера, если кривой датасет с кривым разделителем\n",
        "with open('dataframe.csv', 'r', encoding='utf-8') as file:\n",
        "    lines = file.readlines()\n",
        "\n",
        "# Замена разделителя ', ' на ','\n",
        "lines = [line.replace(', ', ',') for line in lines]\n",
        "\n",
        "# Сохранение обработанных данных в новый CSV файл\n",
        "corrected_file_path_v2 = 'dataframe.csv'\n",
        "with open(corrected_file_path_v2, 'w', encoding='utf-8') as file:\n",
        "    file.writelines(lines)\n",
        "\"\"\""
      ]
    },
    {
      "cell_type": "markdown",
      "metadata": {
        "id": "sii_ld0KTLlT"
      },
      "source": [
        "## Data preparing"
      ]
    },
    {
      "cell_type": "code",
      "execution_count": 9,
      "metadata": {
        "colab": {
          "base_uri": "https://localhost:8080/",
          "height": 0
        },
        "id": "ph7voXOMTO33",
        "outputId": "3b2158ed-97b1-4b65-b2e3-96c3c47930de"
      },
      "outputs": [
        {
          "data": {
            "text/html": [
              "<div>\n",
              "<style scoped>\n",
              "    .dataframe tbody tr th:only-of-type {\n",
              "        vertical-align: middle;\n",
              "    }\n",
              "\n",
              "    .dataframe tbody tr th {\n",
              "        vertical-align: top;\n",
              "    }\n",
              "\n",
              "    .dataframe thead th {\n",
              "        text-align: right;\n",
              "    }\n",
              "</style>\n",
              "<table border=\"1\" class=\"dataframe\">\n",
              "  <thead>\n",
              "    <tr style=\"text-align: right;\">\n",
              "      <th></th>\n",
              "      <th>id_ответа</th>\n",
              "      <th>Раса</th>\n",
              "      <th>Пол</th>\n",
              "      <th>Возраст</th>\n",
              "      <th>Статус курения</th>\n",
              "      <th>ECOG</th>\n",
              "      <th>Есть опухолевая нагрузка? (симптомная опухоль)</th>\n",
              "      <th>Ко-мутации KRAS</th>\n",
              "      <th>Ко-мутации p53.</th>\n",
              "      <th>Ко-мутации STK11</th>\n",
              "      <th>...</th>\n",
              "      <th>Срок от окончания ХЛТ</th>\n",
              "      <th>Молекулярный статус (только для неплоскоклеточного рака)</th>\n",
              "      <th>PD-L1 статус</th>\n",
              "      <th>Предпочтение пациента по ответу на терапию</th>\n",
              "      <th>Ответ эксперта (Лактионов)</th>\n",
              "      <th>Поставьте галочку,если уверены на 100%</th>\n",
              "      <th>Если 75%</th>\n",
              "      <th>Если 50%</th>\n",
              "      <th>Альтернатива,если 50% - обязательно</th>\n",
              "      <th>Комментарий</th>\n",
              "    </tr>\n",
              "  </thead>\n",
              "  <tbody>\n",
              "    <tr>\n",
              "      <th>0</th>\n",
              "      <td>1</td>\n",
              "      <td>Азиатская</td>\n",
              "      <td>Мужской</td>\n",
              "      <td>До 70</td>\n",
              "      <td>В настоящее время</td>\n",
              "      <td>0-1</td>\n",
              "      <td>да</td>\n",
              "      <td>да</td>\n",
              "      <td>да</td>\n",
              "      <td>да</td>\n",
              "      <td>...</td>\n",
              "      <td>до 42 дней</td>\n",
              "      <td>нет мутаций</td>\n",
              "      <td>Не исследовался</td>\n",
              "      <td>Результативность лечения</td>\n",
              "      <td>Дурвалумаб</td>\n",
              "      <td>True</td>\n",
              "      <td>False</td>\n",
              "      <td>False</td>\n",
              "      <td>0</td>\n",
              "      <td>0</td>\n",
              "    </tr>\n",
              "    <tr>\n",
              "      <th>1</th>\n",
              "      <td>2</td>\n",
              "      <td>Азиатская</td>\n",
              "      <td>Мужской</td>\n",
              "      <td>До 70</td>\n",
              "      <td>В настоящее время</td>\n",
              "      <td>0-1</td>\n",
              "      <td>да</td>\n",
              "      <td>да</td>\n",
              "      <td>да</td>\n",
              "      <td>да</td>\n",
              "      <td>...</td>\n",
              "      <td>от 43 до 60 дней</td>\n",
              "      <td>нет мутаций</td>\n",
              "      <td>Не исследовался</td>\n",
              "      <td>Результативность лечения</td>\n",
              "      <td>Дурвалумаб</td>\n",
              "      <td>True</td>\n",
              "      <td>False</td>\n",
              "      <td>False</td>\n",
              "      <td>0</td>\n",
              "      <td>0</td>\n",
              "    </tr>\n",
              "    <tr>\n",
              "      <th>8</th>\n",
              "      <td>9</td>\n",
              "      <td>Азиатская</td>\n",
              "      <td>Мужской</td>\n",
              "      <td>До 70</td>\n",
              "      <td>В настоящее время</td>\n",
              "      <td>0-1</td>\n",
              "      <td>да</td>\n",
              "      <td>да</td>\n",
              "      <td>да</td>\n",
              "      <td>да</td>\n",
              "      <td>...</td>\n",
              "      <td>более 61 дня</td>\n",
              "      <td>EGFR редкий вариант</td>\n",
              "      <td>Не исследовался</td>\n",
              "      <td>Результативность лечения</td>\n",
              "      <td>Наблюдение</td>\n",
              "      <td>True</td>\n",
              "      <td>False</td>\n",
              "      <td>False</td>\n",
              "      <td>0</td>\n",
              "      <td>0</td>\n",
              "    </tr>\n",
              "    <tr>\n",
              "      <th>17</th>\n",
              "      <td>18</td>\n",
              "      <td>Азиатская</td>\n",
              "      <td>Мужской</td>\n",
              "      <td>До 70</td>\n",
              "      <td>В настоящее время</td>\n",
              "      <td>0-1</td>\n",
              "      <td>да</td>\n",
              "      <td>да</td>\n",
              "      <td>да</td>\n",
              "      <td>да</td>\n",
              "      <td>...</td>\n",
              "      <td>более 61 дня</td>\n",
              "      <td>ALK позитивный</td>\n",
              "      <td>Не исследовался</td>\n",
              "      <td>Результативность лечения</td>\n",
              "      <td>Наблюдение</td>\n",
              "      <td>True</td>\n",
              "      <td>False</td>\n",
              "      <td>False</td>\n",
              "      <td>0</td>\n",
              "      <td>0</td>\n",
              "    </tr>\n",
              "    <tr>\n",
              "      <th>35</th>\n",
              "      <td>36</td>\n",
              "      <td>Азиатская</td>\n",
              "      <td>Мужской</td>\n",
              "      <td>До 70</td>\n",
              "      <td>В настоящее время</td>\n",
              "      <td>0-1</td>\n",
              "      <td>да</td>\n",
              "      <td>да</td>\n",
              "      <td>да</td>\n",
              "      <td>да</td>\n",
              "      <td>...</td>\n",
              "      <td>более 61 дня</td>\n",
              "      <td>ALK позитивный</td>\n",
              "      <td>Менее 1%</td>\n",
              "      <td>Результативность лечения</td>\n",
              "      <td>Наблюдение</td>\n",
              "      <td>True</td>\n",
              "      <td>False</td>\n",
              "      <td>False</td>\n",
              "      <td>0</td>\n",
              "      <td>0</td>\n",
              "    </tr>\n",
              "  </tbody>\n",
              "</table>\n",
              "<p>5 rows × 21 columns</p>\n",
              "</div>"
            ],
            "text/plain": [
              "    id_ответа       Раса      Пол Возраст     Статус курения ECOG  \\\n",
              "0           1  Азиатская  Мужской   До 70  В настоящее время  0-1   \n",
              "1           2  Азиатская  Мужской   До 70  В настоящее время  0-1   \n",
              "8           9  Азиатская  Мужской   До 70  В настоящее время  0-1   \n",
              "17         18  Азиатская  Мужской   До 70  В настоящее время  0-1   \n",
              "35         36  Азиатская  Мужской   До 70  В настоящее время  0-1   \n",
              "\n",
              "   Есть опухолевая нагрузка? (симптомная опухоль) Ко-мутации KRAS  \\\n",
              "0                                              да              да   \n",
              "1                                              да              да   \n",
              "8                                              да              да   \n",
              "17                                             да              да   \n",
              "35                                             да              да   \n",
              "\n",
              "   Ко-мутации p53. Ко-мутации STK11  ... Срок от окончания ХЛТ  \\\n",
              "0               да               да  ...            до 42 дней   \n",
              "1               да               да  ...      от 43 до 60 дней   \n",
              "8               да               да  ...          более 61 дня   \n",
              "17              да               да  ...          более 61 дня   \n",
              "35              да               да  ...          более 61 дня   \n",
              "\n",
              "   Молекулярный статус (только для неплоскоклеточного рака)     PD-L1 статус  \\\n",
              "0                                         нет мутаций        Не исследовался   \n",
              "1                                         нет мутаций        Не исследовался   \n",
              "8                                 EGFR редкий вариант        Не исследовался   \n",
              "17                                     ALK позитивный        Не исследовался   \n",
              "35                                     ALK позитивный               Менее 1%   \n",
              "\n",
              "   Предпочтение пациента по ответу на терапию Ответ эксперта (Лактионов)  \\\n",
              "0                    Результативность лечения                 Дурвалумаб   \n",
              "1                    Результативность лечения                 Дурвалумаб   \n",
              "8                    Результативность лечения                 Наблюдение   \n",
              "17                   Результативность лечения                 Наблюдение   \n",
              "35                   Результативность лечения                 Наблюдение   \n",
              "\n",
              "   Поставьте галочку,если уверены на 100%  Если 75%  Если 50%  \\\n",
              "0                                    True     False     False   \n",
              "1                                    True     False     False   \n",
              "8                                    True     False     False   \n",
              "17                                   True     False     False   \n",
              "35                                   True     False     False   \n",
              "\n",
              "    Альтернатива,если 50% - обязательно Комментарий  \n",
              "0                                     0           0  \n",
              "1                                     0           0  \n",
              "8                                     0           0  \n",
              "17                                    0           0  \n",
              "35                                    0           0  \n",
              "\n",
              "[5 rows x 21 columns]"
            ]
          },
          "execution_count": 9,
          "metadata": {},
          "output_type": "execute_result"
        }
      ],
      "source": [
        "df[df['Комментарий'] == '0'].head(5)"
      ]
    },
    {
      "cell_type": "code",
      "execution_count": 10,
      "metadata": {
        "id": "qQTuq2wMePSD"
      },
      "outputs": [],
      "source": [
        "#function cretes confidence field\n",
        "def confidence(field):\n",
        "    if field['Поставьте галочку,если уверены на 100%'] == True:\n",
        "      return 1\n",
        "    if field['Если 75%'] == True:\n",
        "      return 0.75\n",
        "    if field['Если 50%'] == True:\n",
        "      return 0.5\n",
        "    else:\n",
        "        return None\n"
      ]
    },
    {
      "cell_type": "code",
      "execution_count": 11,
      "metadata": {
        "colab": {
          "base_uri": "https://localhost:8080/",
          "height": 0
        },
        "id": "RNlKv9t4guag",
        "outputId": "60e0fd59-ea6c-4ff6-c4cb-2e65e1fc229d"
      },
      "outputs": [
        {
          "data": {
            "text/html": [
              "<div>\n",
              "<style scoped>\n",
              "    .dataframe tbody tr th:only-of-type {\n",
              "        vertical-align: middle;\n",
              "    }\n",
              "\n",
              "    .dataframe tbody tr th {\n",
              "        vertical-align: top;\n",
              "    }\n",
              "\n",
              "    .dataframe thead th {\n",
              "        text-align: right;\n",
              "    }\n",
              "</style>\n",
              "<table border=\"1\" class=\"dataframe\">\n",
              "  <thead>\n",
              "    <tr style=\"text-align: right;\">\n",
              "      <th></th>\n",
              "      <th>Раса</th>\n",
              "      <th>Пол</th>\n",
              "      <th>Возраст</th>\n",
              "      <th>Статус курения</th>\n",
              "      <th>ECOG</th>\n",
              "      <th>Есть опухолевая нагрузка? (симптомная опухоль)</th>\n",
              "      <th>Ко-мутации KRAS</th>\n",
              "      <th>Ко-мутации p53.</th>\n",
              "      <th>Ко-мутации STK11</th>\n",
              "      <th>Ко-мутации KEAP1</th>\n",
              "      <th>Срок от окончания ХЛТ</th>\n",
              "      <th>Молекулярный статус (только для неплоскоклеточного рака)</th>\n",
              "      <th>PD-L1 статус</th>\n",
              "      <th>Предпочтение пациента по ответу на терапию</th>\n",
              "      <th>Ответ эксперта (Лактионов)</th>\n",
              "      <th>Уверенность</th>\n",
              "    </tr>\n",
              "  </thead>\n",
              "  <tbody>\n",
              "    <tr>\n",
              "      <th>0</th>\n",
              "      <td>Азиатская</td>\n",
              "      <td>Мужской</td>\n",
              "      <td>До 70</td>\n",
              "      <td>В настоящее время</td>\n",
              "      <td>0-1</td>\n",
              "      <td>да</td>\n",
              "      <td>да</td>\n",
              "      <td>да</td>\n",
              "      <td>да</td>\n",
              "      <td>да</td>\n",
              "      <td>до 42 дней</td>\n",
              "      <td>нет мутаций</td>\n",
              "      <td>Не исследовался</td>\n",
              "      <td>Результативность лечения</td>\n",
              "      <td>Дурвалумаб</td>\n",
              "      <td>1.00</td>\n",
              "    </tr>\n",
              "    <tr>\n",
              "      <th>1</th>\n",
              "      <td>Азиатская</td>\n",
              "      <td>Мужской</td>\n",
              "      <td>До 70</td>\n",
              "      <td>В настоящее время</td>\n",
              "      <td>0-1</td>\n",
              "      <td>да</td>\n",
              "      <td>да</td>\n",
              "      <td>да</td>\n",
              "      <td>да</td>\n",
              "      <td>да</td>\n",
              "      <td>от 43 до 60 дней</td>\n",
              "      <td>нет мутаций</td>\n",
              "      <td>Не исследовался</td>\n",
              "      <td>Результативность лечения</td>\n",
              "      <td>Дурвалумаб</td>\n",
              "      <td>1.00</td>\n",
              "    </tr>\n",
              "    <tr>\n",
              "      <th>2</th>\n",
              "      <td>Азиатская</td>\n",
              "      <td>Мужской</td>\n",
              "      <td>До 70</td>\n",
              "      <td>В настоящее время</td>\n",
              "      <td>0-1</td>\n",
              "      <td>да</td>\n",
              "      <td>да</td>\n",
              "      <td>да</td>\n",
              "      <td>да</td>\n",
              "      <td>да</td>\n",
              "      <td>более 61 дня</td>\n",
              "      <td>нет мутаций</td>\n",
              "      <td>Не исследовался</td>\n",
              "      <td>Результативность лечения</td>\n",
              "      <td>Наблюдение</td>\n",
              "      <td>0.75</td>\n",
              "    </tr>\n",
              "    <tr>\n",
              "      <th>3</th>\n",
              "      <td>Азиатская</td>\n",
              "      <td>Мужской</td>\n",
              "      <td>До 70</td>\n",
              "      <td>В настоящее время</td>\n",
              "      <td>0-1</td>\n",
              "      <td>да</td>\n",
              "      <td>да</td>\n",
              "      <td>да</td>\n",
              "      <td>да</td>\n",
              "      <td>да</td>\n",
              "      <td>до 42 дней</td>\n",
              "      <td>не исследовались</td>\n",
              "      <td>Не исследовался</td>\n",
              "      <td>Результативность лечения</td>\n",
              "      <td>Дурвалумаб</td>\n",
              "      <td>0.75</td>\n",
              "    </tr>\n",
              "    <tr>\n",
              "      <th>4</th>\n",
              "      <td>Азиатская</td>\n",
              "      <td>Мужской</td>\n",
              "      <td>До 70</td>\n",
              "      <td>В настоящее время</td>\n",
              "      <td>0-1</td>\n",
              "      <td>да</td>\n",
              "      <td>да</td>\n",
              "      <td>да</td>\n",
              "      <td>да</td>\n",
              "      <td>да</td>\n",
              "      <td>от 43 до 60 дней</td>\n",
              "      <td>не исследовались</td>\n",
              "      <td>Не исследовался</td>\n",
              "      <td>Результативность лечения</td>\n",
              "      <td>Дурвалумаб</td>\n",
              "      <td>0.75</td>\n",
              "    </tr>\n",
              "  </tbody>\n",
              "</table>\n",
              "</div>"
            ],
            "text/plain": [
              "        Раса      Пол Возраст     Статус курения ECOG  \\\n",
              "0  Азиатская  Мужской   До 70  В настоящее время  0-1   \n",
              "1  Азиатская  Мужской   До 70  В настоящее время  0-1   \n",
              "2  Азиатская  Мужской   До 70  В настоящее время  0-1   \n",
              "3  Азиатская  Мужской   До 70  В настоящее время  0-1   \n",
              "4  Азиатская  Мужской   До 70  В настоящее время  0-1   \n",
              "\n",
              "  Есть опухолевая нагрузка? (симптомная опухоль) Ко-мутации KRAS  \\\n",
              "0                                             да              да   \n",
              "1                                             да              да   \n",
              "2                                             да              да   \n",
              "3                                             да              да   \n",
              "4                                             да              да   \n",
              "\n",
              "  Ко-мутации p53. Ко-мутации STK11 Ко-мутации KEAP1 Срок от окончания ХЛТ  \\\n",
              "0              да               да               да            до 42 дней   \n",
              "1              да               да               да      от 43 до 60 дней   \n",
              "2              да               да               да          более 61 дня   \n",
              "3              да               да               да            до 42 дней   \n",
              "4              да               да               да      от 43 до 60 дней   \n",
              "\n",
              "  Молекулярный статус (только для неплоскоклеточного рака)     PD-L1 статус  \\\n",
              "0                                        нет мутаций        Не исследовался   \n",
              "1                                        нет мутаций        Не исследовался   \n",
              "2                                        нет мутаций        Не исследовался   \n",
              "3                                   не исследовались        Не исследовался   \n",
              "4                                   не исследовались        Не исследовался   \n",
              "\n",
              "  Предпочтение пациента по ответу на терапию Ответ эксперта (Лактионов)  \\\n",
              "0                   Результативность лечения                 Дурвалумаб   \n",
              "1                   Результативность лечения                 Дурвалумаб   \n",
              "2                   Результативность лечения                 Наблюдение   \n",
              "3                   Результативность лечения                 Дурвалумаб   \n",
              "4                   Результативность лечения                 Дурвалумаб   \n",
              "\n",
              "   Уверенность  \n",
              "0         1.00  \n",
              "1         1.00  \n",
              "2         0.75  \n",
              "3         0.75  \n",
              "4         0.75  "
            ]
          },
          "execution_count": 11,
          "metadata": {},
          "output_type": "execute_result"
        }
      ],
      "source": [
        "df_prepared = df.copy()\n",
        "\n",
        "# add confidency column\n",
        "df_prepared['Уверенность'] = df_prepared.apply(confidence, axis=1)\n",
        "\n",
        "# drop odd columns\n",
        "drop_column = ['id_ответа', 'Поставьте галочку,если уверены на 100%', 'Если 75%', 'Если 50%', 'Альтернатива,если 50% - обязательно', 'Комментарий']\n",
        "df_prepared = df_prepared.drop(drop_column, axis=1)\n",
        "df_prepared.head()\n",
        "\n"
      ]
    },
    {
      "cell_type": "code",
      "execution_count": 12,
      "metadata": {
        "colab": {
          "base_uri": "https://localhost:8080/",
          "height": 0
        },
        "id": "DmK-nbN2FEDy",
        "outputId": "8542a49c-54b6-4616-cc55-35fb1e488cd9"
      },
      "outputs": [
        {
          "data": {
            "text/html": [
              "<div>\n",
              "<style scoped>\n",
              "    .dataframe tbody tr th:only-of-type {\n",
              "        vertical-align: middle;\n",
              "    }\n",
              "\n",
              "    .dataframe tbody tr th {\n",
              "        vertical-align: top;\n",
              "    }\n",
              "\n",
              "    .dataframe thead th {\n",
              "        text-align: right;\n",
              "    }\n",
              "</style>\n",
              "<table border=\"1\" class=\"dataframe\">\n",
              "  <thead>\n",
              "    <tr style=\"text-align: right;\">\n",
              "      <th></th>\n",
              "      <th>Раса</th>\n",
              "      <th>Пол</th>\n",
              "      <th>Возраст</th>\n",
              "      <th>Статус курения</th>\n",
              "      <th>ECOG</th>\n",
              "      <th>Есть опухолевая нагрузка? (симптомная опухоль)</th>\n",
              "      <th>Ко-мутации KRAS</th>\n",
              "      <th>Ко-мутации p53.</th>\n",
              "      <th>Ко-мутации STK11</th>\n",
              "      <th>Ко-мутации KEAP1</th>\n",
              "      <th>Срок от окончания ХЛТ</th>\n",
              "      <th>Молекулярный статус (только для неплоскоклеточного рака)</th>\n",
              "      <th>PD-L1 статус</th>\n",
              "      <th>Предпочтение пациента по ответу на терапию</th>\n",
              "      <th>target</th>\n",
              "    </tr>\n",
              "  </thead>\n",
              "  <tbody>\n",
              "    <tr>\n",
              "      <th>0</th>\n",
              "      <td>Азиатская</td>\n",
              "      <td>Мужской</td>\n",
              "      <td>До 70</td>\n",
              "      <td>В настоящее время</td>\n",
              "      <td>0-1</td>\n",
              "      <td>да</td>\n",
              "      <td>да</td>\n",
              "      <td>да</td>\n",
              "      <td>да</td>\n",
              "      <td>да</td>\n",
              "      <td>до 42 дней</td>\n",
              "      <td>нет мутаций</td>\n",
              "      <td>Не исследовался</td>\n",
              "      <td>Результативность лечения</td>\n",
              "      <td>Дурвалумаб, уверенность -  1.0</td>\n",
              "    </tr>\n",
              "    <tr>\n",
              "      <th>1</th>\n",
              "      <td>Азиатская</td>\n",
              "      <td>Мужской</td>\n",
              "      <td>До 70</td>\n",
              "      <td>В настоящее время</td>\n",
              "      <td>0-1</td>\n",
              "      <td>да</td>\n",
              "      <td>да</td>\n",
              "      <td>да</td>\n",
              "      <td>да</td>\n",
              "      <td>да</td>\n",
              "      <td>от 43 до 60 дней</td>\n",
              "      <td>нет мутаций</td>\n",
              "      <td>Не исследовался</td>\n",
              "      <td>Результативность лечения</td>\n",
              "      <td>Дурвалумаб, уверенность -  1.0</td>\n",
              "    </tr>\n",
              "  </tbody>\n",
              "</table>\n",
              "</div>"
            ],
            "text/plain": [
              "        Раса      Пол Возраст     Статус курения ECOG  \\\n",
              "0  Азиатская  Мужской   До 70  В настоящее время  0-1   \n",
              "1  Азиатская  Мужской   До 70  В настоящее время  0-1   \n",
              "\n",
              "  Есть опухолевая нагрузка? (симптомная опухоль) Ко-мутации KRAS  \\\n",
              "0                                             да              да   \n",
              "1                                             да              да   \n",
              "\n",
              "  Ко-мутации p53. Ко-мутации STK11 Ко-мутации KEAP1 Срок от окончания ХЛТ  \\\n",
              "0              да               да               да            до 42 дней   \n",
              "1              да               да               да      от 43 до 60 дней   \n",
              "\n",
              "  Молекулярный статус (только для неплоскоклеточного рака)     PD-L1 статус  \\\n",
              "0                                        нет мутаций        Не исследовался   \n",
              "1                                        нет мутаций        Не исследовался   \n",
              "\n",
              "  Предпочтение пациента по ответу на терапию                          target  \n",
              "0                   Результативность лечения  Дурвалумаб, уверенность -  1.0  \n",
              "1                   Результативность лечения  Дурвалумаб, уверенность -  1.0  "
            ]
          },
          "execution_count": 12,
          "metadata": {},
          "output_type": "execute_result"
        }
      ],
      "source": [
        "# creating target\n",
        "df_prepared['target'] = df_prepared.iloc[:, -2:].apply(lambda x: ', уверенность -  '.join(map(str, x)), axis=1)\n",
        "df_prepared = df_prepared.drop(['Ответ эксперта (Лактионов)', 'Уверенность'], axis=1)\n",
        "df_prepared.head(2)"
      ]
    },
    {
      "cell_type": "code",
      "execution_count": 13,
      "metadata": {
        "colab": {
          "base_uri": "https://localhost:8080/"
        },
        "id": "4-6tgO5AIwRG",
        "outputId": "1b542642-ea6b-4623-ede9-eb2e102b4f52"
      },
      "outputs": [
        {
          "name": "stdout",
          "output_type": "stream",
          "text": [
            "Количество уникальных признаков в столбце \"target\": 9\n"
          ]
        }
      ],
      "source": [
        "unique_count = df_prepared['target'].nunique()\n",
        "print(f'Количество уникальных признаков в столбце \"target\": {unique_count}')\n"
      ]
    },
    {
      "cell_type": "code",
      "execution_count": 14,
      "metadata": {},
      "outputs": [
        {
          "name": "stdout",
          "output_type": "stream",
          "text": [
            "Информация о данных после One Hot Encoding:\n",
            "Количество столбцов: 15\n",
            "Уникальные значения в каждом столбце:\n",
            "Столбец 'Раса': 3 уникальных значений\n",
            "Столбец 'Пол': 2 уникальных значений\n",
            "Столбец 'Возраст': 2 уникальных значений\n",
            "Столбец 'Статус курения': 3 уникальных значений\n",
            "Столбец 'ECOG': 2 уникальных значений\n",
            "Столбец 'Есть опухолевая нагрузка? (симптомная опухоль)': 2 уникальных значений\n",
            "Столбец 'Ко-мутации KRAS': 2 уникальных значений\n",
            "Столбец 'Ко-мутации p53.': 2 уникальных значений\n",
            "Столбец 'Ко-мутации STK11': 2 уникальных значений\n",
            "Столбец 'Ко-мутации KEAP1': 2 уникальных значений\n",
            "Столбец 'Срок от окончания ХЛТ': 3 уникальных значений\n",
            "Столбец 'Молекулярный статус (только для неплоскоклеточного рака)': 6 уникальных значений\n",
            "Столбец 'PD-L1 статус': 3 уникальных значений\n",
            "Столбец 'Предпочтение пациента по ответу на терапию': 2 уникальных значений\n",
            "Столбец 'target': 9 уникальных значений\n"
          ]
        }
      ],
      "source": [
        "# Вывод информации о данных после One Hot Encoding\n",
        "print(\"Информация о данных после One Hot Encoding:\")\n",
        "print(\"Количество столбцов:\", df_prepared.shape[1])\n",
        "print(\"Уникальные значения в каждом столбце:\")\n",
        "for column in df_prepared.columns:\n",
        "    unique_values = df_prepared[column].unique()\n",
        "    num_unique_values = len(unique_values)\n",
        "    print(f\"Столбец '{column}': {num_unique_values} уникальных значений\")"
      ]
    },
    {
      "cell_type": "code",
      "execution_count": 345,
      "metadata": {
        "id": "k1dVPrWf45bL"
      },
      "outputs": [],
      "source": [
        "# import pandas as pd\n",
        "# import seaborn as sns\n",
        "# import matplotlib.pyplot as plt\n",
        "\n",
        "# # Преобразование меток классов в One-Hot Encoding\n",
        "# df_matrix = pd.get_dummies(df_prepared.iloc[:, :-1])\n",
        "\n",
        "# correlation_matrix = df_matrix.corr()\n",
        "\n",
        "# # Визуализируем матрицу корреляции с помощью Seaborn\n",
        "# plt.figure(figsize=(8, 6))\n",
        "# sns.heatmap(correlation_matrix, annot=True, cmap='coolwarm', fmt=\".2f\")\n",
        "# plt.title('Матрица корреляции')\n",
        "# plt.show()"
      ]
    },
    {
      "cell_type": "markdown",
      "metadata": {
        "id": "eSm0Iq2ZgOXy"
      },
      "source": [
        "# EDA"
      ]
    },
    {
      "cell_type": "code",
      "execution_count": 15,
      "metadata": {
        "id": "btA4tmP2gRP2"
      },
      "outputs": [],
      "source": [
        "from sklearn.preprocessing import LabelEncoder\n",
        "from sklearn.preprocessing import OneHotEncoder\n",
        "# from sklearn.preprocessing import StandardScaler\n",
        "import numpy as np"
      ]
    },
    {
      "cell_type": "code",
      "execution_count": 16,
      "metadata": {},
      "outputs": [
        {
          "data": {
            "text/html": [
              "<div>\n",
              "<style scoped>\n",
              "    .dataframe tbody tr th:only-of-type {\n",
              "        vertical-align: middle;\n",
              "    }\n",
              "\n",
              "    .dataframe tbody tr th {\n",
              "        vertical-align: top;\n",
              "    }\n",
              "\n",
              "    .dataframe thead th {\n",
              "        text-align: right;\n",
              "    }\n",
              "</style>\n",
              "<table border=\"1\" class=\"dataframe\">\n",
              "  <thead>\n",
              "    <tr style=\"text-align: right;\">\n",
              "      <th></th>\n",
              "      <th>Раса</th>\n",
              "      <th>Пол</th>\n",
              "      <th>Возраст</th>\n",
              "      <th>Статус курения</th>\n",
              "      <th>ECOG</th>\n",
              "      <th>Есть опухолевая нагрузка? (симптомная опухоль)</th>\n",
              "      <th>Ко-мутации KRAS</th>\n",
              "      <th>Ко-мутации p53.</th>\n",
              "      <th>Ко-мутации STK11</th>\n",
              "      <th>Ко-мутации KEAP1</th>\n",
              "      <th>Срок от окончания ХЛТ</th>\n",
              "      <th>Молекулярный статус (только для неплоскоклеточного рака)</th>\n",
              "      <th>PD-L1 статус</th>\n",
              "      <th>Предпочтение пациента по ответу на терапию</th>\n",
              "      <th>target</th>\n",
              "    </tr>\n",
              "  </thead>\n",
              "  <tbody>\n",
              "    <tr>\n",
              "      <th>0</th>\n",
              "      <td>Азиатская</td>\n",
              "      <td>Мужской</td>\n",
              "      <td>До 70</td>\n",
              "      <td>В настоящее время</td>\n",
              "      <td>0-1</td>\n",
              "      <td>да</td>\n",
              "      <td>да</td>\n",
              "      <td>да</td>\n",
              "      <td>да</td>\n",
              "      <td>да</td>\n",
              "      <td>до 42 дней</td>\n",
              "      <td>нет мутаций</td>\n",
              "      <td>Не исследовался</td>\n",
              "      <td>Результативность лечения</td>\n",
              "      <td>Дурвалумаб, уверенность -  1.0</td>\n",
              "    </tr>\n",
              "    <tr>\n",
              "      <th>1</th>\n",
              "      <td>Азиатская</td>\n",
              "      <td>Мужской</td>\n",
              "      <td>До 70</td>\n",
              "      <td>В настоящее время</td>\n",
              "      <td>0-1</td>\n",
              "      <td>да</td>\n",
              "      <td>да</td>\n",
              "      <td>да</td>\n",
              "      <td>да</td>\n",
              "      <td>да</td>\n",
              "      <td>от 43 до 60 дней</td>\n",
              "      <td>нет мутаций</td>\n",
              "      <td>Не исследовался</td>\n",
              "      <td>Результативность лечения</td>\n",
              "      <td>Дурвалумаб, уверенность -  1.0</td>\n",
              "    </tr>\n",
              "  </tbody>\n",
              "</table>\n",
              "</div>"
            ],
            "text/plain": [
              "        Раса      Пол Возраст     Статус курения ECOG  \\\n",
              "0  Азиатская  Мужской   До 70  В настоящее время  0-1   \n",
              "1  Азиатская  Мужской   До 70  В настоящее время  0-1   \n",
              "\n",
              "  Есть опухолевая нагрузка? (симптомная опухоль) Ко-мутации KRAS  \\\n",
              "0                                             да              да   \n",
              "1                                             да              да   \n",
              "\n",
              "  Ко-мутации p53. Ко-мутации STK11 Ко-мутации KEAP1 Срок от окончания ХЛТ  \\\n",
              "0              да               да               да            до 42 дней   \n",
              "1              да               да               да      от 43 до 60 дней   \n",
              "\n",
              "  Молекулярный статус (только для неплоскоклеточного рака)     PD-L1 статус  \\\n",
              "0                                        нет мутаций        Не исследовался   \n",
              "1                                        нет мутаций        Не исследовался   \n",
              "\n",
              "  Предпочтение пациента по ответу на терапию                          target  \n",
              "0                   Результативность лечения  Дурвалумаб, уверенность -  1.0  \n",
              "1                   Результативность лечения  Дурвалумаб, уверенность -  1.0  "
            ]
          },
          "execution_count": 16,
          "metadata": {},
          "output_type": "execute_result"
        }
      ],
      "source": [
        "df_prepared.head(2)"
      ]
    },
    {
      "cell_type": "code",
      "execution_count": 17,
      "metadata": {
        "id": "Sf9cMreIgYXZ"
      },
      "outputs": [],
      "source": [
        "X_default = df_prepared.iloc[:, :-1]  # Используем все столбцы, кроме последнего, как признаки\n",
        "y_default = df_prepared.iloc[:, -1]  # Последний столбец - целевая переменная\n",
        "# or\n",
        "# X = df_prepared.drop(['target'], axis=1)\n",
        "# y = df_prepared['target']"
      ]
    },
    {
      "cell_type": "code",
      "execution_count": 18,
      "metadata": {
        "id": "TVn6pmuEgaWl"
      },
      "outputs": [],
      "source": [
        "# Label encoding for target column (y), and then - one hot encoding for all columns\n",
        "from sklearn.preprocessing import LabelEncoder\n",
        "\n",
        "# Create the LabelEncoder instance\n",
        "encoder_lb = LabelEncoder()\n",
        "\n",
        "# Transform both the training and test labels\n",
        "# Fit the encoder to the training labels and transforming\n",
        "y = encoder_lb.fit_transform(y_default)\n",
        "\n"
      ]
    },
    {
      "cell_type": "code",
      "execution_count": 19,
      "metadata": {},
      "outputs": [],
      "source": [
        "# Сохранение LabelEncoder с помощью pickle\n",
        "# import pickle\n",
        "\n",
        "# Сохранение LabelEncoder в файл\n",
        "# with open('encoder_lb.pkl', 'wb') as file:\n",
        "#     pickle.dump(encoder_lb, file)\n",
        "\n",
        "######################################################################################\n",
        "# Загрузка LabelEncoder в Другом Notebook\n",
        "# import pickle\n",
        "\n",
        "# with open('encoder_lb.pkl', 'rb') as file:\n",
        "#     encoder_lb = pickle.load(file)\n",
        "\n",
        "# test data\n",
        "# encoder_lb.transform(y_default.iloc[5:10])\n",
        "\n",
        "######################################################################################\n",
        "# Декодирование LabelEncoder для predicts\n",
        "# from sklearn.preprocessing import LabelEncoder\n",
        "\n",
        "######################################################################################\n",
        "# Получение списка классов\n",
        "# classes = encoder_lb.classes_\n",
        "# print(\"Классы, закодированные LabelEncoder:\", classes)\n",
        "\n",
        "# decoded_labels = encoder_lb.inverse_transform([int('5')])\n",
        "# decoded_labels"
      ]
    },
    {
      "cell_type": "code",
      "execution_count": 20,
      "metadata": {
        "colab": {
          "base_uri": "https://localhost:8080/"
        },
        "id": "iX7RP6FMgUQe",
        "outputId": "38dc4b06-cfc5-44ef-b475-0e18e3dbe9e6"
      },
      "outputs": [
        {
          "name": "stderr",
          "output_type": "stream",
          "text": [
            "c:\\Users\\User\\AppData\\Local\\Programs\\Python\\Python310\\lib\\site-packages\\sklearn\\preprocessing\\_encoders.py:975: FutureWarning: `sparse` was renamed to `sparse_output` in version 1.2 and will be removed in 1.4. `sparse_output` is ignored unless you leave `sparse` to its default value.\n",
            "  warnings.warn(\n"
          ]
        }
      ],
      "source": [
        "# One hot encoding for train cloumns\n",
        "from sklearn.preprocessing import OneHotEncoder\n",
        "import numpy as np\n",
        "\n",
        "# Идентификация категориальных и числовых столбцов\n",
        "categorical_columns = X_default.select_dtypes(include=['category', 'object']).columns\n",
        "numerical_columns = X_default.select_dtypes(include=['int64', 'float64']).columns\n",
        "\n",
        "# OneHotEncoder для категориальных данных\n",
        "encoder_ohe = OneHotEncoder(sparse=False)\n",
        "X_categorical_encoded = encoder_ohe.fit_transform(X_default[categorical_columns])\n",
        "\n",
        "# Получение числовых данных из DataFrame\n",
        "X_numerical_data = df[numerical_columns].to_numpy()\n",
        "\n",
        "# Объединение числовых и закодированных категориальных данных\n",
        "final_data = np.concatenate([X_numerical_data, X_categorical_encoded], axis=1)\n",
        "\n",
        "# Преобразование X в encoded array\n",
        "X = final_data\n"
      ]
    },
    {
      "cell_type": "code",
      "execution_count": 21,
      "metadata": {},
      "outputs": [],
      "source": [
        "# Сохранение OneHotEncoder с помощью pickle\n",
        "# import pickle\n",
        "\n",
        "# Предположим, encoder_ohe - это ваш OneHotEncoder\n",
        "# with open('encoder_ohe.pkl', 'wb') as file:\n",
        "#     pickle.dump(encoder_ohe, file)\n",
        "\n",
        "######################################################################################\n",
        "# Загрузка OneHotEncoder в Другом Блокноте\n",
        "\n",
        "# import pickle\n",
        "\n",
        "# with open('encoder_ohe.pkl', 'rb') as file:\n",
        "#     encoder_ohe = pickle.load(file)\n",
        "\n",
        "# Check\n",
        "# X_categorical_encoded_test = encoder_ohe.fit_transform(X_default[categorical_columns].iloc[:5, :])\n",
        "# X_categorical_encoded_test\n"
      ]
    },
    {
      "cell_type": "markdown",
      "metadata": {
        "id": "eBryLjvZIw0G"
      },
      "source": [
        "# Tensorflow keras classification preparation\n",
        "\n",
        "---\n",
        "\n"
      ]
    },
    {
      "cell_type": "code",
      "execution_count": 353,
      "metadata": {
        "id": "RgKFjeUBfiCh"
      },
      "outputs": [],
      "source": [
        "# pip install tensorflow"
      ]
    },
    {
      "cell_type": "code",
      "execution_count": 354,
      "metadata": {
        "id": "S-CJWWZFIm6r"
      },
      "outputs": [],
      "source": [
        "import tensorflow as tf\n",
        "from tensorflow.keras.models import Sequential\n",
        "from tensorflow.keras.layers import Dense, Flatten, Conv2D, MaxPooling2D, Dropout\n"
      ]
    },
    {
      "cell_type": "code",
      "execution_count": 355,
      "metadata": {
        "colab": {
          "base_uri": "https://localhost:8080/"
        },
        "id": "m8yRc2D1JN4h",
        "outputId": "183b83f6-54b0-4e02-b8a4-a77f75d46ca2"
      },
      "outputs": [],
      "source": [
        "#Feature selection\n",
        "\n",
        "# from sklearn.feature_selection import SelectKBest\n",
        "# from sklearn.feature_selection import chi2\n",
        "\n",
        "# #apply SelectKBest class to extract top 10 best features\n",
        "# bestfeatures = SelectKBest(score_func=chi2, k=10)\n",
        "# fit = bestfeatures.fit(X_default,y_default)\n",
        "# dfscores = pd.DataFrame(fit.scores_)\n",
        "# dfcolumns = pd.DataFrame(X_default.columns)\n",
        "# #concat two dataframes for better visualization\n",
        "# featureScores = pd.concat([dfcolumns,dfscores],axis=1)\n",
        "# featureScores.columns = ['Specs','Score']  #naming the dataframe columns\n",
        "# print(featureScores.nlargest(14,'Score'))  #print 10 best features"
      ]
    },
    {
      "cell_type": "code",
      "execution_count": 356,
      "metadata": {
        "id": "_0HqNNH_MR1k"
      },
      "outputs": [],
      "source": [
        "# X = X[featureScores.iloc[:, 0]]"
      ]
    },
    {
      "cell_type": "code",
      "execution_count": 357,
      "metadata": {
        "id": "HBAS9x_9KNWm"
      },
      "outputs": [],
      "source": [
        "import tensorflow as tf\n",
        "from tensorflow.keras.models import Sequential\n",
        "from tensorflow.keras.layers import Dense, Dropout\n",
        "import pandas as pd\n",
        "from sklearn.model_selection import train_test_split\n",
        "from sklearn.preprocessing import StandardScaler\n"
      ]
    },
    {
      "cell_type": "code",
      "execution_count": 358,
      "metadata": {
        "id": "5db_KC9lKT16"
      },
      "outputs": [],
      "source": [
        "# One-Hot Encoding для y_train после labelencoding:\n",
        "from tensorflow.keras.utils import to_categorical\n",
        "\n",
        "y = to_categorical(y, num_classes=9)\n",
        "\n"
      ]
    },
    {
      "cell_type": "code",
      "execution_count": 359,
      "metadata": {},
      "outputs": [],
      "source": [
        "from sklearn.model_selection import train_test_split\n",
        "# X = df_prepared.drop(['target'], axis=1)\n",
        "# y = df_prepared['target']\n",
        "X_train, X_test, y_train, y_test = train_test_split(X, y, train_size=0.8, random_state=1234)"
      ]
    },
    {
      "cell_type": "markdown",
      "metadata": {
        "id": "VnSx9PYLec8a"
      },
      "source": [
        "# experiment #1"
      ]
    },
    {
      "cell_type": "code",
      "execution_count": 368,
      "metadata": {
        "id": "boM1OaZeehCi"
      },
      "outputs": [],
      "source": [
        "# Create the Model\n",
        "model = Sequential([\n",
        "    Dense(128, activation='relu', input_shape=(X_train.shape[1],)),\n",
        "    Dropout(0.5),\n",
        "    Dense(64, activation='relu'),\n",
        "    Dropout(0.5),\n",
        "    Dense(9, activation='softmax')  # 'sigmoid' or 'softmax' for multi-class classification\n",
        "])\n"
      ]
    },
    {
      "cell_type": "code",
      "execution_count": 369,
      "metadata": {
        "id": "sWlA0L7de9D4"
      },
      "outputs": [],
      "source": [
        "# Compile the Model\n",
        "model.compile(optimizer='adam', loss='categorical_crossentropy', metrics=['accuracy'])  # Use 'categorical_crossentropy' for multi-class\n"
      ]
    },
    {
      "cell_type": "code",
      "execution_count": 370,
      "metadata": {
        "colab": {
          "base_uri": "https://localhost:8080/"
        },
        "id": "9njGC1pre-pI",
        "outputId": "0ccb62f8-c1b5-49cb-bd38-e15add7aa796"
      },
      "outputs": [
        {
          "name": "stdout",
          "output_type": "stream",
          "text": [
            "Epoch 1/10\n",
            "4977/4977 [==============================] - 10s 2ms/step - loss: 0.2675 - accuracy: 0.9084 - val_loss: 6.5289e-04 - val_accuracy: 1.0000\n",
            "Epoch 2/10\n",
            "4977/4977 [==============================] - 9s 2ms/step - loss: 0.0267 - accuracy: 0.9916 - val_loss: 1.2590e-04 - val_accuracy: 1.0000\n",
            "Epoch 3/10\n",
            "4977/4977 [==============================] - 10s 2ms/step - loss: 0.0156 - accuracy: 0.9950 - val_loss: 1.8157e-05 - val_accuracy: 1.0000\n",
            "Epoch 4/10\n",
            "4977/4977 [==============================] - 10s 2ms/step - loss: 0.0119 - accuracy: 0.9958 - val_loss: 5.4782e-06 - val_accuracy: 1.0000\n",
            "Epoch 5/10\n",
            "4977/4977 [==============================] - 10s 2ms/step - loss: 0.0109 - accuracy: 0.9965 - val_loss: 1.2170e-05 - val_accuracy: 1.0000\n",
            "Epoch 6/10\n",
            "4977/4977 [==============================] - 10s 2ms/step - loss: 0.0101 - accuracy: 0.9966 - val_loss: 5.4871e-06 - val_accuracy: 1.0000\n",
            "Epoch 7/10\n",
            "4977/4977 [==============================] - 10s 2ms/step - loss: 0.0093 - accuracy: 0.9968 - val_loss: 1.9606e-06 - val_accuracy: 1.0000\n",
            "Epoch 8/10\n",
            "4977/4977 [==============================] - 10s 2ms/step - loss: 0.0083 - accuracy: 0.9973 - val_loss: 1.3950e-06 - val_accuracy: 1.0000\n",
            "Epoch 9/10\n",
            "4977/4977 [==============================] - 10s 2ms/step - loss: 0.0083 - accuracy: 0.9973 - val_loss: 1.3520e-06 - val_accuracy: 1.0000\n",
            "Epoch 10/10\n",
            "4977/4977 [==============================] - 10s 2ms/step - loss: 0.0087 - accuracy: 0.9972 - val_loss: 6.6363e-07 - val_accuracy: 1.0000\n"
          ]
        },
        {
          "data": {
            "text/plain": [
              "<keras.src.callbacks.History at 0x1f4a59f2fe0>"
            ]
          },
          "execution_count": 370,
          "metadata": {},
          "output_type": "execute_result"
        }
      ],
      "source": [
        "# Train the Model\n",
        "model.fit(X_train, y_train, epochs=10, batch_size=32, validation_split=0.2)\n"
      ]
    },
    {
      "cell_type": "code",
      "execution_count": 371,
      "metadata": {
        "colab": {
          "base_uri": "https://localhost:8080/"
        },
        "id": "lekI3qM9fAYO",
        "outputId": "09d3d3ac-7ffa-48f6-96c2-5f16513b8162"
      },
      "outputs": [
        {
          "name": "stdout",
          "output_type": "stream",
          "text": [
            "1556/1556 [==============================] - 2s 1ms/step - loss: 6.4313e-07 - accuracy: 1.0000\n",
            "Test Accuracy:  1.0\n"
          ]
        }
      ],
      "source": [
        "# Evaluate the Model:\n",
        "loss, accuracy = model.evaluate(X_test, y_test)\n",
        "print(\"Test Accuracy: \", accuracy)"
      ]
    },
    {
      "cell_type": "markdown",
      "metadata": {},
      "source": [
        "# Applying results Exp 1"
      ]
    },
    {
      "cell_type": "code",
      "execution_count": 372,
      "metadata": {},
      "outputs": [
        {
          "data": {
            "text/plain": [
              "array(['Дурвалумаб, уверенность -  1.0'], dtype=object)"
            ]
          },
          "execution_count": 372,
          "metadata": {},
          "output_type": "execute_result"
        }
      ],
      "source": [
        "import numpy as np\n",
        "\n",
        "# Предположим, y_one_hot - это ваши данные в формате one-hot encoding\n",
        "y_classes = np.argmax(predictions, axis=1)\n",
        "# print(f'Предсказание модели: {labels[idx]} ({round(pred.max()*100,2)}%)')\n",
        "\n",
        "decoded_classes = encoder_lb.inverse_transform(y_classes)\n",
        "decoded_classes\n",
        "\n"
      ]
    },
    {
      "cell_type": "code",
      "execution_count": 373,
      "metadata": {},
      "outputs": [
        {
          "name": "stderr",
          "output_type": "stream",
          "text": [
            "c:\\Users\\User\\AppData\\Local\\Programs\\Python\\Python310\\lib\\site-packages\\keras\\src\\engine\\training.py:3079: UserWarning: You are saving your model as an HDF5 file via `model.save()`. This file format is considered legacy. We recommend using instead the native Keras format, e.g. `model.save('my_model.keras')`.\n",
            "  saving_api.save_model(\n"
          ]
        }
      ],
      "source": [
        "# Сохранение модели\n",
        "model.save('mnic_model_keras.h5')\n",
        "\n",
        "# json_string = model.to_json()  # Сохранение архитектуры модели в JSON"
      ]
    },
    {
      "cell_type": "code",
      "execution_count": 82,
      "metadata": {},
      "outputs": [],
      "source": [
        "# Загрузка модели\n",
        "from tensorflow.keras.models import load_model\n",
        "\n",
        "model = load_model('mnic_model_keras.h5')  # Загрузка всей модели"
      ]
    },
    {
      "cell_type": "code",
      "execution_count": 97,
      "metadata": {},
      "outputs": [
        {
          "name": "stderr",
          "output_type": "stream",
          "text": [
            "C:\\Users\\User\\AppData\\Local\\Temp\\ipykernel_5776\\816639737.py:15: FutureWarning: DataFrame.applymap has been deprecated. Use DataFrame.map instead.\n",
            "  user_choice = user_choice.applymap(lambda x: str(x) if isinstance(x, (int, float)) else x)\n"
          ]
        },
        {
          "data": {
            "text/plain": [
              "array([[1., 0., 0., 0., 1., 0., 1., 1., 0., 0., 0., 1., 1., 0., 1., 0.,\n",
              "        1., 0., 1., 0., 1., 0., 0., 1., 0., 0., 0., 0., 0., 0., 1., 0.,\n",
              "        0., 1., 1., 0.]])"
            ]
          },
          "execution_count": 97,
          "metadata": {},
          "output_type": "execute_result"
        }
      ],
      "source": [
        "import numpy as np\n",
        "import pandas as pd\n",
        "import pickle\n",
        "\n",
        "\n",
        "\n",
        "# Get OHE enceder\n",
        "with open('encoder_ohe.pkl', 'rb') as file:\n",
        "    encoder_ohe = pickle.load(file)\n",
        "\n",
        "\n",
        "user_choice = pd.read_csv('user_choice.csv', sep=',', engine='python')\n",
        "\n",
        "# Преобразование всех числовых полей в строки ECOG принимает 2 или 0-1 значения\n",
        "user_choice = user_choice.applymap(lambda x: str(x) if isinstance(x, (int, float)) else x)\n",
        "\n",
        "# user_choice.info()\n",
        "# user_choice\n",
        "X_unseen_encoded = encoder_ohe.transform(user_choice)\n",
        "X_unseen_encoded"
      ]
    },
    {
      "cell_type": "code",
      "execution_count": 98,
      "metadata": {},
      "outputs": [
        {
          "name": "stdout",
          "output_type": "stream",
          "text": [
            "1/1 [==============================] - 0s 24ms/step\n"
          ]
        },
        {
          "data": {
            "text/plain": [
              "array([[0.0000000e+00, 0.0000000e+00, 1.3568811e-12, 1.0000000e+00,\n",
              "        3.5884720e-20, 1.1948610e-34, 0.0000000e+00, 1.6480057e-21,\n",
              "        1.1211035e-33]], dtype=float32)"
            ]
          },
          "execution_count": 98,
          "metadata": {},
          "output_type": "execute_result"
        }
      ],
      "source": [
        "predictions = model.predict(X_unseen_encoded)\n",
        "predictions\n",
        "\n",
        "\n"
      ]
    },
    {
      "cell_type": "code",
      "execution_count": 105,
      "metadata": {},
      "outputs": [
        {
          "data": {
            "text/plain": [
              "'Дурвалумаб, уверенность -  1.0'"
            ]
          },
          "execution_count": 105,
          "metadata": {},
          "output_type": "execute_result"
        }
      ],
      "source": [
        "# Загрузка LabelEncoder в Другом Notebook\n",
        "import pickle\n",
        "\n",
        "with open('encoder_lb.pkl', 'rb') as file:\n",
        "    encoder_lb = pickle.load(file)\n",
        "\n",
        "# Расшифровка предсказания нейросети\n",
        "y_classes = np.argmax(predictions, axis=1)\n",
        "\n",
        "decoded_classes = encoder_lb.inverse_transform(y_classes)\n",
        "decoded_classes[0]\n"
      ]
    },
    {
      "cell_type": "markdown",
      "metadata": {
        "id": "gwGU0gKViy6n"
      },
      "source": [
        "# Experiment #2"
      ]
    },
    {
      "cell_type": "code",
      "execution_count": null,
      "metadata": {
        "colab": {
          "base_uri": "https://localhost:8080/"
        },
        "id": "OunpxjwRi4yF",
        "outputId": "f2bcbf1c-7cb6-4473-e8a8-ae201b8b834b"
      },
      "outputs": [
        {
          "name": "stdout",
          "output_type": "stream",
          "text": [
            "Epoch 1/5\n",
            "4355/4355 [==============================] - 23s 5ms/step - loss: 0.3218 - accuracy: 0.8859 - val_loss: 8.2732e-04 - val_accuracy: 1.0000\n",
            "Epoch 2/5\n",
            "4355/4355 [==============================] - 20s 5ms/step - loss: 0.0399 - accuracy: 0.9885 - val_loss: 4.3906e-05 - val_accuracy: 1.0000\n",
            "Epoch 3/5\n",
            "4355/4355 [==============================] - 20s 5ms/step - loss: 0.0255 - accuracy: 0.9927 - val_loss: 5.0008e-06 - val_accuracy: 1.0000\n",
            "Epoch 4/5\n",
            "4355/4355 [==============================] - 21s 5ms/step - loss: 0.0219 - accuracy: 0.9938 - val_loss: 2.4349e-06 - val_accuracy: 1.0000\n",
            "Epoch 5/5\n",
            "4355/4355 [==============================] - 15s 4ms/step - loss: 0.0199 - accuracy: 0.9947 - val_loss: 1.1311e-05 - val_accuracy: 1.0000\n",
            "2333/2333 [==============================] - 4s 2ms/step - loss: 1.0724e-05 - accuracy: 1.0000\n",
            "Test Accuracy:  1.0\n",
            "2333/2333 [==============================] - 4s 2ms/step\n"
          ]
        }
      ],
      "source": [
        "# Create the Model\n",
        "model2 = Sequential([\n",
        "    Dense(128, activation='relu', input_shape=(X_train.shape[1],)),\n",
        "    Dropout(0.5),\n",
        "    Dense(128, activation='relu'),\n",
        "    Dropout(0.5),\n",
        "    Dense(64, activation='relu'),\n",
        "    Dropout(0.5),\n",
        "    Dense(9, activation='softmax')\n",
        "])\n",
        "\n",
        "\n",
        "# Compile the Model\n",
        "model2.compile(optimizer='adam', loss='categorical_crossentropy', metrics=['accuracy'])  # Use 'categorical_crossentropy' for multi-class\n",
        "\n",
        "# Train the Model\n",
        "model2.fit(X_train, y_train, epochs=5, batch_size=32, validation_split=0.2)\n",
        "\n",
        "# Evaluate the Model:\n",
        "loss, accuracy = model2.evaluate(X_test, y_test)\n",
        "print(\"Test Accuracy: \", accuracy)\n",
        "\n",
        "# Make Predictions:\n",
        "predictions = model2.predict(X_test)"
      ]
    },
    {
      "cell_type": "markdown",
      "metadata": {
        "id": "pLsKutM9jZTz"
      },
      "source": [
        "# Experiment #3"
      ]
    },
    {
      "cell_type": "code",
      "execution_count": null,
      "metadata": {
        "colab": {
          "base_uri": "https://localhost:8080/"
        },
        "id": "aLABgs-ki40V",
        "outputId": "1c4fc6c8-1dfc-45b5-c705-68db67f0313f"
      },
      "outputs": [
        {
          "name": "stdout",
          "output_type": "stream",
          "text": [
            "Epoch 1/5\n",
            "4355/4355 [==============================] - 16s 3ms/step - loss: 0.0604 - accuracy: 0.9054 - val_loss: 7.4561e-04 - val_accuracy: 1.0000\n",
            "Epoch 2/5\n",
            "4355/4355 [==============================] - 16s 4ms/step - loss: 0.0105 - accuracy: 0.9918 - val_loss: 1.4561e-04 - val_accuracy: 1.0000\n",
            "Epoch 3/5\n",
            "4355/4355 [==============================] - 13s 3ms/step - loss: 0.0071 - accuracy: 0.9950 - val_loss: 5.9764e-05 - val_accuracy: 1.0000\n",
            "Epoch 4/5\n",
            "4355/4355 [==============================] - 13s 3ms/step - loss: 0.0060 - accuracy: 0.9960 - val_loss: 3.0344e-05 - val_accuracy: 1.0000\n",
            "Epoch 5/5\n",
            "4355/4355 [==============================] - 12s 3ms/step - loss: 0.0055 - accuracy: 0.9965 - val_loss: 2.0576e-05 - val_accuracy: 1.0000\n",
            "2333/2333 [==============================] - 5s 2ms/step - loss: 2.0494e-05 - accuracy: 1.0000\n",
            "Test Accuracy:  1.0\n",
            "2333/2333 [==============================] - 3s 1ms/step\n"
          ]
        }
      ],
      "source": [
        "from tensorflow.keras.layers import LeakyReLU\n",
        "# Create the Model\n",
        "model = Sequential([\n",
        "    Dense(128, input_shape=(X_train.shape[1],)),\n",
        "    LeakyReLU(alpha=0.01),\n",
        "    Dropout(0.5),\n",
        "    Dense(64),\n",
        "    LeakyReLU(alpha=0.01),\n",
        "    Dropout(0.5),\n",
        "    Dense(9, activation='softmax')\n",
        "])\n",
        "\n",
        "# Compile the Model\n",
        "model.compile(optimizer='rmsprop', loss='binary_crossentropy', metrics=['accuracy'])\n",
        "\n",
        "# Train the Model\n",
        "model.fit(X_train, y_train, epochs=5, batch_size=32, validation_split=0.2)\n",
        "\n",
        "# Evaluate the Model:\n",
        "loss, accuracy = model.evaluate(X_test, y_test)\n",
        "print(\"Test Accuracy: \", accuracy)\n",
        "\n",
        "# Make Predictions:\n",
        "predictions = model.predict(X_test)"
      ]
    },
    {
      "cell_type": "markdown",
      "metadata": {
        "id": "FGX5JPKkj6QW"
      },
      "source": [
        "# Experiment #4 (Weak, 5 epochs)"
      ]
    },
    {
      "cell_type": "code",
      "execution_count": null,
      "metadata": {
        "colab": {
          "base_uri": "https://localhost:8080/"
        },
        "id": "lzUu-H-5i42t",
        "outputId": "bab0994b-1710-402b-b2cc-908fed584d9b"
      },
      "outputs": [
        {
          "name": "stdout",
          "output_type": "stream",
          "text": [
            "Epoch 1/5\n",
            "4355/4355 [==============================] - 17s 3ms/step - loss: 0.1095 - mse: 0.1095 - val_loss: 0.0887 - val_mse: 0.0887\n",
            "Epoch 2/5\n",
            "4355/4355 [==============================] - 14s 3ms/step - loss: 0.0876 - mse: 0.0876 - val_loss: 0.0662 - val_mse: 0.0662\n",
            "Epoch 3/5\n",
            "4355/4355 [==============================] - 14s 3ms/step - loss: 0.0712 - mse: 0.0712 - val_loss: 0.0530 - val_mse: 0.0530\n",
            "Epoch 4/5\n",
            "4355/4355 [==============================] - 14s 3ms/step - loss: 0.0608 - mse: 0.0608 - val_loss: 0.0441 - val_mse: 0.0441\n",
            "Epoch 5/5\n",
            "4355/4355 [==============================] - 15s 4ms/step - loss: 0.0527 - mse: 0.0527 - val_loss: 0.0373 - val_mse: 0.0373\n",
            "2333/2333 [==============================] - 4s 2ms/step - loss: 0.0375 - mse: 0.0375\n",
            "Test Accuracy:  0.03750228136777878\n",
            "2333/2333 [==============================] - 4s 2ms/step\n"
          ]
        }
      ],
      "source": [
        "from tensorflow.keras.layers import BatchNormalization\n",
        "\n",
        "# Create the Model\n",
        "model = Sequential([\n",
        "    Dense(128, activation='relu', input_shape=(X_train.shape[1],)),\n",
        "    BatchNormalization(),\n",
        "    Dropout(0.2),\n",
        "    Dense(64, activation='relu'),\n",
        "    BatchNormalization(),\n",
        "    Dropout(0.2),\n",
        "    Dense(9, activation='softmax')\n",
        "])\n",
        "\n",
        "# Compile the Model\n",
        "model.compile(optimizer='adagrad', loss='mean_squared_error', metrics=['mse'])\n",
        "\n",
        "# Train the Model\n",
        "model.fit(X_train, y_train, epochs=5, batch_size=32, validation_split=0.2)\n",
        "\n",
        "# Evaluate the Model:\n",
        "loss, accuracy = model.evaluate(X_test, y_test)\n",
        "print(\"Test Accuracy: \", accuracy)\n",
        "\n",
        "# Make Predictions:\n",
        "predictions = model.predict(X_test)"
      ]
    },
    {
      "cell_type": "markdown",
      "metadata": {
        "id": "SNwrhvplj7qa"
      },
      "source": [
        "# Experiment #5"
      ]
    },
    {
      "cell_type": "code",
      "execution_count": null,
      "metadata": {
        "colab": {
          "base_uri": "https://localhost:8080/"
        },
        "id": "tkOIRPVzi45K",
        "outputId": "eb43012f-abe9-44d2-84ae-51cb49215739"
      },
      "outputs": [
        {
          "name": "stdout",
          "output_type": "stream",
          "text": [
            "Epoch 1/5\n",
            "4355/4355 [==============================] - 21s 5ms/step - loss: 0.4963 - accuracy: 0.8282 - val_loss: 0.0556 - val_accuracy: 0.9980\n",
            "Epoch 2/5\n",
            "4355/4355 [==============================] - 18s 4ms/step - loss: 0.1311 - accuracy: 0.9577 - val_loss: 0.0084 - val_accuracy: 1.0000\n",
            "Epoch 3/5\n",
            "4355/4355 [==============================] - 18s 4ms/step - loss: 0.0739 - accuracy: 0.9772 - val_loss: 0.0024 - val_accuracy: 1.0000\n",
            "Epoch 4/5\n",
            "4355/4355 [==============================] - 15s 3ms/step - loss: 0.0510 - accuracy: 0.9844 - val_loss: 9.9665e-04 - val_accuracy: 1.0000\n",
            "Epoch 5/5\n",
            "4355/4355 [==============================] - 14s 3ms/step - loss: 0.0407 - accuracy: 0.9879 - val_loss: 5.3016e-04 - val_accuracy: 1.0000\n",
            "2333/2333 [==============================] - 4s 2ms/step - loss: 5.3446e-04 - accuracy: 1.0000\n",
            "Test Accuracy:  1.0\n",
            "2333/2333 [==============================] - 4s 2ms/step\n"
          ]
        }
      ],
      "source": [
        "# Create the Model\n",
        "model = Sequential([\n",
        "    Dense(128, activation='tanh', input_shape=(X_train.shape[1],)),\n",
        "    Dropout(0.5),\n",
        "    Dense(64, activation='tanh'),\n",
        "    Dropout(0.5),\n",
        "    Dense(9, activation='softmax')\n",
        "])\n",
        "\n",
        "# Compile the Model\n",
        "model.compile(optimizer='adamax', loss='kullback_leibler_divergence', metrics=['accuracy'])\n",
        "\n",
        "# Train the Model\n",
        "model.fit(X_train, y_train, epochs=5, batch_size=32, validation_split=0.2)\n",
        "\n",
        "# Evaluate the Model:\n",
        "loss, accuracy = model.evaluate(X_test, y_test)\n",
        "print(\"Test Accuracy: \", accuracy)\n",
        "\n",
        "# Make Predictions:\n",
        "predictions = model.predict(X_test)"
      ]
    },
    {
      "cell_type": "markdown",
      "metadata": {
        "id": "7nHavOghj88G"
      },
      "source": [
        "# Experiment #6 (WEAK)"
      ]
    },
    {
      "cell_type": "code",
      "execution_count": null,
      "metadata": {
        "colab": {
          "base_uri": "https://localhost:8080/"
        },
        "id": "KkBMDPY_i_oY",
        "outputId": "ae6685a1-b187-4186-b298-c07498ec4fdd"
      },
      "outputs": [
        {
          "name": "stdout",
          "output_type": "stream",
          "text": [
            "Epoch 1/5\n",
            "4355/4355 [==============================] - 61s 5ms/step - loss: 0.0850 - mae: 0.0850 - val_loss: 0.0530 - val_mae: 0.0530\n",
            "Epoch 2/5\n",
            "4355/4355 [==============================] - 22s 5ms/step - loss: 0.0454 - mae: 0.0454 - val_loss: 0.0239 - val_mae: 0.0239\n",
            "Epoch 3/5\n",
            "4355/4355 [==============================] - 23s 5ms/step - loss: 0.0276 - mae: 0.0276 - val_loss: 0.0224 - val_mae: 0.0224\n",
            "Epoch 4/5\n",
            "4355/4355 [==============================] - 22s 5ms/step - loss: 0.0252 - mae: 0.0252 - val_loss: 0.0224 - val_mae: 0.0224\n",
            "Epoch 5/5\n",
            "4355/4355 [==============================] - 22s 5ms/step - loss: 0.0250 - mae: 0.0250 - val_loss: 0.0224 - val_mae: 0.0224\n",
            "2333/2333 [==============================] - 4s 2ms/step - loss: 0.0228 - mae: 0.0228\n",
            "Test Accuracy:  0.022784821689128876\n",
            "2333/2333 [==============================] - 4s 2ms/step\n"
          ]
        }
      ],
      "source": [
        "# Create the Model\n",
        "model = Sequential([\n",
        "    Dense(256, activation='relu', input_shape=(X_train.shape[1],)),\n",
        "    Dropout(0.5),\n",
        "    Dense(128, activation='relu'),\n",
        "    Dropout(0.5),\n",
        "    Dense(64, activation='relu'),\n",
        "    Dropout(0.5),\n",
        "    Dense(32, activation='relu'),\n",
        "    Dropout(0.5),\n",
        "    Dense(9, activation='softmax')\n",
        "])\n",
        "\n",
        "# Compile the Model\n",
        "model.compile(optimizer='nadam', loss='mean_absolute_error', metrics=['mae'])\n",
        "\n",
        "# Train the Model\n",
        "model.fit(X_train, y_train, epochs=5, batch_size=32, validation_split=0.2)\n",
        "\n",
        "# Evaluate the Model:\n",
        "loss, accuracy = model.evaluate(X_test, y_test)\n",
        "print(\"Test Accuracy: \", accuracy)\n",
        "\n",
        "# Make Predictions:\n",
        "predictions = model.predict(X_test)"
      ]
    },
    {
      "cell_type": "markdown",
      "metadata": {
        "id": "am-_i3Nnj-Ff"
      },
      "source": [
        "# Experiment #7"
      ]
    },
    {
      "cell_type": "code",
      "execution_count": null,
      "metadata": {
        "colab": {
          "base_uri": "https://localhost:8080/"
        },
        "id": "cKxnNFLNj-_P",
        "outputId": "c743f633-8d37-4d8b-e7fb-0dcce1ea8435"
      },
      "outputs": [
        {
          "name": "stderr",
          "output_type": "stream",
          "text": [
            "/usr/local/lib/python3.10/dist-packages/keras/optimizers/legacy/gradient_descent.py:114: UserWarning: The `lr` argument is deprecated, use `learning_rate` instead.\n",
            "  super().__init__(name, **kwargs)\n"
          ]
        },
        {
          "name": "stdout",
          "output_type": "stream",
          "text": [
            "Epoch 1/5\n",
            "4355/4355 [==============================] - 14s 3ms/step - loss: 0.0775 - accuracy: 0.9754 - val_loss: 2.5354e-04 - val_accuracy: 1.0000\n",
            "Epoch 2/5\n",
            "4355/4355 [==============================] - 15s 3ms/step - loss: 0.0049 - accuracy: 0.9989 - val_loss: 4.8165e-05 - val_accuracy: 1.0000\n",
            "Epoch 3/5\n",
            "4355/4355 [==============================] - 12s 3ms/step - loss: 0.0029 - accuracy: 0.9993 - val_loss: 2.1976e-05 - val_accuracy: 1.0000\n",
            "Epoch 4/5\n",
            "4355/4355 [==============================] - 13s 3ms/step - loss: 0.0021 - accuracy: 0.9996 - val_loss: 1.5024e-05 - val_accuracy: 1.0000\n",
            "Epoch 5/5\n",
            "4355/4355 [==============================] - 13s 3ms/step - loss: 0.0014 - accuracy: 0.9998 - val_loss: 4.0982e-06 - val_accuracy: 1.0000\n",
            "2333/2333 [==============================] - 4s 2ms/step - loss: 4.1204e-06 - accuracy: 1.0000\n",
            "Test Accuracy:  1.0\n",
            "2333/2333 [==============================] - 4s 2ms/step\n"
          ]
        }
      ],
      "source": [
        "from tensorflow.keras.optimizers import legacy\n",
        "\n",
        "# Create the Model\n",
        "model = Sequential([\n",
        "    Dense(128, activation='elu', input_shape=(X_train.shape[1],)),\n",
        "    Dense(64, activation='elu'),\n",
        "    Dropout(0.5),\n",
        "    Dense(9, activation='softmax')\n",
        "])\n",
        "\n",
        "# Compile the Model\n",
        "optimizer = legacy.SGD(lr=0.01, momentum=0.9, decay=1e-6)\n",
        "model.compile(optimizer=optimizer, loss='categorical_crossentropy', metrics=['accuracy'])\n",
        "\n",
        "# Train the Model\n",
        "model.fit(X_train, y_train, epochs=5, batch_size=32, validation_split=0.2)\n",
        "\n",
        "# Evaluate the Model:\n",
        "loss, accuracy = model.evaluate(X_test, y_test)\n",
        "print(\"Test Accuracy: \", accuracy)\n",
        "\n",
        "# Make Predictions:\n",
        "predictions = model.predict(X_test)"
      ]
    },
    {
      "cell_type": "markdown",
      "metadata": {
        "id": "X09_w7Amj_IL"
      },
      "source": [
        "# Experiment #8 (WEAK)"
      ]
    },
    {
      "cell_type": "code",
      "execution_count": null,
      "metadata": {
        "colab": {
          "base_uri": "https://localhost:8080/"
        },
        "id": "QvAGMhGjj_8Z",
        "outputId": "a3cd4803-e256-4672-83c6-e4c65e4c8a88"
      },
      "outputs": [
        {
          "name": "stdout",
          "output_type": "stream",
          "text": [
            "Epoch 1/5\n",
            "4355/4355 [==============================] - 16s 3ms/step - loss: 0.0600 - mae: 0.1967 - val_loss: 0.0503 - val_mae: 0.1946\n",
            "Epoch 2/5\n",
            "4355/4355 [==============================] - 13s 3ms/step - loss: 0.0592 - mae: 0.1952 - val_loss: 0.0489 - val_mae: 0.1918\n",
            "Epoch 3/5\n",
            "4355/4355 [==============================] - 13s 3ms/step - loss: 0.0583 - mae: 0.1936 - val_loss: 0.0475 - val_mae: 0.1886\n",
            "Epoch 4/5\n",
            "4355/4355 [==============================] - 16s 4ms/step - loss: 0.0573 - mae: 0.1914 - val_loss: 0.0460 - val_mae: 0.1852\n",
            "Epoch 5/5\n",
            "4355/4355 [==============================] - 14s 3ms/step - loss: 0.0563 - mae: 0.1893 - val_loss: 0.0445 - val_mae: 0.1816\n",
            "2333/2333 [==============================] - 5s 2ms/step - loss: 0.0446 - mae: 0.1818\n",
            "Test Accuracy:  0.18179379403591156\n",
            "2333/2333 [==============================] - 4s 2ms/step\n"
          ]
        }
      ],
      "source": [
        "# Create the Model\n",
        "model = Sequential([\n",
        "    Dense(128, activation='selu', input_shape=(X_train.shape[1],)),\n",
        "    Dropout(0.5),\n",
        "    Dense(64, activation='selu'),\n",
        "    Dropout(0.5),\n",
        "    Dense(9, activation='softmax')\n",
        "])\n",
        "\n",
        "# Compile the Model\n",
        "model.compile(optimizer='adadelta', loss='logcosh', metrics=['mae'])\n",
        "\n",
        "# Train the Model\n",
        "model.fit(X_train, y_train, epochs=5, batch_size=32, validation_split=0.2)\n",
        "\n",
        "# Evaluate the Model:\n",
        "loss, accuracy = model.evaluate(X_test, y_test)\n",
        "print(\"Test Accuracy: \", accuracy)\n",
        "\n",
        "# Make Predictions:\n",
        "predictions = model.predict(X_test)"
      ]
    },
    {
      "cell_type": "markdown",
      "metadata": {
        "id": "j0mErQiTkAGU"
      },
      "source": [
        "# Experiment #9 (WEAK)"
      ]
    },
    {
      "cell_type": "code",
      "execution_count": null,
      "metadata": {
        "colab": {
          "base_uri": "https://localhost:8080/"
        },
        "id": "dHZOpHCokA3x",
        "outputId": "defc3bf1-f1c9-4087-d74e-c30801649af0"
      },
      "outputs": [
        {
          "name": "stdout",
          "output_type": "stream",
          "text": [
            "Epoch 1/5\n",
            "4355/4355 [==============================] - 19s 4ms/step - loss: 0.3530 - accuracy: 0.3062 - val_loss: 0.3515 - val_accuracy: 0.3070\n",
            "Epoch 2/5\n",
            "4355/4355 [==============================] - 16s 4ms/step - loss: 0.3505 - accuracy: 0.3062 - val_loss: 0.3496 - val_accuracy: 0.3070\n",
            "Epoch 3/5\n",
            "4355/4355 [==============================] - 14s 3ms/step - loss: 0.3489 - accuracy: 0.3062 - val_loss: 0.3482 - val_accuracy: 0.3070\n",
            "Epoch 4/5\n",
            "4355/4355 [==============================] - 13s 3ms/step - loss: 0.3476 - accuracy: 0.3062 - val_loss: 0.3471 - val_accuracy: 0.3070\n",
            "Epoch 5/5\n",
            "4355/4355 [==============================] - 13s 3ms/step - loss: 0.3466 - accuracy: 0.3062 - val_loss: 0.3461 - val_accuracy: 0.3070\n",
            "2333/2333 [==============================] - 5s 2ms/step - loss: 0.3463 - accuracy: 0.3037\n",
            "Test Accuracy:  0.3037240505218506\n",
            "2333/2333 [==============================] - 3s 1ms/step\n"
          ]
        }
      ],
      "source": [
        "# Create the Model\n",
        "model = Sequential([\n",
        "    Dense(128, activation='relu', input_shape=(X_train.shape[1],)),\n",
        "    Dropout(0.6),\n",
        "    Dense(64, activation='relu'),\n",
        "    Dropout(0.6),\n",
        "    Dense(9, activation='softmax')\n",
        "])\n",
        "\n",
        "# Compile the Model\n",
        "model.compile(optimizer='ftrl', loss='poisson', metrics=['accuracy'])\n",
        "\n",
        "# Train the Model\n",
        "model.fit(X_train, y_train, epochs=5, batch_size=32, validation_split=0.2)\n",
        "\n",
        "# Evaluate the Model:\n",
        "loss, accuracy = model.evaluate(X_test, y_test)\n",
        "print(\"Test Accuracy: \", accuracy)\n",
        "\n",
        "# Make Predictions:\n",
        "predictions = model.predict(X_test)"
      ]
    },
    {
      "cell_type": "markdown",
      "metadata": {
        "id": "haDuqLGgkBBT"
      },
      "source": [
        "# Experiment #10"
      ]
    },
    {
      "cell_type": "code",
      "execution_count": null,
      "metadata": {
        "colab": {
          "base_uri": "https://localhost:8080/"
        },
        "id": "DX70m74bkCRn",
        "outputId": "b9b1e33d-fda7-414c-d636-7ea9570cd553"
      },
      "outputs": [
        {
          "name": "stderr",
          "output_type": "stream",
          "text": [
            "/usr/local/lib/python3.10/dist-packages/keras/optimizers/legacy/adam.py:117: UserWarning: The `lr` argument is deprecated, use `learning_rate` instead.\n",
            "  super().__init__(name, **kwargs)\n"
          ]
        },
        {
          "name": "stdout",
          "output_type": "stream",
          "text": [
            "Epoch 1/5\n",
            "4355/4355 [==============================] - 16s 3ms/step - loss: 0.0068 - accuracy: 0.9190 - val_loss: 8.6952e-04 - val_accuracy: 0.9906\n",
            "Epoch 2/5\n",
            "4355/4355 [==============================] - 14s 3ms/step - loss: 0.0013 - accuracy: 0.9862 - val_loss: 7.1514e-04 - val_accuracy: 0.9906\n",
            "Epoch 3/5\n",
            "4355/4355 [==============================] - 17s 4ms/step - loss: 6.6184e-04 - accuracy: 0.9926 - val_loss: 3.0689e-09 - val_accuracy: 1.0000\n",
            "Epoch 4/5\n",
            "4355/4355 [==============================] - 15s 3ms/step - loss: 2.6996e-04 - accuracy: 0.9971 - val_loss: 2.2473e-10 - val_accuracy: 1.0000\n",
            "Epoch 5/5\n",
            "4355/4355 [==============================] - 14s 3ms/step - loss: 2.3514e-04 - accuracy: 0.9974 - val_loss: 5.5347e-10 - val_accuracy: 1.0000\n",
            "2333/2333 [==============================] - 5s 2ms/step - loss: 1.0342e-09 - accuracy: 1.0000\n",
            "Test Accuracy:  1.0\n",
            "2333/2333 [==============================] - 6s 2ms/step\n"
          ]
        }
      ],
      "source": [
        "from tensorflow.keras.optimizers import Adam, legacy\n",
        "\n",
        "# Create the Model\n",
        "model = Sequential([\n",
        "    Dense(128, activation='relu', input_shape=(X_train.shape[1],)),\n",
        "    Dropout(0.5),\n",
        "    Dense(64, activation='tanh'),\n",
        "    Dropout(0.5),\n",
        "    Dense(9, activation='softmax')\n",
        "])\n",
        "\n",
        "# Compile the Model\n",
        "optimizer = legacy.Adam(lr=0.001, beta_1=0.9, beta_2=0.999, epsilon=None, decay=0.0, amsgrad=False)\n",
        "model.compile(optimizer=optimizer, loss='huber_loss', metrics=['accuracy'])\n",
        "\n",
        "# Train the Model\n",
        "model.fit(X_train, y_train, epochs=5, batch_size=32, validation_split=0.2)\n",
        "\n",
        "# Evaluate the Model:\n",
        "loss, accuracy = model.evaluate(X_test, y_test)\n",
        "print(\"Test Accuracy: \", accuracy)\n",
        "\n",
        "# Make Predictions:\n",
        "predictions = model.predict(X_test)"
      ]
    }
  ],
  "metadata": {
    "accelerator": "TPU",
    "colab": {
      "collapsed_sections": [
        "Hq6evaHazzT2",
        "sii_ld0KTLlT",
        "eSm0Iq2ZgOXy",
        "eBryLjvZIw0G",
        "VnSx9PYLec8a",
        "gwGU0gKViy6n",
        "pLsKutM9jZTz",
        "FGX5JPKkj6QW",
        "SNwrhvplj7qa",
        "7nHavOghj88G",
        "am-_i3Nnj-Ff",
        "X09_w7Amj_IL",
        "j0mErQiTkAGU",
        "haDuqLGgkBBT"
      ],
      "provenance": []
    },
    "kernelspec": {
      "display_name": "Python 3",
      "name": "python3"
    },
    "language_info": {
      "codemirror_mode": {
        "name": "ipython",
        "version": 3
      },
      "file_extension": ".py",
      "mimetype": "text/x-python",
      "name": "python",
      "nbconvert_exporter": "python",
      "pygments_lexer": "ipython3",
      "version": "3.10.0"
    }
  },
  "nbformat": 4,
  "nbformat_minor": 0
}
