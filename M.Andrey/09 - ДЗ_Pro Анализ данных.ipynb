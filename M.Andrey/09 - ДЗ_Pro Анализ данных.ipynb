{
  "cells": [
    {
      "cell_type": "markdown",
      "metadata": {
        "id": "UAwsXpWwXmCE"
      },
      "source": [
        "# Домашнее задание\n",
        "Анализ данных\n",
        "\n",
        "# Pro\n",
        "\n",
        "Возьмите базу квартир (moscow.csv). Проведите парсинг и очистку данных. Проанализируйте зависимость стоимости квартир от различных параметров (количество комнат, станции метро и т. д.). Постройте графики.\n"
      ]
    },
    {
      "cell_type": "markdown",
      "metadata": {},
      "source": [
        "--- ЗАГРУЗКА МОДУЛЕЙ И БИБЛИОТЕК"
      ]
    },
    {
      "cell_type": "code",
      "execution_count": 1,
      "metadata": {
        "id": "RaEsUyCxuYA7"
      },
      "outputs": [],
      "source": [
        "import gdown                                                         # Загрузка файлов из облака\n",
        "import pandas as pd                                                  # Загрузка библотеки pandas\n",
        "from pylab import rcParams\n",
        "import seaborn as sns                                                # seaborn для графиков\n",
        "import numpy as np                                                   # Загрузка библиотеки для работы с массивами данных\n",
        "import matplotlib.pyplot as plt                                      # Загрузка библиотеки для построения графиковн7г\n",
        "import re                                                            # Регулярные выражения\n",
        "# Команда для отображения графики в ячейках\n",
        "%matplotlib inline"
      ]
    },
    {
      "cell_type": "markdown",
      "metadata": {},
      "source": [
        "--- ЗАГРУЗКА, ОБРАБОТКА БД КОПИЯ"
      ]
    },
    {
      "cell_type": "code",
      "execution_count": null,
      "metadata": {},
      "outputs": [],
      "source": [
        "                                                                     # Обработка базы\n",
        "                                                                     # Загружаем базу данных с гугл драйв\n",
        "gdown.download('https://drive.google.com/uc?id=1dmrOlzMfy_7RkveIHRxBD6wmdgqi_Gfh', None, quiet=True)\n",
        "                                                                     # Создадаю переменную data, в которую с помощью функции pd.read_csv() загружаю данные из файла\n",
        "data = pd.read_csv('moscow.csv', sep=\";\")   \n",
        "data_copy = data.copy()                                              # Создайте копию датасета, чтобы избежать изменения оригинального\n",
        "data_copy.head(5)                                                    # Ввыводим первые 10 строк базы данных"
      ]
    },
    {
      "cell_type": "markdown",
      "metadata": {},
      "source": [
        "--- РЕДАКТИРОВАНИЕ БД ЗАМЕНА, УДАЛЕНИЕ ЭЛЕМЕНТОВ"
      ]
    },
    {
      "cell_type": "code",
      "execution_count": null,
      "metadata": {},
      "outputs": [],
      "source": [
        "df = data_copy[data_copy['Комнат'] != 'Для заметок:']               # Сохраняем в переменную df новый датафрейм без строк для заметок\n",
        "df = df.reset_index(drop = True)                                    # Переиндексация строк в базе данных\n",
        "del df['ГРМ']                                                       # Удаляем столбец ГРМ\n",
        "del df['Примечание']\n",
        "df['Балкон'].fillna('Отсутствует', inplace=True)                    # Заменяем NaN в столбце Балкон на Отсутствует\n",
        "df['Санузел'].fillna('Отсутствует', inplace=True)                   # Заменяем NaN На отсутствует в колонкеСанузел\n",
        "df.loc[df['Бонус агенту'].isna(), 'Бонус агенту'] = 0               # Задаем значение 0 для Nan-значений в столбце Бонус агенту\n",
        "df.head(5)"
      ]
    },
    {
      "cell_type": "markdown",
      "metadata": {},
      "source": [
        "--- РЕДАКТИРОВАНИЕ БД ЗАМЕНА, УДАЛЕНИЕ ЭЛЕМЕНТОВ"
      ]
    },
    {
      "cell_type": "code",
      "execution_count": 5,
      "metadata": {},
      "outputs": [],
      "source": [
        "# Меняем значения NaN на 0 а остальные значения приводим в нормальный вид\n",
        "pd.options.mode.chained_assignment = None                           # Отключаем warnings\n",
        "bonus = df['Бонус агенту']                                          # Помещаем столбец бонус агенту в переменную - bonus\n",
        "coast = df['Цена, руб.']                                            # Помещаем столбец ценаб руб. в переменную - coast\n",
        "            \n",
        "for i in range(len(bonus)):                                         # Проходим по всем значениям столбца Бонус агенту\n",
        "    if isinstance(bonus[i], str) and 'руб.' in bonus[i]:            # Проверяем что элемент строка str и есть подстрока руб.\n",
        "        bonus[i] = bonus[i][:bonus[i].find('руб.')]                 # Оставляем тоолько сумму и убираем руб\n",
        "        bonus[i] = bonus[i].replace(' ', '')                        # Удаляем лишние пробелы в строке\n",
        "        bonus[i] = float(bonus[i])                                  # Переводим строку в float\n",
        "        bonus[i] / 1000                                             # Делим оставшееся число на 1000\n",
        "    elif isinstance(bonus[i],str) and '%' in bonus[i]:              # Проверяем что элемент строка str и есть подстрока %.\n",
        "        bonus[i] = bonus[i][:bonus[i].find('%')]                    # Оставляем тоолько число и убираем %\n",
        "        bonus[i] = bonus[i].replace(' ', '')                        # Удаляем лишние пробелы в строке\n",
        "        bonus[i] = float(bonus[i])                                  # Переводим строку в float\n",
        "        bonus[i] = bonus[i] / 100 * coast[1]                        # Делим на 100 (так как это проценты) и Умножаем на значение сделки\n",
        "        bonus[i] = bonus[i] /1000                                   # Делим на 1000\n",
        "df['Бонус агенту'] = bonus                                          # формированный массив присваиваем к столбцу"
      ]
    },
    {
      "cell_type": "markdown",
      "metadata": {},
      "source": [
        "--- РЕДАКТИРОВАНИЕ БД ЗАМЕНА, УДАЛЕНИЕ ЭЛЕМЕНТОВ"
      ]
    },
    {
      "cell_type": "code",
      "execution_count": 6,
      "metadata": {},
      "outputs": [],
      "source": [
        "strg = df['Площадь']                                                # вкладываем в переменную столбец площадь\n",
        "def parse_area(strg):                                               # Создаем функцию для парсинга площади\n",
        "    if '/' in strg:                                                 # Проверяем, есть ли символ \"/\" в строке\n",
        "        strg = strg.split('/')[0]                                   # Если есть, разделяем строку по \"/\" и берем только первую часть (площадь)\n",
        "    strg = re.sub(r'[^0-9.]', '', strg)                             # Убираем недопустимые символы из строки, оставляем только цифры и точку\n",
        "    try:\n",
        "        result = float(strg)                                        # Пытаемся преобразовать строку в число с плавающей запятой\n",
        "    except ValueError:\n",
        "        result = 0.0                                                # Если не удалось преобразовать, устанавливаем результат как 0.0\n",
        "    return result                                                   # Возвращаем полученное значение площади\n",
        "\n",
        "df['Площадь'] = df['Площадь'].apply(parse_area)                     # Применяем функцию parse_area к столбцу 'Площадь' в DataFrame"
      ]
    },
    {
      "cell_type": "markdown",
      "metadata": {},
      "source": [
        "--- ПОДСЧЕТ ОБЩЕЙ ПЛОЩАДИ В БД В СТОЛБЦЕ ПЛОЩАДЬ"
      ]
    },
    {
      "cell_type": "code",
      "execution_count": 7,
      "metadata": {},
      "outputs": [
        {
          "name": "stdout",
          "output_type": "stream",
          "text": [
            "Общая площадь квартир в дата сете - 8354103.8 квм\n"
          ]
        }
      ],
      "source": [
        "\n",
        "# Вычисляем общую площадь квартир в Дата сете\n",
        "maxs = df['Площадь'].sum()\n",
        "print(f'Общая площадь квартир в дата сете - {maxs} квм')"
      ]
    },
    {
      "cell_type": "markdown",
      "metadata": {},
      "source": [
        "--- НАСТРОЙКИ ОТОБРАЖЕНИЯ ГРАФИКОВ"
      ]
    },
    {
      "cell_type": "code",
      "execution_count": 8,
      "metadata": {},
      "outputs": [],
      "source": [
        "rcParams['figure.figsize'] = 10, 5                                  # Увеличим дефолтный размер графиков\n",
        "sns.set(style='whitegrid', palette='muted')                         # Включаем режим seaborn. Теперь даже методы от matplotlib будут отображаться в этом стиле\n",
        "%config InlineBackend.figure_format = 'svg'                         # Формат графиков в svg"
      ]
    },
    {
      "cell_type": "markdown",
      "metadata": {},
      "source": [
        "--- СТОИМОСТЬ ОДНОКОМНАТНЫХ КВАРТИР"
      ]
    },
    {
      "cell_type": "code",
      "execution_count": null,
      "metadata": {},
      "outputs": [],
      "source": [
        "plot = df[df['Комнат' ] == '1']['Цена, руб.'].value_counts().iloc[:50].plot(kind='bar', label='Стоимость')  # Первые 50 частых стоимостей однокомнатных квартир\n",
        "plt.title('Однокомнатные квартиры') # Название графика\n",
        "plot.locator_params(nbins=50)       # Указываем число бинов\n",
        "\n",
        "plt.xlabel('Стоимость') # Подпись оси x\n",
        "plt.ylabel('Число повторений') # Подпись оси y\n",
        "plt.legend() # Выводим легенду\n",
        "plt.show()   # Показываем график"
      ]
    },
    {
      "cell_type": "markdown",
      "metadata": {},
      "source": [
        "--- СТОИМОСТЬ ДВУХКОМНАТНЫХ КВАРТИР"
      ]
    },
    {
      "cell_type": "code",
      "execution_count": null,
      "metadata": {},
      "outputs": [],
      "source": [
        "plot = df[df['Комнат' ] == '2']['Цена, руб.'].value_counts().iloc[:50].plot(kind='bar', label='Стоимость')  # Первые 25 частых стоимостей однокомнатных квартир\n",
        "plt.title('Двухкомнатные квартиры') # Название графика\n",
        "plot.locator_params(nbins=50)       # Указываем число бинов\n",
        "\n",
        "plt.xlabel('Стоимость') # Подпись оси x\n",
        "plt.ylabel('Число повторений') # Подпись оси y\n",
        "plt.legend() # Выводим легенду\n",
        "plt.show()   # Показываем график"
      ]
    },
    {
      "cell_type": "markdown",
      "metadata": {},
      "source": [
        "--- ПРЕДЛОЖЕНИЯ ПО КВАРТИРАМ В БЛИЗИ ОТ МЕТРО"
      ]
    },
    {
      "cell_type": "code",
      "execution_count": null,
      "metadata": {},
      "outputs": [],
      "source": [
        "# Посмотрим подробную информацию о всех доступных предложениях вблизи разных станций метро. Сортировка по количеству\n",
        "df.groupby('Метро / ЖД станции')['Цена, руб.'].describe().sort_values(by='count', ascending=False)"
      ]
    },
    {
      "cell_type": "markdown",
      "metadata": {},
      "source": [
        "--- Какая средняя стоимость квартир вблизи от различных станций метро?"
      ]
    },
    {
      "cell_type": "code",
      "execution_count": null,
      "metadata": {},
      "outputs": [],
      "source": [
        "# Посмотрим подробную информацию о всех доступных предложениях вблизи разных станций метро. Сортировка по средней цене\n",
        "df.groupby('Метро / ЖД станции')['Цена, руб.'].describe().sort_values(by='mean', ascending=False)"
      ]
    },
    {
      "cell_type": "markdown",
      "metadata": {},
      "source": [
        "--- Наглядное представление о количестве предложений вблизи от станций метро."
      ]
    },
    {
      "cell_type": "code",
      "execution_count": null,
      "metadata": {},
      "outputs": [],
      "source": [
        "# Построим scatter зависимости количества предложений по станциям\n",
        "plot = sns.catplot(x='Метро / ЖД станции', y='count', data=df.groupby('Метро / ЖД станции')['Цена, руб.'].describe().sort_values(by='count', ascending=False).iloc[:125].reset_index(), height=5, aspect=3);\n",
        "plt.xticks(rotation=90) # Поворачиваем подписи метро на 90 градусов\n",
        "\n",
        "plt.title('Количество предложений по станциям') # Подпись графика\n",
        "plt.show() # Показываем график"
      ]
    },
    {
      "cell_type": "markdown",
      "metadata": {},
      "source": [
        "--- Наглядное представление о средней цене квартир вблизи от станций метро."
      ]
    },
    {
      "cell_type": "code",
      "execution_count": null,
      "metadata": {},
      "outputs": [],
      "source": [
        "# Построим scatter зависимости стоимости от цены\n",
        "plot = sns.catplot(x='Метро / ЖД станции', y='mean', data=df.groupby('Метро / ЖД станции')['Цена, руб.'].describe().sort_values(by='mean', ascending=False).iloc[:125].reset_index(), height=5, aspect=3);\n",
        "plt.xticks(rotation=90) # Поворачиваем подписи метро на 90 градусов\n",
        "\n",
        "plt.title('Средняя стоимость по станциям') # Подпись графика\n",
        "plt.show() # Показываем график"
      ]
    },
    {
      "cell_type": "markdown",
      "metadata": {},
      "source": [
        "--- Как зависит средняя цена квартиры от числа предложений?"
      ]
    },
    {
      "cell_type": "code",
      "execution_count": null,
      "metadata": {},
      "outputs": [],
      "source": [
        "# Построим зависимость числа предложений от цены\n",
        "sns.lmplot(data = df.groupby('Метро / ЖД станции')['Цена, руб.'].describe().sort_values(by='mean', ascending=False).reset_index(), x = 'mean', y='count')\n",
        "plt.title('Зависимость числа предложений от цены')\n",
        "plt.show()"
      ]
    },
    {
      "cell_type": "markdown",
      "metadata": {},
      "source": [
        "--- Как влияет наличие балкона на стоимость?"
      ]
    },
    {
      "cell_type": "code",
      "execution_count": null,
      "metadata": {},
      "outputs": [],
      "source": [
        "# Группируем по наличию балкона\n",
        "# Целевая переменная - Цена, тыс. руб., находим среднее значение для каждой станции\n",
        "data = df.groupby('Балкон')['Цена, руб.'].mean() # Средняя стоимость для квартир, разбитых на группы по типам балконов\n",
        "data.plot() # Рисуем график\n",
        "\n",
        "xticksList = data.index.values # Определяем список значений для оси x\n",
        "plt.xticks(np.arange(xticksList.shape[0]), xticksList, rotation=45) # Переходим от численных подписей к категориальным. Поворачиваем текст на 45 градусов, чтобы подписи не заходили друг на друга\n",
        "plt.xlabel('Тип балкона') # Подпись оси x\n",
        "plt.ylabel('Средняя стоимость') # Подпись оси y\n",
        "plt.title('Оценка средней стоимости по наличию балкона') # Подпись графика\n",
        "plt.legend() # Выводим легенду\n",
        "plt.show()   # Показываем график"
      ]
    },
    {
      "cell_type": "markdown",
      "metadata": {},
      "source": [
        "--- Как влияет наличие санузла на стоимость?"
      ]
    },
    {
      "cell_type": "code",
      "execution_count": null,
      "metadata": {},
      "outputs": [],
      "source": [
        "# Группируем по наличию санузла\n",
        "# Целевая переменная - Цена, руб., находим среднее значение для каждой станции\n",
        "data = df.groupby('Санузел')['Цена, руб.'].mean() # Средняя стоимость для квартир, разбитых на группы по типам санузлов\n",
        "data.plot() # Рисуем график\n",
        "\n",
        "xticksList = data.index.values  # Определяем список значений для оси x\n",
        "plt.xticks(np.arange(xticksList.shape[0]), xticksList, rotation=45) # Переходим от численных подписей к категориальным. Поворачиваем текст на 45 градусов, чтобы подписи не заходили друг на друга\n",
        "plt.xlabel('Тип санузла')       # Подпись оси x\n",
        "plt.ylabel('Средняя стоимость') # Подпись оси y\n",
        "\n",
        "plt.title('Оценка средней стоимости по наличию санузла') # Подпись графика\n",
        "plt.legend() # Подпись графика\n",
        "plt.show()   # Показываем график"
      ]
    },
    {
      "cell_type": "markdown",
      "metadata": {},
      "source": [
        "--- Как площадь влияет на стоимость?"
      ]
    },
    {
      "cell_type": "code",
      "execution_count": null,
      "metadata": {},
      "outputs": [],
      "source": [
        "# Построим scatter зависимости площади от цены\n",
        "sns.lmplot(data = df, x = 'Площадь', y='Цена, руб.')\n",
        "plt.title('Стоимость в зависимости от площади')\n",
        "plt.show()"
      ]
    },
    {
      "cell_type": "code",
      "execution_count": null,
      "metadata": {},
      "outputs": [],
      "source": [
        "# Построим scatter зависимости площади от цены для квартир до 300 кв. м\n",
        "sns.lmplot(data = df[df['Площадь'] < 300], x = 'Площадь', y='Цена, руб.')\n",
        "plt.title('Стоимость в зависимости от площади')\n",
        "plt.show()"
      ]
    },
    {
      "cell_type": "code",
      "execution_count": null,
      "metadata": {},
      "outputs": [],
      "source": [
        "# Группируем по площади и находим среднее значение для каждой станции\n",
        "mean_prices = df.groupby('Площадь')['Цена, руб.'].mean()\n",
        "# Ограничиваем данные для площадей от 0 до 750 с шагом 5, используя .loc\n",
        "mean_prices = mean_prices.loc[:750:5]\n",
        "\n",
        "# Построение графика\n",
        "mean_prices.plot()\n",
        "plt.xlabel('Площадь')\n",
        "plt.ylabel('Средняя стоимость')\n",
        "plt.title('Оценка средней стоимости по площади')\n",
        "plt.show()"
      ]
    },
    {
      "cell_type": "markdown",
      "metadata": {},
      "source": [
        "--- Допустим, нас интересуют предложения на станции метро Курская. Какие цены чаще всего встречаются для этой станции?"
      ]
    },
    {
      "cell_type": "code",
      "execution_count": null,
      "metadata": {},
      "outputs": [],
      "source": [
        "plot = df[df['Метро / ЖД станции'] == 'Курская м.']['Цена, руб.'].value_counts().iloc[:25].plot(kind='bar', label='Стоимость')  # Первые 25 стоимостей квартир на станции метро Курская\n",
        "plt.title('Квартиры на станции \"Курская\"') # Подпись графика\n",
        "plot.locator_params(nbins=25)  # Число бинов\n",
        "plt.xlabel('Стоимость')        # Подпись оси x\n",
        "plt.ylabel('Число повторений') # Подпись оси y\n",
        "plt.legend() # Выводим легенду\n",
        "plt.show()   # Показываем график"
      ]
    }
  ],
  "metadata": {
    "colab": {
      "provenance": []
    },
    "kernelspec": {
      "display_name": "Python 3",
      "name": "python3"
    },
    "language_info": {
      "codemirror_mode": {
        "name": "ipython",
        "version": 3
      },
      "file_extension": ".py",
      "mimetype": "text/x-python",
      "name": "python",
      "nbconvert_exporter": "python",
      "pygments_lexer": "ipython3",
      "version": "3.12.0"
    }
  },
  "nbformat": 4,
  "nbformat_minor": 0
}
