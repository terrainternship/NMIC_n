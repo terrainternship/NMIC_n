{
  "cells": [
    {
      "cell_type": "markdown",
      "metadata": {
        "id": "31cbeZ-A5L3N"
      },
      "source": [
        "На базе баскетбольных матчей добейтесь средней абсолютной ошибки 17 и менее очков."
      ]
    },
    {
      "cell_type": "code",
      "execution_count": 3,
      "metadata": {},
      "outputs": [],
      "source": [
        "# Импорт необходимых библиотек\n",
        "import pandas as pd\n",
        "import numpy as np\n",
        "import tensorflow as tf\n",
        "from tensorflow.keras.models import Model\n",
        "from tensorflow.keras.layers import Input, Dense, concatenate\n",
        "from tensorflow.keras.optimizers import Adam\n",
        "import matplotlib.pyplot as plt\n",
        "import gdown"
      ]
    },
    {
      "cell_type": "code",
      "execution_count": 5,
      "metadata": {},
      "outputs": [
        {
          "data": {
            "text/html": [
              "<div>\n",
              "<style scoped>\n",
              "    .dataframe tbody tr th:only-of-type {\n",
              "        vertical-align: middle;\n",
              "    }\n",
              "\n",
              "    .dataframe tbody tr th {\n",
              "        vertical-align: top;\n",
              "    }\n",
              "\n",
              "    .dataframe thead th {\n",
              "        text-align: right;\n",
              "    }\n",
              "</style>\n",
              "<table border=\"1\" class=\"dataframe\">\n",
              "  <thead>\n",
              "    <tr style=\"text-align: right;\">\n",
              "      <th></th>\n",
              "      <th>TOTAL</th>\n",
              "      <th>info</th>\n",
              "      <th>Ком. 1</th>\n",
              "      <th>Ком. 2</th>\n",
              "      <th>Минута</th>\n",
              "      <th>Общая минута</th>\n",
              "      <th>Секунда</th>\n",
              "      <th>fcount</th>\n",
              "      <th>ftime</th>\n",
              "    </tr>\n",
              "  </thead>\n",
              "  <tbody>\n",
              "    <tr>\n",
              "      <th>0</th>\n",
              "      <td>98,5</td>\n",
              "      <td>4081445 Новая Зеландия. Женщины. WBC. Регулярн...</td>\n",
              "      <td>2</td>\n",
              "      <td>0.0</td>\n",
              "      <td>1</td>\n",
              "      <td>1.0</td>\n",
              "      <td>30</td>\n",
              "      <td>81</td>\n",
              "      <td>90.0</td>\n",
              "    </tr>\n",
              "    <tr>\n",
              "      <th>1</th>\n",
              "      <td>100,5</td>\n",
              "      <td>4081445 Новая Зеландия. Женщины. WBC. Регулярн...</td>\n",
              "      <td>2</td>\n",
              "      <td>2.0</td>\n",
              "      <td>1</td>\n",
              "      <td>1.0</td>\n",
              "      <td>45</td>\n",
              "      <td>81</td>\n",
              "      <td>105.0</td>\n",
              "    </tr>\n",
              "    <tr>\n",
              "      <th>2</th>\n",
              "      <td>99,5</td>\n",
              "      <td>4081445 Новая Зеландия. Женщины. WBC. Регулярн...</td>\n",
              "      <td>2</td>\n",
              "      <td>2.0</td>\n",
              "      <td>2</td>\n",
              "      <td>2.0</td>\n",
              "      <td>0</td>\n",
              "      <td>81</td>\n",
              "      <td>120.0</td>\n",
              "    </tr>\n",
              "    <tr>\n",
              "      <th>3</th>\n",
              "      <td>98,5</td>\n",
              "      <td>4081445 Новая Зеландия. Женщины. WBC. Регулярн...</td>\n",
              "      <td>2</td>\n",
              "      <td>2.0</td>\n",
              "      <td>2</td>\n",
              "      <td>2.0</td>\n",
              "      <td>30</td>\n",
              "      <td>81</td>\n",
              "      <td>150.0</td>\n",
              "    </tr>\n",
              "    <tr>\n",
              "      <th>4</th>\n",
              "      <td>95,5</td>\n",
              "      <td>4081445 Новая Зеландия. Женщины. WBC. Регулярн...</td>\n",
              "      <td>2</td>\n",
              "      <td>2.0</td>\n",
              "      <td>3</td>\n",
              "      <td>3.0</td>\n",
              "      <td>0</td>\n",
              "      <td>81</td>\n",
              "      <td>180.0</td>\n",
              "    </tr>\n",
              "  </tbody>\n",
              "</table>\n",
              "</div>"
            ],
            "text/plain": [
              "   TOTAL                                               info  Ком. 1  Ком. 2  \\\n",
              "0   98,5  4081445 Новая Зеландия. Женщины. WBC. Регулярн...       2     0.0   \n",
              "1  100,5  4081445 Новая Зеландия. Женщины. WBC. Регулярн...       2     2.0   \n",
              "2   99,5  4081445 Новая Зеландия. Женщины. WBC. Регулярн...       2     2.0   \n",
              "3   98,5  4081445 Новая Зеландия. Женщины. WBC. Регулярн...       2     2.0   \n",
              "4   95,5  4081445 Новая Зеландия. Женщины. WBC. Регулярн...       2     2.0   \n",
              "\n",
              "   Минута  Общая минута  Секунда  fcount  ftime  \n",
              "0       1           1.0       30      81   90.0  \n",
              "1       1           1.0       45      81  105.0  \n",
              "2       2           2.0        0      81  120.0  \n",
              "3       2           2.0       30      81  150.0  \n",
              "4       3           3.0        0      81  180.0  "
            ]
          },
          "execution_count": 5,
          "metadata": {},
          "output_type": "execute_result"
        }
      ],
      "source": [
        "# Загрузка данных\n",
        "gdown.download('https://storage.yandexcloud.net/aiueducation/Content/base/l10/basketball.csv', None, quiet=True)\n",
        "df = pd.read_csv('basketball.csv', encoding='cp1251', sep=';', header=0, index_col=0)\n",
        "df.head()"
      ]
    },
    {
      "cell_type": "code",
      "execution_count": 6,
      "metadata": {},
      "outputs": [],
      "source": [
        "# Токенизация текстовых данных\n",
        "from tensorflow.keras.preprocessing.text import Tokenizer\n",
        "maxWordsCount = 5000\n",
        "tokenizer = Tokenizer(num_words=maxWordsCount, lower=True, split=' ', oov_token='unknown')\n",
        "tokenizer.fit_on_texts(df['info'].values)"
      ]
    },
    {
      "cell_type": "code",
      "execution_count": 7,
      "metadata": {},
      "outputs": [],
      "source": [
        "# Преобразование в Bag of Words\n",
        "xBOW_text = tokenizer.texts_to_matrix(df['info'].values)"
      ]
    },
    {
      "cell_type": "code",
      "execution_count": 8,
      "metadata": {},
      "outputs": [],
      "source": [
        "# Подготовка числовых данных\n",
        "xTrain = np.array(df[['Ком. 1','Ком. 2', 'Минута', 'Секунда','ftime']].astype('int')) \n",
        "yTrain = np.array(df['fcount'].astype('int')) "
      ]
    },
    {
      "cell_type": "markdown",
      "metadata": {},
      "source": [
        "### Создание модели"
      ]
    },
    {
      "cell_type": "code",
      "execution_count": 9,
      "metadata": {},
      "outputs": [
        {
          "name": "stdout",
          "output_type": "stream",
          "text": [
            "WARNING:tensorflow:From c:\\Users\\kupi5\\AppData\\Local\\Programs\\Python\\Python311\\Lib\\site-packages\\keras\\src\\backend.py:1398: The name tf.executing_eagerly_outside_functions is deprecated. Please use tf.compat.v1.executing_eagerly_outside_functions instead.\n",
            "\n"
          ]
        }
      ],
      "source": [
        "# Вход для числовых данных\n",
        "input_numeric = Input(shape=(xTrain.shape[1],))\n",
        "# Вход для текстовых данных\n",
        "input_text = Input(shape=(xBOW_text.shape[1],))\n",
        "\n",
        "# Полносвязные слои для числовых данных\n",
        "numeric_layers = Dense(128, activation='relu')(input_numeric)\n",
        "numeric_layers = Dense(64, activation='relu')(numeric_layers)\n",
        "\n",
        "# Полносвязные слои для текстовых данных\n",
        "text_layers = Dense(128, activation='relu')(input_text)\n",
        "text_layers = Dense(64, activation='relu')(text_layers)\n",
        "\n",
        "# Объединение двух потоков\n",
        "combined = concatenate([numeric_layers, text_layers])\n",
        "\n",
        "# Полносвязный слой после объединения\n",
        "combined_layers = Dense(64, activation='relu')(combined)\n",
        "output = Dense(1, activation='linear')(combined_layers)\n",
        "\n",
        "# Создание модели\n",
        "model = Model(inputs=[input_numeric, input_text], outputs=output)\n",
        "\n",
        "# Компиляция модели\n",
        "model.compile(optimizer=Adam(learning_rate=0.001), loss='mean_absolute_error')\n",
        "\n"
      ]
    },
    {
      "cell_type": "markdown",
      "metadata": {},
      "source": [
        "### Обучение модели"
      ]
    },
    {
      "cell_type": "code",
      "execution_count": 10,
      "metadata": {},
      "outputs": [
        {
          "name": "stdout",
          "output_type": "stream",
          "text": [
            "Epoch 1/10\n",
            "WARNING:tensorflow:From c:\\Users\\kupi5\\AppData\\Local\\Programs\\Python\\Python311\\Lib\\site-packages\\keras\\src\\utils\\tf_utils.py:492: The name tf.ragged.RaggedTensorValue is deprecated. Please use tf.compat.v1.ragged.RaggedTensorValue instead.\n",
            "\n",
            "328/328 [==============================] - 5s 11ms/step - loss: 17.8329 - val_loss: 29.5215\n",
            "Epoch 2/10\n",
            "328/328 [==============================] - 3s 9ms/step - loss: 2.0423 - val_loss: 29.2681\n",
            "Epoch 3/10\n",
            "328/328 [==============================] - 3s 9ms/step - loss: 1.7087 - val_loss: 28.9972\n",
            "Epoch 4/10\n",
            "328/328 [==============================] - 3s 9ms/step - loss: 1.4269 - val_loss: 29.5381\n",
            "Epoch 5/10\n",
            "328/328 [==============================] - 3s 9ms/step - loss: 1.2816 - val_loss: 29.6190\n",
            "Epoch 6/10\n",
            "328/328 [==============================] - 3s 9ms/step - loss: 1.2030 - val_loss: 30.1307\n",
            "Epoch 7/10\n",
            "328/328 [==============================] - 4s 13ms/step - loss: 1.2178 - val_loss: 29.8281\n",
            "Epoch 8/10\n",
            "328/328 [==============================] - 10s 30ms/step - loss: 1.0801 - val_loss: 30.0215\n",
            "Epoch 9/10\n",
            "328/328 [==============================] - 8s 24ms/step - loss: 1.0234 - val_loss: 29.8713\n",
            "Epoch 10/10\n",
            "328/328 [==============================] - 4s 13ms/step - loss: 1.0112 - val_loss: 29.6907\n"
          ]
        }
      ],
      "source": [
        "history = model.fit([xTrain, xBOW_text], yTrain, epochs=10, batch_size=128, validation_split=0.2)"
      ]
    },
    {
      "cell_type": "markdown",
      "metadata": {},
      "source": [
        "### Оценка модели"
      ]
    },
    {
      "cell_type": "code",
      "execution_count": 11,
      "metadata": {},
      "outputs": [
        {
          "name": "stdout",
          "output_type": "stream",
          "text": [
            "1640/1640 [==============================] - 4s 2ms/step\n",
            "Средняя абсолютная ошибка: 6.786 очков\n"
          ]
        },
        {
          "data": {
            "image/png": "[encoded data removed]",
            "text/plain": [
              "<Figure size 640x480 with 1 Axes>"
            ]
          },
          "metadata": {},
          "output_type": "display_data"
        }
      ],
      "source": [
        "def check_MAE(model, x_data, x_data_text, y_data, plot=False):\n",
        "    y_pred = model.predict([x_data, x_data_text]).squeeze()\n",
        "    mae = np.mean(np.abs(y_data - y_pred))\n",
        "    print(f'Средняя абсолютная ошибка: {mae:.3f} очков')\n",
        "\n",
        "    if plot:\n",
        "        plt.scatter(y_data, y_pred)\n",
        "        plt.xlabel('Правильные значения')\n",
        "        plt.ylabel('Предсказания')\n",
        "        plt.axis('equal')\n",
        "        plt.xlim(plt.xlim())\n",
        "        plt.ylim(plt.ylim())\n",
        "        plt.plot([0, 250], [0, 250])\n",
        "        plt.show()\n",
        "\n",
        "check_MAE(model, xTrain, xBOW_text, yTrain, plot=True)"
      ]
    }
  ],
  "metadata": {
    "accelerator": "GPU",
    "colab": {
      "provenance": []
    },
    "kernelspec": {
      "display_name": "Python 3",
      "name": "python3"
    },
    "language_info": {
      "codemirror_mode": {
        "name": "ipython",
        "version": 3
      },
      "file_extension": ".py",
      "mimetype": "text/x-python",
      "name": "python",
      "nbconvert_exporter": "python",
      "pygments_lexer": "ipython3",
      "version": "3.11.6"
    }
  },
  "nbformat": 4,
  "nbformat_minor": 0
}
